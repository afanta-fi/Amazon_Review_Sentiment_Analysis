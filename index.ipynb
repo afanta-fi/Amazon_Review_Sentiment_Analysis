{
 "cells": [
  {
   "cell_type": "markdown",
   "metadata": {
    "toc": true
   },
   "source": [
    "<h1>Table of Contents<span class=\"tocSkip\"></span></h1>\n",
    "<div class=\"toc\"><ul class=\"toc-item\"><li><span><a href=\"#Business-Understanding\" data-toc-modified-id=\"Business-Understanding-1\"><span class=\"toc-item-num\">1&nbsp;&nbsp;</span>Business Understanding</a></span></li><li><span><a href=\"#Data-Understanding\" data-toc-modified-id=\"Data-Understanding-2\"><span class=\"toc-item-num\">2&nbsp;&nbsp;</span>Data Understanding</a></span></li><li><span><a href=\"#Data-Preparation\" data-toc-modified-id=\"Data-Preparation-3\"><span class=\"toc-item-num\">3&nbsp;&nbsp;</span>Data Preparation</a></span></li><li><span><a href=\"#Modeling\" data-toc-modified-id=\"Modeling-4\"><span class=\"toc-item-num\">4&nbsp;&nbsp;</span>Modeling</a></span><ul class=\"toc-item\"><li><span><a href=\"#Preprocessing-Class\" data-toc-modified-id=\"Preprocessing-Class-4.1\"><span class=\"toc-item-num\">4.1&nbsp;&nbsp;</span>Preprocessing Class</a></span></li><li><span><a href=\"#Grid-Search\" data-toc-modified-id=\"Grid-Search-4.2\"><span class=\"toc-item-num\">4.2&nbsp;&nbsp;</span>Grid Search</a></span></li><li><span><a href=\"#Model-Performance-Visualization\" data-toc-modified-id=\"Model-Performance-Visualization-4.3\"><span class=\"toc-item-num\">4.3&nbsp;&nbsp;</span>Model Performance Visualization</a></span></li><li><span><a href=\"#Shallow-Learning\" data-toc-modified-id=\"Shallow-Learning-4.4\"><span class=\"toc-item-num\">4.4&nbsp;&nbsp;</span>Shallow Learning</a></span><ul class=\"toc-item\"><li><span><a href=\"#Naive-Bayes\" data-toc-modified-id=\"Naive-Bayes-4.4.1\"><span class=\"toc-item-num\">4.4.1&nbsp;&nbsp;</span>Naive Bayes</a></span></li><li><span><a href=\"#Logistic-Regression\" data-toc-modified-id=\"Logistic-Regression-4.4.2\"><span class=\"toc-item-num\">4.4.2&nbsp;&nbsp;</span>Logistic Regression</a></span></li><li><span><a href=\"#Random-Forest\" data-toc-modified-id=\"Random-Forest-4.4.3\"><span class=\"toc-item-num\">4.4.3&nbsp;&nbsp;</span>Random Forest</a></span></li></ul></li><li><span><a href=\"#Gradient-Boosting\" data-toc-modified-id=\"Gradient-Boosting-4.5\"><span class=\"toc-item-num\">4.5&nbsp;&nbsp;</span>Gradient Boosting</a></span><ul class=\"toc-item\"><li><span><a href=\"#XGBoost\" data-toc-modified-id=\"XGBoost-4.5.1\"><span class=\"toc-item-num\">4.5.1&nbsp;&nbsp;</span>XGBoost</a></span></li><li><span><a href=\"#CatBoost\" data-toc-modified-id=\"CatBoost-4.5.2\"><span class=\"toc-item-num\">4.5.2&nbsp;&nbsp;</span>CatBoost</a></span></li></ul></li><li><span><a href=\"#Sequence-Models\" data-toc-modified-id=\"Sequence-Models-4.6\"><span class=\"toc-item-num\">4.6&nbsp;&nbsp;</span>Sequence Models</a></span><ul class=\"toc-item\"><li><span><a href=\"#Long-Short-Term-Memory\" data-toc-modified-id=\"Long-Short-Term-Memory-4.6.1\"><span class=\"toc-item-num\">4.6.1&nbsp;&nbsp;</span>Long Short Term Memory</a></span></li></ul></li><li><span><a href=\"#Transformer-Models\" data-toc-modified-id=\"Transformer-Models-4.7\"><span class=\"toc-item-num\">4.7&nbsp;&nbsp;</span>Transformer Models</a></span><ul class=\"toc-item\"><li><span><a href=\"#Bidirectional-Encoder-Representations-from-Transformers\" data-toc-modified-id=\"Bidirectional-Encoder-Representations-from-Transformers-4.7.1\"><span class=\"toc-item-num\">4.7.1&nbsp;&nbsp;</span>Bidirectional Encoder Representations from Transformers</a></span></li><li><span><a href=\"#Hugging-Face\" data-toc-modified-id=\"Hugging-Face-4.7.2\"><span class=\"toc-item-num\">4.7.2&nbsp;&nbsp;</span>Hugging Face</a></span></li></ul></li></ul></li><li><span><a href=\"#Evaluation\" data-toc-modified-id=\"Evaluation-5\"><span class=\"toc-item-num\">5&nbsp;&nbsp;</span>Evaluation</a></span><ul class=\"toc-item\"><li><span><a href=\"#Models'-Performances\" data-toc-modified-id=\"Models'-Performances-5.1\"><span class=\"toc-item-num\">5.1&nbsp;&nbsp;</span>Models' Performances</a></span></li><li><span><a href=\"#Final-Model\" data-toc-modified-id=\"Final-Model-5.2\"><span class=\"toc-item-num\">5.2&nbsp;&nbsp;</span>Final Model</a></span></li><li><span><a href=\"#Model-Interpretation\" data-toc-modified-id=\"Model-Interpretation-5.3\"><span class=\"toc-item-num\">5.3&nbsp;&nbsp;</span>Model Interpretation</a></span></li><li><span><a href=\"#API-Development\" data-toc-modified-id=\"API-Development-5.4\"><span class=\"toc-item-num\">5.4&nbsp;&nbsp;</span>API Development</a></span></li><li><span><a href=\"#Web-Deployment\" data-toc-modified-id=\"Web-Deployment-5.5\"><span class=\"toc-item-num\">5.5&nbsp;&nbsp;</span>Web Deployment</a></span></li></ul></li><li><span><a href=\"#Conclusion\" data-toc-modified-id=\"Conclusion-6\"><span class=\"toc-item-num\">6&nbsp;&nbsp;</span>Conclusion</a></span></li><li><span><a href=\"#Next-Steps\" data-toc-modified-id=\"Next-Steps-7\"><span class=\"toc-item-num\">7&nbsp;&nbsp;</span>Next Steps</a></span></li></ul></div>"
   ]
  },
  {
   "cell_type": "markdown",
   "metadata": {},
   "source": [
    "# Business Understanding"
   ]
  },
  {
   "cell_type": "markdown",
   "metadata": {},
   "source": []
  },
  {
   "cell_type": "markdown",
   "metadata": {},
   "source": [
    "# Data Understanding"
   ]
  },
  {
   "cell_type": "markdown",
   "metadata": {},
   "source": []
  },
  {
   "cell_type": "code",
   "execution_count": 1,
   "metadata": {},
   "outputs": [],
   "source": [
    "# ! pip install pyenchant \n",
    "# ! pip install autocorrect "
   ]
  },
  {
   "cell_type": "code",
   "execution_count": 2,
   "metadata": {},
   "outputs": [],
   "source": [
    "# Import important libraries\n",
    "import os\n",
    "from os import remove\n",
    "from os.path import exists\n",
    "import wget\n",
    "import zipfile\n",
    "import pandas as pd \n",
    "import numpy as np\n",
    "import bz2\n",
    "import nltk\n",
    "from nltk import pos_tag\n",
    "from nltk.corpus import wordnet, stopwords\n",
    "from nltk.probability import FreqDist\n",
    "from nltk.tokenize import regexp_tokenize, word_tokenize, RegexpTokenizer\n",
    "import re \n",
    "from autocorrect import Speller\n",
    "from enchant import request_dict\n",
    "from enchant.checker import SpellChecker\n",
    "from enchant.tokenize import EmailFilter, URLFilter\n",
    "from tqdm import tqdm\n",
    "from tqdm.contrib.concurrent import process_map \n",
    "from multiprocessing import Pool\n",
    "from time import time\n",
    "import itertools as it\n",
    "from sklearn.feature_extraction.text import CountVectorizer, TfidfVectorizer\n",
    "from sklearn.model_selection import train_test_split\n",
    "from sklearn.base import clone\n",
    "from sklearn.preprocessing import LabelEncoder, StandardScaler \n",
    "from sklearn.utils.class_weight import compute_class_weight\n",
    "from imblearn.over_sampling import SMOTE, RandomOverSampler, ADASYN\n",
    "from sklearn.model_selection import train_test_split, StratifiedKFold, GridSearchCV\n",
    "from sklearn.naive_bayes import MultinomialNB\n",
    "from sklearn.linear_model import LogisticRegression\n",
    "from sklearn.tree import DecisionTreeClassifier\n",
    "from sklearn.ensemble import RandomForestClassifier\n",
    "from xgboost.sklearn import XGBClassifier \n",
    "from catboost import CatBoostClassifier\n",
    "import tensorflow\n",
    "from tensorflow.python.keras import models, layers, optimizers\n",
    "from tensorflow.keras.preprocessing.text import Tokenizer, text_to_word_sequence\n",
    "from tensorflow.keras.preprocessing.sequence import pad_sequences\n",
    "import shap \n",
    "from sklearn.metrics import precision_score,accuracy_score,recall_score\n",
    "from sklearn.metrics import f1_score,roc_auc_score,log_loss,roc_curve,auc,confusion_matrix\n",
    "import dill as pickle\n",
    "from imblearn.pipeline import Pipeline\n",
    "from sklearn.inspection import permutation_importance\n",
    "from textwrap import wrap\n",
    "import matplotlib.pyplot as plt \n",
    "import seaborn as sns \n",
    "\n",
    "\n",
    "# Enable inline ploting\n",
    "%matplotlib inline \n",
    "SEED = 123"
   ]
  },
  {
   "cell_type": "code",
   "execution_count": 3,
   "metadata": {},
   "outputs": [
    {
     "name": "stderr",
     "output_type": "stream",
     "text": [
      "[nltk_data] Downloading package tagsets to\n",
      "[nltk_data]     C:\\Users\\zeaps\\AppData\\Roaming\\nltk_data...\n",
      "[nltk_data]   Package tagsets is already up-to-date!\n",
      "[nltk_data] Downloading package wordnet to\n",
      "[nltk_data]     C:\\Users\\zeaps\\AppData\\Roaming\\nltk_data...\n",
      "[nltk_data]   Package wordnet is already up-to-date!\n",
      "[nltk_data] Downloading package stopwords to\n",
      "[nltk_data]     C:\\Users\\zeaps\\AppData\\Roaming\\nltk_data...\n",
      "[nltk_data]   Package stopwords is already up-to-date!\n"
     ]
    },
    {
     "data": {
      "text/plain": [
       "True"
      ]
     },
     "execution_count": 3,
     "metadata": {},
     "output_type": "execute_result"
    }
   ],
   "source": [
    "nltk.download('tagsets')\n",
    "nltk.download('wordnet')\n",
    "nltk.download('stopwords')"
   ]
  },
  {
   "cell_type": "code",
   "execution_count": 4,
   "metadata": {},
   "outputs": [
    {
     "name": "stderr",
     "output_type": "stream",
     "text": [
      "Loading train data: 100%|██████████| 3600000/3600000 [00:03<00:00, 1052017.19it/s]\n"
     ]
    }
   ],
   "source": [
    "def load_data(b2z_file_loc):\n",
    "    file = bz2.BZ2File(b2z_file_loc)\n",
    "    t = tqdm(file.readlines())\n",
    "    t.set_description('Loading '+b2z_file_loc.split('/')[-1].split('.')[0]+' data')\n",
    "    return [x.decode('utf-8') for x in t]\n",
    "        \n",
    "train_file_lines = load_data('data/train.ft.txt.bz2')"
   ]
  },
  {
   "cell_type": "code",
   "execution_count": 5,
   "metadata": {},
   "outputs": [
    {
     "data": {
      "text/plain": [
       "['__label__2 Stuning even for the non-gamer: This sound track was beautiful! It paints the senery in your mind so well I would recomend it even to people who hate vid. game music! I have played the game Chrono Cross but out of all of the games I have ever played it has the best music! It backs away from crude keyboarding and takes a fresher step with grate guitars and soulful orchestras. It would impress anyone who cares to listen! ^_^\\n',\n",
       " \"__label__2 The best soundtrack ever to anything.: I'm reading a lot of reviews saying that this is the best 'game soundtrack' and I figured that I'd write a review to disagree a bit. This in my opinino is Yasunori Mitsuda's ultimate masterpiece. The music is timeless and I'm been listening to it for years now and its beauty simply refuses to fade.The price tag on this is pretty staggering I must say, but if you are going to buy any cd for this much money, this is the only one that I feel would be worth every penny.\\n\",\n",
       " '__label__2 Amazing!: This soundtrack is my favorite music of all time, hands down. The intense sadness of \"Prisoners of Fate\" (which means all the more if you\\'ve played the game) and the hope in \"A Distant Promise\" and \"Girl who Stole the Star\" have been an important inspiration to me personally throughout my teen years. The higher energy tracks like \"Chrono Cross ~ Time\\'s Scar~\", \"Time of the Dreamwatch\", and \"Chronomantique\" (indefinably remeniscent of Chrono Trigger) are all absolutely superb as well.This soundtrack is amazing music, probably the best of this composer\\'s work (I haven\\'t heard the Xenogears soundtrack, so I can\\'t say for sure), and even if you\\'ve never played the game, it would be worth twice the price to buy it.I wish I could give it 6 stars.\\n',\n",
       " \"__label__2 Excellent Soundtrack: I truly like this soundtrack and I enjoy video game music. I have played this game and most of the music on here I enjoy and it's truly relaxing and peaceful.On disk one. my favorites are Scars Of Time, Between Life and Death, Forest Of Illusion, Fortress of Ancient Dragons, Lost Fragment, and Drowned Valley.Disk Two: The Draggons, Galdorb - Home, Chronomantique, Prisoners of Fate, Gale, and my girlfriend likes ZelbessDisk Three: The best of the three. Garden Of God, Chronopolis, Fates, Jellyfish sea, Burning Orphange, Dragon's Prayer, Tower Of Stars, Dragon God, and Radical Dreamers - Unstealable Jewel.Overall, this is a excellent soundtrack and should be brought by those that like video game music.Xander Cross\\n\",\n",
       " \"__label__2 Remember, Pull Your Jaw Off The Floor After Hearing it: If you've played the game, you know how divine the music is! Every single song tells a story of the game, it's that good! The greatest songs are without a doubt, Chrono Cross: Time's Scar, Magical Dreamers: The Wind, The Stars, and the Sea and Radical Dreamers: Unstolen Jewel. (Translation varies) This music is perfect if you ask me, the best it can be. Yasunori Mitsuda just poured his heart on and wrote it down on paper.\\n\"]"
      ]
     },
     "execution_count": 5,
     "metadata": {},
     "output_type": "execute_result"
    }
   ],
   "source": [
    "train_file_lines[:5]"
   ]
  },
  {
   "cell_type": "code",
   "execution_count": 6,
   "metadata": {},
   "outputs": [
    {
     "data": {
      "text/plain": [
       "[\"__label__1 The Worst!: A complete waste of time. Typographical errors, poor grammar, and a totally pathetic plot add up to absolutely nothing. I'm embarrassed for this author and very disappointed I actually paid for this book.\\n\",\n",
       " '__label__2 Great book: This was a great book,I just could not put it down,and could not read it fast enough. Boy what a book the twist and turns in this just keeps you guessing and wanting to know what is going to happen next. This book makes you fall in love and can heat you up,it can also make you so angery. this book can make you go throu several of your emotions. This is a quick read romance. It is something that you will want to end your day off with if you read at night.\\n',\n",
       " '__label__2 Great Read: I thought this book was brilliant, but yet realistic. It showed me that to error is human. I loved the fact that this writer showed the loving side of God and not the revengeful side of him. I loved how it twisted and turned and I could not put it down. I also loved The glass castle.\\n',\n",
       " \"__label__1 Oh please: I guess you have to be a romance novel lover for this one, and not a very discerning one. All others beware! It is absolute drivel. I figured I was in trouble when a typo is prominently featured on the back cover, but the first page of the book removed all doubt. Wait - maybe I'm missing the point. A quick re-read of the beginning now makes it clear. This has to be an intentional churning of over-heated prose for satiric purposes. Phew, so glad I didn't waste $10.95 after all.\\n\",\n",
       " '__label__1 Awful beyond belief!: I feel I have to write to keep others from wasting their money. This book seems to have been written by a 7th grader with poor grammatical skills for her age! As another reviewer points out, there is a misspelling on the cover, and I believe there is at least one per chapter. For example, it was mentioned twice that she had a \"lean\" on her house. I was so distracted by the poor writing and weak plot, that I decided to read with a pencil in hand to mark all of the horrible grammar and spelling. Please don\\'t waste your money. I too, believe that the good reviews must have been written by the author\\'s relatives. I will not put much faith in the reviews from now on!\\n']"
      ]
     },
     "execution_count": 6,
     "metadata": {},
     "output_type": "execute_result"
    }
   ],
   "source": [
    "train_file_lines[10:15]"
   ]
  },
  {
   "cell_type": "markdown",
   "metadata": {},
   "source": [
    "# Data Preparation"
   ]
  },
  {
   "cell_type": "markdown",
   "metadata": {},
   "source": []
  },
  {
   "cell_type": "code",
   "execution_count": 7,
   "metadata": {},
   "outputs": [],
   "source": [
    "def decontracted(phrase):\n",
    "    phrase = re.sub(r\"n\\'t\", \" not\", phrase)\n",
    "    phrase = re.sub(r\"\\'re\", \" are\", phrase)\n",
    "    phrase = re.sub(r\"\\'s\", \" is\", phrase)\n",
    "    phrase = re.sub(r\"\\'d\", \" would\", phrase)\n",
    "    phrase = re.sub(r\"\\'ll\", \" will\", phrase)\n",
    "    phrase = re.sub(r\"\\'t\", \" not\", phrase)\n",
    "    phrase = re.sub(r\"\\'ve\", \" have\", phrase)\n",
    "    phrase = re.sub(r\"\\'m\", \" am\", phrase)\n",
    "    return phrase"
   ]
  },
  {
   "cell_type": "code",
   "execution_count": 8,
   "metadata": {},
   "outputs": [],
   "source": [
    "def get_wordnet_pos(treebank_tag):\n",
    "    '''\n",
    "    Translate nltk POS to wordnet tags\n",
    "    '''\n",
    "    if treebank_tag.startswith('J'):\n",
    "        return wordnet.ADJ\n",
    "    elif treebank_tag.startswith('V'):\n",
    "        return wordnet.VERB\n",
    "    elif treebank_tag.startswith('N'):\n",
    "        return wordnet.NOUN\n",
    "    elif treebank_tag.startswith('R'):\n",
    "        return wordnet.ADV\n",
    "    else:\n",
    "        return wordnet.NOUN"
   ]
  },
  {
   "cell_type": "code",
   "execution_count": 9,
   "metadata": {},
   "outputs": [],
   "source": [
    "chkr = SpellChecker(\"en_US\",filters=[EmailFilter,URLFilter])\n",
    "spell = Speller(lang='en')\n",
    "pattern = \"([a-zA-Z]+(?:'[a-z]+)?)\"\n",
    "tokenizer = RegexpTokenizer(pattern)\n",
    "sw = stopwords.words('english')\n",
    "lemmatizer = nltk.stem.WordNetLemmatizer()\n",
    "\n",
    "def data_cleaner(data, labeled=True):\n",
    "    splits = data.split('__label__')[-1]\n",
    "    if labeled:\n",
    "        labels = int(splits[0])-1    \n",
    "        statement = decontracted(splits[1:].lower())\n",
    "    else:\n",
    "        labels = np.nan\n",
    "        statement = decontracted(splits.lower())\n",
    "    statement = spell(statement)\n",
    "    chkr.set_text(statement)\n",
    "    for err in chkr:\n",
    "        try:            \n",
    "            statement = statement.replace(err.word,request_dict(err.word)[0])\n",
    "        except:\n",
    "            continue\n",
    "    statement = tokenizer.tokenize(statement)        \n",
    "    statement = [w for w in statement if w not in sw]\n",
    "    statement_tagged = [(token[0], get_wordnet_pos(token[1]))\n",
    "                        for token in pos_tag(statement)]\n",
    "    statement_lemmed = [lemmatizer.lemmatize(token[0], token[1]) for token in statement_tagged]\n",
    "    return statement_lemmed, labels "
   ]
  },
  {
   "cell_type": "code",
   "execution_count": 10,
   "metadata": {},
   "outputs": [
    {
     "data": {
      "text/plain": [
       "['tune',\n",
       " 'even',\n",
       " 'non',\n",
       " 'gamer',\n",
       " 'sound',\n",
       " 'track',\n",
       " 'beautiful',\n",
       " 'paint',\n",
       " 'scenery',\n",
       " 'mind',\n",
       " 'well',\n",
       " 'would',\n",
       " 'recommend',\n",
       " 'even',\n",
       " 'people',\n",
       " 'hate',\n",
       " 'vid',\n",
       " 'game',\n",
       " 'music',\n",
       " 'play',\n",
       " 'game',\n",
       " 'chrono',\n",
       " 'cross',\n",
       " 'game',\n",
       " 'ever',\n",
       " 'play',\n",
       " 'best',\n",
       " 'music',\n",
       " 'back',\n",
       " 'away',\n",
       " 'crude',\n",
       " 'keyboardist',\n",
       " 'take',\n",
       " 'fresh',\n",
       " 'step',\n",
       " 'rate',\n",
       " 'guitar',\n",
       " 'soulful',\n",
       " 'orchestra',\n",
       " 'would',\n",
       " 'impress',\n",
       " 'anyone',\n",
       " 'care',\n",
       " 'listen']"
      ]
     },
     "execution_count": 10,
     "metadata": {},
     "output_type": "execute_result"
    }
   ],
   "source": [
    "statement, labels = data_cleaner(train_file_lines[0])\n",
    "statement"
   ]
  },
  {
   "cell_type": "code",
   "execution_count": 11,
   "metadata": {},
   "outputs": [],
   "source": [
    "def save_to_file(file_lines, attrib):\n",
    "    currtime = time()\n",
    "    results = process_map(data_cleaner, file_lines, \n",
    "                          max_workers=Pool()._processes, \n",
    "                          chunksize=Pool()._processes)\n",
    "    statements = []\n",
    "    labels = []\n",
    "    for result in results:\n",
    "        statements.append(result[0])\n",
    "        labels.append(result[-1])\n",
    "    df = pd.DataFrame(columns=['statements','labels'])\n",
    "    df.statements = statements\n",
    "    df.labels = labels\n",
    "    df.to_csv(r'data/'+attrib+'.zip', index=False, compression='gzip')\n",
    "    print('Parallel: time elapsed:', time() - currtime)\n",
    "    return df"
   ]
  },
  {
   "cell_type": "code",
   "execution_count": 12,
   "metadata": {},
   "outputs": [],
   "source": [
    "if exists('data/train.zip'):\n",
    "    del train_file_lines\n",
    "    train_df = pd.read_csv('data/train.zip', compression='gzip')\n",
    "    def str_cleaner(line):\n",
    "        return line[1:-1].replace(\"'\",'').replace(' ','').replace(',',' ')\n",
    "    train_df.statements = train_df.statements.apply(str_cleaner)\n",
    "else:\n",
    "    train_df = save_to_file(train_file_lines, 'train') \n",
    "    del train_file_lines"
   ]
  },
  {
   "cell_type": "code",
   "execution_count": 13,
   "metadata": {},
   "outputs": [
    {
     "data": {
      "text/html": [
       "<div>\n",
       "<style scoped>\n",
       "    .dataframe tbody tr th:only-of-type {\n",
       "        vertical-align: middle;\n",
       "    }\n",
       "\n",
       "    .dataframe tbody tr th {\n",
       "        vertical-align: top;\n",
       "    }\n",
       "\n",
       "    .dataframe thead th {\n",
       "        text-align: right;\n",
       "    }\n",
       "</style>\n",
       "<table border=\"1\" class=\"dataframe\">\n",
       "  <thead>\n",
       "    <tr style=\"text-align: right;\">\n",
       "      <th></th>\n",
       "      <th>statements</th>\n",
       "      <th>labels</th>\n",
       "    </tr>\n",
       "  </thead>\n",
       "  <tbody>\n",
       "    <tr>\n",
       "      <th>0</th>\n",
       "      <td>tune even non gamer sound track beautiful pain...</td>\n",
       "      <td>1</td>\n",
       "    </tr>\n",
       "    <tr>\n",
       "      <th>1</th>\n",
       "      <td>best soundtrack ever anything reading lot revi...</td>\n",
       "      <td>1</td>\n",
       "    </tr>\n",
       "    <tr>\n",
       "      <th>2</th>\n",
       "      <td>amaze soundtrack favorite music time hand inte...</td>\n",
       "      <td>1</td>\n",
       "    </tr>\n",
       "    <tr>\n",
       "      <th>3</th>\n",
       "      <td>excellent soundtrack truly like soundtrack enj...</td>\n",
       "      <td>1</td>\n",
       "    </tr>\n",
       "    <tr>\n",
       "      <th>4</th>\n",
       "      <td>remember pull jaw floor hear played game know ...</td>\n",
       "      <td>1</td>\n",
       "    </tr>\n",
       "  </tbody>\n",
       "</table>\n",
       "</div>"
      ],
      "text/plain": [
       "                                          statements  labels\n",
       "0  tune even non gamer sound track beautiful pain...       1\n",
       "1  best soundtrack ever anything reading lot revi...       1\n",
       "2  amaze soundtrack favorite music time hand inte...       1\n",
       "3  excellent soundtrack truly like soundtrack enj...       1\n",
       "4  remember pull jaw floor hear played game know ...       1"
      ]
     },
     "execution_count": 13,
     "metadata": {},
     "output_type": "execute_result"
    }
   ],
   "source": [
    "train_df.head()"
   ]
  },
  {
   "cell_type": "code",
   "execution_count": 14,
   "metadata": {},
   "outputs": [
    {
     "data": {
      "text/plain": [
       "1    0.5\n",
       "0    0.5\n",
       "Name: labels, dtype: float64"
      ]
     },
     "execution_count": 14,
     "metadata": {},
     "output_type": "execute_result"
    }
   ],
   "source": [
    "train_df.labels.value_counts(normalize=True)"
   ]
  },
  {
   "cell_type": "code",
   "execution_count": null,
   "metadata": {},
   "outputs": [],
   "source": []
  },
  {
   "cell_type": "code",
   "execution_count": 15,
   "metadata": {},
   "outputs": [],
   "source": [
    "test = FreqDist(tokenizer.tokenize(' '.join(train_df.statements[:100].to_list())))"
   ]
  },
  {
   "cell_type": "code",
   "execution_count": 16,
   "metadata": {},
   "outputs": [
    {
     "data": {
      "text/plain": [
       "{'tune': 1,\n",
       " 'even': 19,\n",
       " 'non': 4,\n",
       " 'gamer': 1,\n",
       " 'sound': 9,\n",
       " 'track': 8,\n",
       " 'beautiful': 3,\n",
       " 'paint': 3,\n",
       " 'scenery': 1,\n",
       " 'mind': 3,\n",
       " 'well': 14,\n",
       " 'would': 30,\n",
       " 'recommend': 9,\n",
       " 'people': 7,\n",
       " 'hate': 2,\n",
       " 'vid': 1,\n",
       " 'game': 40,\n",
       " 'music': 22,\n",
       " 'play': 21,\n",
       " 'chrono': 4,\n",
       " 'cross': 4,\n",
       " 'ever': 8,\n",
       " 'best': 15,\n",
       " 'back': 10,\n",
       " 'away': 5,\n",
       " 'crude': 1,\n",
       " 'keyboardist': 1,\n",
       " 'take': 8,\n",
       " 'fresh': 1,\n",
       " 'step': 1,\n",
       " 'rate': 2,\n",
       " 'guitar': 3,\n",
       " 'soulful': 1,\n",
       " 'orchestra': 1,\n",
       " 'impress': 2,\n",
       " 'anyone': 6,\n",
       " 'care': 2,\n",
       " 'listen': 6,\n",
       " 'soundtrack': 12,\n",
       " 'anything': 2,\n",
       " 'reading': 3,\n",
       " 'lot': 7,\n",
       " 'review': 12,\n",
       " 'say': 14,\n",
       " 'figure': 7,\n",
       " 'write': 19,\n",
       " 'disagree': 2,\n",
       " 'bit': 6,\n",
       " 'opinion': 4,\n",
       " 'yasunori': 2,\n",
       " 'mitsuda': 4,\n",
       " 'ultimate': 1,\n",
       " 'masterpiece': 2,\n",
       " 'timeless': 1,\n",
       " 'year': 20,\n",
       " 'beauty': 1,\n",
       " 'simply': 1,\n",
       " 'refuse': 1,\n",
       " 'fade': 2,\n",
       " 'price': 6,\n",
       " 'tag': 1,\n",
       " 'pretty': 8,\n",
       " 'stagger': 1,\n",
       " 'must': 9,\n",
       " 'go': 22,\n",
       " 'buy': 26,\n",
       " 'cd': 15,\n",
       " 'much': 16,\n",
       " 'money': 8,\n",
       " 'one': 42,\n",
       " 'feel': 5,\n",
       " 'worth': 6,\n",
       " 'every': 8,\n",
       " 'penny': 1,\n",
       " 'amaze': 6,\n",
       " 'favorite': 2,\n",
       " 'time': 30,\n",
       " 'hand': 4,\n",
       " 'intense': 1,\n",
       " 'sadness': 1,\n",
       " 'prisoner': 2,\n",
       " 'fate': 2,\n",
       " 'mean': 1,\n",
       " 'played': 3,\n",
       " 'hope': 3,\n",
       " 'distant': 2,\n",
       " 'promise': 2,\n",
       " 'girl': 6,\n",
       " 'stole': 1,\n",
       " 'star': 17,\n",
       " 'important': 2,\n",
       " 'inspiration': 2,\n",
       " 'personally': 1,\n",
       " 'throughout': 1,\n",
       " 'teen': 3,\n",
       " 'higher': 1,\n",
       " 'energy': 2,\n",
       " 'like': 26,\n",
       " 'scar': 4,\n",
       " 'dreamwatch': 1,\n",
       " 'chronomantique': 2,\n",
       " 'indefinably': 1,\n",
       " 'reminiscent': 1,\n",
       " 'trigger': 1,\n",
       " 'absolutely': 3,\n",
       " 'superb': 1,\n",
       " 'probably': 4,\n",
       " 'composer': 1,\n",
       " 'work': 20,\n",
       " 'heard': 3,\n",
       " 'xenogears': 1,\n",
       " 'ca': 14,\n",
       " 'sure': 3,\n",
       " 'never': 12,\n",
       " 'twice': 3,\n",
       " 'wish': 5,\n",
       " 'could': 11,\n",
       " 'give': 10,\n",
       " 'excellent': 9,\n",
       " 'truly': 4,\n",
       " 'enjoy': 6,\n",
       " 'video': 5,\n",
       " 'relaxing': 1,\n",
       " 'peaceful': 1,\n",
       " 'disk': 3,\n",
       " 'favorites': 1,\n",
       " 'life': 7,\n",
       " 'death': 2,\n",
       " 'forest': 1,\n",
       " 'illusion': 1,\n",
       " 'fortress': 1,\n",
       " 'ancient': 2,\n",
       " 'dragon': 5,\n",
       " 'lose': 1,\n",
       " 'fragment': 1,\n",
       " 'drown': 1,\n",
       " 'valley': 1,\n",
       " 'two': 7,\n",
       " 'galore': 1,\n",
       " 'home': 3,\n",
       " 'gale': 1,\n",
       " 'girlfriend': 1,\n",
       " 'zelbessdisk': 1,\n",
       " 'three': 6,\n",
       " 'garden': 1,\n",
       " 'god': 5,\n",
       " 'chronopolis': 1,\n",
       " 'fat': 3,\n",
       " 'jellyfish': 1,\n",
       " 'sea': 4,\n",
       " 'burn': 1,\n",
       " 'orphanage': 1,\n",
       " 'prayer': 1,\n",
       " 'tower': 1,\n",
       " 'radical': 3,\n",
       " 'dreamer': 4,\n",
       " 'unstealable': 1,\n",
       " 'jewel': 2,\n",
       " 'overall': 2,\n",
       " 'bring': 3,\n",
       " 'lander': 1,\n",
       " 'remember': 3,\n",
       " 'pull': 3,\n",
       " 'jaw': 1,\n",
       " 'floor': 1,\n",
       " 'hear': 7,\n",
       " 'know': 11,\n",
       " 'divine': 2,\n",
       " 'single': 4,\n",
       " 'song': 11,\n",
       " 'tell': 6,\n",
       " 'story': 9,\n",
       " 'good': 23,\n",
       " 'great': 30,\n",
       " 'without': 4,\n",
       " 'doubt': 2,\n",
       " 'magical': 1,\n",
       " 'wind': 1,\n",
       " 'steal': 1,\n",
       " 'translation': 1,\n",
       " 'varies': 1,\n",
       " 'perfect': 3,\n",
       " 'ask': 1,\n",
       " 'pour': 1,\n",
       " 'heart': 4,\n",
       " 'paper': 2,\n",
       " 'absolute': 3,\n",
       " 'quite': 4,\n",
       " 'actually': 5,\n",
       " 'read': 27,\n",
       " 'least': 6,\n",
       " 'whether': 3,\n",
       " 'aware': 1,\n",
       " 'contribute': 1,\n",
       " 'greatly': 1,\n",
       " 'mood': 2,\n",
       " 'minute': 2,\n",
       " 'whole': 7,\n",
       " 'compose': 1,\n",
       " 'exact': 1,\n",
       " 'count': 1,\n",
       " 'render': 1,\n",
       " 'impressively': 1,\n",
       " 'remarkable': 1,\n",
       " 'assure': 1,\n",
       " 'forget': 3,\n",
       " 'everything': 5,\n",
       " 'listener': 1,\n",
       " 'fast': 3,\n",
       " 'pace': 1,\n",
       " 'energetic': 1,\n",
       " 'dancing': 1,\n",
       " 'storage': 1,\n",
       " 'terminal': 1,\n",
       " 'slower': 1,\n",
       " 'haunt': 1,\n",
       " 'purely': 1,\n",
       " 'beautifully': 2,\n",
       " 'composed': 1,\n",
       " 'fantastic': 1,\n",
       " 'vocal': 1,\n",
       " 'videogame': 1,\n",
       " 'surely': 1,\n",
       " 'buyer': 3,\n",
       " 'beware': 5,\n",
       " 'self': 1,\n",
       " 'publish': 1,\n",
       " 'book': 58,\n",
       " 'want': 17,\n",
       " 'paragraphs': 1,\n",
       " 'ms': 1,\n",
       " 'hidden': 3,\n",
       " 'family': 5,\n",
       " 'friends': 1,\n",
       " 'perhaps': 3,\n",
       " 'imagine': 1,\n",
       " 'thing': 11,\n",
       " 'spend': 3,\n",
       " 'friend': 2,\n",
       " 'mystery': 2,\n",
       " 'piece': 3,\n",
       " 'another': 10,\n",
       " 'definitely': 2,\n",
       " 'bad': 12,\n",
       " 'enough': 7,\n",
       " 'enter': 2,\n",
       " 'kind': 4,\n",
       " 'contest': 1,\n",
       " 'believe': 5,\n",
       " 'amazon': 8,\n",
       " 'sell': 2,\n",
       " 'maybe': 4,\n",
       " 'offer': 1,\n",
       " 'th': 2,\n",
       " 'grade': 2,\n",
       " 'term': 1,\n",
       " 'kill': 1,\n",
       " 'mockingbird': 1,\n",
       " 'm': 1,\n",
       " 'anyway': 2,\n",
       " 'unless': 3,\n",
       " 'send': 4,\n",
       " 'someone': 3,\n",
       " 'joke': 1,\n",
       " 'stay': 5,\n",
       " 'far': 2,\n",
       " 'glorious': 1,\n",
       " 'love': 33,\n",
       " 'whisper': 3,\n",
       " 'wicked': 3,\n",
       " 'saint': 3,\n",
       " 'pleasant': 1,\n",
       " 'surprise': 3,\n",
       " 'change': 1,\n",
       " 'normal': 1,\n",
       " 'romance': 6,\n",
       " 'novels': 1,\n",
       " 'world': 3,\n",
       " 'brilliant': 2,\n",
       " 'true': 5,\n",
       " 'wonderful': 3,\n",
       " 'told': 1,\n",
       " 'typical': 1,\n",
       " 'crime': 1,\n",
       " 'becuase': 1,\n",
       " 'miss': 4,\n",
       " 'warm': 3,\n",
       " 'five': 2,\n",
       " 'finish': 3,\n",
       " 'fell': 1,\n",
       " 'character': 1,\n",
       " 'expect': 8,\n",
       " 'average': 1,\n",
       " 'instead': 3,\n",
       " 'find': 18,\n",
       " 'think': 13,\n",
       " 'predict': 1,\n",
       " 'outcome': 1,\n",
       " 'shocked': 1,\n",
       " 'descriptive': 1,\n",
       " 'break': 2,\n",
       " 'julia': 1,\n",
       " 'felt': 3,\n",
       " 'reader': 1,\n",
       " 'lover': 2,\n",
       " 'novel': 2,\n",
       " 'let': 6,\n",
       " 'cover': 4,\n",
       " 'fool': 2,\n",
       " 'spectacular': 1,\n",
       " 'easy': 6,\n",
       " 'make': 28,\n",
       " 'keep': 10,\n",
       " 'put': 7,\n",
       " 'left': 1,\n",
       " 'wanting': 1,\n",
       " 'follow': 2,\n",
       " 'come': 13,\n",
       " 'soon': 5,\n",
       " 'use': 17,\n",
       " 'get': 38,\n",
       " 'enjoyable': 2,\n",
       " 'complete': 5,\n",
       " 'waste': 6,\n",
       " 'typographical': 1,\n",
       " 'error': 2,\n",
       " 'poor': 6,\n",
       " 'grammar': 2,\n",
       " 'totally': 3,\n",
       " 'pathetic': 1,\n",
       " 'plot': 3,\n",
       " 'add': 2,\n",
       " 'nothing': 7,\n",
       " 'embarrass': 1,\n",
       " 'author': 5,\n",
       " 'disappoint': 3,\n",
       " 'pay': 3,\n",
       " 'boy': 2,\n",
       " 'twist': 1,\n",
       " 'turn': 5,\n",
       " 'guess': 6,\n",
       " 'happen': 5,\n",
       " 'next': 3,\n",
       " 'fall': 2,\n",
       " 'heat': 2,\n",
       " 'also': 12,\n",
       " 'angry': 1,\n",
       " 'throw': 3,\n",
       " 'several': 3,\n",
       " 'emotion': 1,\n",
       " 'quick': 3,\n",
       " 'something': 5,\n",
       " 'end': 5,\n",
       " 'day': 8,\n",
       " 'night': 3,\n",
       " 'yet': 3,\n",
       " 'realistic': 1,\n",
       " 'show': 9,\n",
       " 'human': 3,\n",
       " 'fact': 3,\n",
       " 'writer': 1,\n",
       " 'loving': 1,\n",
       " 'side': 2,\n",
       " 'vengeful': 1,\n",
       " 'twisted': 1,\n",
       " 'glass': 1,\n",
       " 'castle': 6,\n",
       " 'oh': 2,\n",
       " 'please': 3,\n",
       " 'discard': 1,\n",
       " 'others': 3,\n",
       " 'driver': 1,\n",
       " 'trouble': 2,\n",
       " 'typo': 1,\n",
       " 'prominently': 1,\n",
       " 'feature': 4,\n",
       " 'first': 9,\n",
       " 'page': 3,\n",
       " 'remove': 2,\n",
       " 'wait': 3,\n",
       " 'point': 4,\n",
       " 'begin': 5,\n",
       " 'clear': 4,\n",
       " 'intentional': 1,\n",
       " 'turning': 1,\n",
       " 'prose': 1,\n",
       " 'satirical': 1,\n",
       " 'purpose': 1,\n",
       " 'chew': 2,\n",
       " 'glad': 2,\n",
       " 'awful': 2,\n",
       " 'beyond': 1,\n",
       " 'belief': 1,\n",
       " 'seem': 6,\n",
       " 'grader': 1,\n",
       " 'grammatical': 1,\n",
       " 'skill': 1,\n",
       " 'age': 5,\n",
       " 'reviewer': 3,\n",
       " 'misspell': 1,\n",
       " 'per': 1,\n",
       " 'chapter': 1,\n",
       " 'example': 1,\n",
       " 'mention': 1,\n",
       " 'lean': 1,\n",
       " 'house': 2,\n",
       " 'distract': 1,\n",
       " 'weak': 1,\n",
       " 'decide': 5,\n",
       " 'pencil': 1,\n",
       " 'mark': 1,\n",
       " 'horrible': 2,\n",
       " 'spell': 1,\n",
       " 'relatives': 1,\n",
       " 'faith': 1,\n",
       " 'try': 5,\n",
       " 'u': 4,\n",
       " 'fake': 1,\n",
       " 'sparingly': 1,\n",
       " 'obvious': 1,\n",
       " 'glow': 1,\n",
       " 'person': 4,\n",
       " 'misspelling': 1,\n",
       " 'sentence': 1,\n",
       " 'structure': 1,\n",
       " 'veronica': 1,\n",
       " 'romantic': 1,\n",
       " 'zen': 2,\n",
       " 'baseball': 1,\n",
       " 'comedy': 2,\n",
       " 'folk': 1,\n",
       " 'em': 1,\n",
       " 'anymore': 3,\n",
       " 'might': 3,\n",
       " 'talk': 2,\n",
       " 'cool': 2,\n",
       " 'young': 6,\n",
       " 'cuban': 1,\n",
       " 'search': 1,\n",
       " 'identity': 1,\n",
       " 'stumble': 1,\n",
       " 'coastal': 1,\n",
       " 'resort': 2,\n",
       " 'kitchen': 5,\n",
       " 'gig': 1,\n",
       " 'motorcycle': 1,\n",
       " 'maintenance': 1,\n",
       " 'man': 4,\n",
       " 'hysterical': 1,\n",
       " 'italian': 1,\n",
       " 'chef': 1,\n",
       " 'latino': 1,\n",
       " 'fireballing': 1,\n",
       " 'right': 7,\n",
       " 'pitcher': 1,\n",
       " 'team': 1,\n",
       " 'sponsor': 1,\n",
       " 'owner': 1,\n",
       " 'often': 2,\n",
       " 'case': 1,\n",
       " 'honest': 1,\n",
       " 'comical': 1,\n",
       " 'always': 8,\n",
       " 'emotional': 1,\n",
       " 'interaction': 2,\n",
       " 'sibling': 1,\n",
       " 'roster': 1,\n",
       " 'player': 11,\n",
       " 'mix': 10,\n",
       " 'special': 1,\n",
       " 'effect': 1,\n",
       " 'salsa': 2,\n",
       " 'flashback': 1,\n",
       " 'big': 10,\n",
       " 'fashionable': 1,\n",
       " 'compression': 4,\n",
       " 'stocking': 6,\n",
       " 'dot': 1,\n",
       " 'doctor': 1,\n",
       " 'require': 2,\n",
       " 'wear': 7,\n",
       " 'ugly': 1,\n",
       " 'white': 3,\n",
       " 'ted': 1,\n",
       " 'hose': 1,\n",
       " 'lucky': 1,\n",
       " 'thick': 1,\n",
       " 'brown': 1,\n",
       " 'job': 5,\n",
       " 'ultrasheer': 3,\n",
       " 'need': 6,\n",
       " 'look': 14,\n",
       " 'regular': 1,\n",
       " 'pantyhose': 1,\n",
       " 'though': 2,\n",
       " 'blood': 1,\n",
       " 'clot': 1,\n",
       " 'still': 8,\n",
       " 'support': 3,\n",
       " 'legs': 1,\n",
       " 'nice': 6,\n",
       " 'note': 1,\n",
       " 'problem': 8,\n",
       " 'rubberize': 1,\n",
       " 'top': 5,\n",
       " 'roll': 4,\n",
       " 'thigh': 2,\n",
       " 'adhesive': 1,\n",
       " 'hat': 1,\n",
       " 'skin': 2,\n",
       " 'inexpensive': 1,\n",
       " 'carter': 1,\n",
       " 'belt': 1,\n",
       " 'fine': 5,\n",
       " 'help': 6,\n",
       " 'high': 2,\n",
       " 'product': 3,\n",
       " 'however': 8,\n",
       " 'difficult': 1,\n",
       " 'old': 19,\n",
       " 'full': 6,\n",
       " 'workout': 1,\n",
       " 'create': 3,\n",
       " 'deep': 1,\n",
       " 'ridge': 1,\n",
       " 'difficulty': 1,\n",
       " 'address': 1,\n",
       " 'size': 4,\n",
       " 'chart': 2,\n",
       " 'real': 7,\n",
       " 'small': 5,\n",
       " 'sheer': 3,\n",
       " 'item': 2,\n",
       " 'internet': 1,\n",
       " 'store': 4,\n",
       " 'check': 4,\n",
       " 'men': 1,\n",
       " 'model': 3,\n",
       " 'may': 3,\n",
       " 'ok': 2,\n",
       " 'sedentary': 1,\n",
       " 'type': 1,\n",
       " 'active': 1,\n",
       " 'around': 8,\n",
       " 'alot': 2,\n",
       " 'consistently': 1,\n",
       " 'ankle': 1,\n",
       " 'solution': 1,\n",
       " 'standard': 4,\n",
       " 'stock': 2,\n",
       " 'pair': 4,\n",
       " 'tore': 1,\n",
       " 'struggled': 1,\n",
       " 'riddance': 1,\n",
       " 'investment': 1,\n",
       " 'delicious': 1,\n",
       " 'cookie': 5,\n",
       " 'funny': 2,\n",
       " 'header': 1,\n",
       " 'quickly': 2,\n",
       " 'package': 5,\n",
       " 'cooky': 2,\n",
       " 'notice': 4,\n",
       " 'since': 9,\n",
       " 'title': 5,\n",
       " 'bake': 2,\n",
       " 'convenience': 1,\n",
       " 'dough': 2,\n",
       " 'wrap': 2,\n",
       " 'plastic': 3,\n",
       " 'log': 2,\n",
       " 'bite': 1,\n",
       " 'messy': 1,\n",
       " 'extremely': 2,\n",
       " 'sticky': 1,\n",
       " 'flexibility': 1,\n",
       " 'ratio': 1,\n",
       " 'ingredient': 2,\n",
       " 'extra': 1,\n",
       " 'butter': 1,\n",
       " 'baked': 1,\n",
       " 'really': 8,\n",
       " 'large': 2,\n",
       " 'chocolate': 1,\n",
       " 'chip': 1,\n",
       " 'addition': 1,\n",
       " 'natural': 1,\n",
       " 'flavor': 1,\n",
       " 'absmag': 1,\n",
       " 'digital': 1,\n",
       " 'copy': 3,\n",
       " 'rather': 3,\n",
       " 'scratch': 2,\n",
       " 'insect': 1,\n",
       " 'drop': 1,\n",
       " 'random': 1,\n",
       " 'pixelations': 1,\n",
       " 'combine': 1,\n",
       " 'muddy': 1,\n",
       " 'light': 9,\n",
       " 'vague': 1,\n",
       " 'image': 1,\n",
       " 'resolution': 1,\n",
       " 'cue': 1,\n",
       " 'straight': 1,\n",
       " 'street': 1,\n",
       " 'corner': 1,\n",
       " 'bootleg': 2,\n",
       " 'dealer': 1,\n",
       " 'see': 9,\n",
       " 'reasonably': 1,\n",
       " 'condition': 1,\n",
       " 'film': 4,\n",
       " 'define': 1,\n",
       " 'visuals': 2,\n",
       " 'crystal': 1,\n",
       " 'contrast': 1,\n",
       " 'black': 1,\n",
       " 'surround': 2,\n",
       " 'countryside': 1,\n",
       " 'scene': 3,\n",
       " 'set': 8,\n",
       " 'early': 3,\n",
       " 'morning': 1,\n",
       " 'ground': 1,\n",
       " 'list': 3,\n",
       " 'haze': 1,\n",
       " 'memory': 2,\n",
       " 'event': 1,\n",
       " 'bridge': 1,\n",
       " 'water': 1,\n",
       " 'bright': 1,\n",
       " 'immediate': 1,\n",
       " 'dull': 4,\n",
       " 'dark': 1,\n",
       " 'cloud': 1,\n",
       " 'timbre': 1,\n",
       " 'renunciation': 1,\n",
       " 'captain': 1,\n",
       " 'command': 1,\n",
       " 'hard': 6,\n",
       " 'award': 1,\n",
       " 'win': 2,\n",
       " 'critically': 1,\n",
       " 'acclaim': 1,\n",
       " 'presentation': 1,\n",
       " 'youtube': 2,\n",
       " 'somewhere': 2,\n",
       " 'dvd': 24,\n",
       " 'mm': 1,\n",
       " 'public': 2,\n",
       " 'library': 3,\n",
       " 'reel': 1,\n",
       " 'none': 4,\n",
       " 'appear': 1,\n",
       " 'fascinate': 1,\n",
       " 'insight': 1,\n",
       " 'modern': 2,\n",
       " 'japanese': 3,\n",
       " 'thoroughly': 2,\n",
       " 'rise': 2,\n",
       " 'son': 5,\n",
       " 'daughter': 11,\n",
       " 'society': 1,\n",
       " 'view': 4,\n",
       " 'poise': 1,\n",
       " 'parent': 2,\n",
       " 'culture': 4,\n",
       " 'restraint': 1,\n",
       " 'obedience': 1,\n",
       " 'community': 2,\n",
       " 'peer': 1,\n",
       " 'education': 1,\n",
       " 'western': 1,\n",
       " 'form': 1,\n",
       " 'new': 8,\n",
       " 'japan': 2,\n",
       " 'international': 1,\n",
       " 'blend': 1,\n",
       " 'demonstrate': 1,\n",
       " 'vignette': 2,\n",
       " 'private': 1,\n",
       " 'member': 1,\n",
       " 'steven': 1,\n",
       " 'warden': 1,\n",
       " 'clearly': 2,\n",
       " 'talented': 1,\n",
       " 'adopt': 1,\n",
       " 'school': 2,\n",
       " 'four': 5,\n",
       " 'thus': 1,\n",
       " 'able': 2,\n",
       " 'inside': 2,\n",
       " 'album': 7,\n",
       " 'thought': 2,\n",
       " 'blue': 1,\n",
       " 'angel': 1,\n",
       " 'anna': 1,\n",
       " 'mama': 1,\n",
       " 'hair': 1,\n",
       " 'neck': 2,\n",
       " 'roy': 1,\n",
       " 'amazing': 1,\n",
       " 'singer': 1,\n",
       " 'talent': 1,\n",
       " 'charge': 8,\n",
       " 'aaa': 3,\n",
       " 'charger': 5,\n",
       " 'aa': 3,\n",
       " 'battery': 8,\n",
       " 'huge': 1,\n",
       " 'secure': 1,\n",
       " 'flip': 3,\n",
       " 'little': 8,\n",
       " 'button': 5,\n",
       " 'positive': 2,\n",
       " 'pop': 1,\n",
       " 'wo': 5,\n",
       " 'hold': 3,\n",
       " 'mechanism': 1,\n",
       " 'become': 2,\n",
       " 'loose': 1,\n",
       " 'horizontal': 2,\n",
       " 'pressure': 1,\n",
       " 'push': 1,\n",
       " 'duct': 1,\n",
       " 'tape': 2,\n",
       " 'segment': 2,\n",
       " 'crayon': 2,\n",
       " 'apply': 2,\n",
       " 'painful': 1,\n",
       " 'advertise': 1,\n",
       " 'instruction': 6,\n",
       " 'dont': 1,\n",
       " 'do': 3,\n",
       " 'hour': 5,\n",
       " 'return': 8,\n",
       " 'unit': 3,\n",
       " 'useless': 1,\n",
       " 'backup': 1,\n",
       " 'manage': 1,\n",
       " 'drain': 1,\n",
       " 'purchase': 9,\n",
       " 'disappointed': 6,\n",
       " 'convenient': 1,\n",
       " 'last': 5,\n",
       " 'short': 2,\n",
       " 'long': 4,\n",
       " 'koda': 1,\n",
       " 'nimo': 1,\n",
       " 'dear': 1,\n",
       " 'excite': 2,\n",
       " 'ostensibly': 1,\n",
       " 'muslim': 4,\n",
       " 'feminism': 1,\n",
       " 'volume': 2,\n",
       " 'live': 5,\n",
       " 'expectation': 2,\n",
       " 'essay': 2,\n",
       " 'among': 2,\n",
       " 'describes': 1,\n",
       " 'veil': 1,\n",
       " 'potentially': 1,\n",
       " 'liberate': 1,\n",
       " 'explain': 2,\n",
       " 'woman': 2,\n",
       " 'cape': 1,\n",
       " 'town': 1,\n",
       " 'claim': 4,\n",
       " 'separate': 1,\n",
       " 'equal': 1,\n",
       " 'gee': 1,\n",
       " 'whip': 1,\n",
       " 'disappointment': 2,\n",
       " 'hop': 3,\n",
       " 'feminist': 1,\n",
       " 'condemnation': 1,\n",
       " 'gender': 1,\n",
       " 'apartheid': 1,\n",
       " 'enrol': 1,\n",
       " 'virtue': 1,\n",
       " 'female': 1,\n",
       " 'genital': 1,\n",
       " 'mutilation': 1,\n",
       " 'alaska': 5,\n",
       " 'base': 2,\n",
       " 'var': 5,\n",
       " 'christmas': 1,\n",
       " 'present': 1,\n",
       " 'join': 1,\n",
       " 'rest': 3,\n",
       " 'land': 1,\n",
       " 'vhs': 3,\n",
       " 'movie': 14,\n",
       " 'reviews': 1,\n",
       " 'jc': 4,\n",
       " 'tv': 14,\n",
       " 'choice': 4,\n",
       " 'agree': 1,\n",
       " 'awkward': 2,\n",
       " 'selection': 1,\n",
       " 'option': 3,\n",
       " 'hang': 1,\n",
       " 'comment': 1,\n",
       " 'intuitive': 1,\n",
       " 'complicate': 1,\n",
       " 'many': 5,\n",
       " 'remote': 7,\n",
       " 'technically': 1,\n",
       " 'rely': 1,\n",
       " 'heavily': 1,\n",
       " 'manual': 1,\n",
       " 'timer': 1,\n",
       " 'start': 6,\n",
       " 'scroll': 1,\n",
       " 'complaint': 2,\n",
       " 'incorrect': 2,\n",
       " 'disc': 3,\n",
       " 'fan': 2,\n",
       " 'suspicious': 1,\n",
       " 'saw': 2,\n",
       " 'section': 1,\n",
       " 'happy': 5,\n",
       " 'click': 3,\n",
       " 'receiver': 1,\n",
       " 'transition': 1,\n",
       " 'smooth': 1,\n",
       " 'pause': 1,\n",
       " 'fairly': 1,\n",
       " 'headcleaner': 1,\n",
       " 'message': 1,\n",
       " 'nut': 1,\n",
       " 'television': 1,\n",
       " 'bookshelf': 1,\n",
       " 'audio': 6,\n",
       " 'system': 4,\n",
       " 'car': 2,\n",
       " 'move': 4,\n",
       " 'boys': 3,\n",
       " 'room': 7,\n",
       " 'decided': 1,\n",
       " 'combo': 2,\n",
       " 'longer': 1,\n",
       " 'except': 2,\n",
       " 'cable': 4,\n",
       " 'box': 5,\n",
       " 'compatibility': 1,\n",
       " 'control': 5,\n",
       " 'seperate': 1,\n",
       " 'input': 4,\n",
       " 'coat': 1,\n",
       " 'program': 4,\n",
       " 'mono': 1,\n",
       " 'wife': 3,\n",
       " 'difference': 1,\n",
       " 'hollywood': 1,\n",
       " 'debacle': 1,\n",
       " 'ridiculous': 2,\n",
       " 'wonder': 3,\n",
       " 'script': 1,\n",
       " 'mountain': 2,\n",
       " 'lion': 2,\n",
       " 'trailer': 1,\n",
       " 'behind': 3,\n",
       " 'capture': 1,\n",
       " 'jail': 1,\n",
       " 'cell': 1,\n",
       " 'utterly': 1,\n",
       " 'completely': 2,\n",
       " 'stupid': 1,\n",
       " 'bet': 2,\n",
       " 'hotel': 6,\n",
       " 'baryon': 2,\n",
       " 'incredible': 1,\n",
       " 'act': 1,\n",
       " 'tamil': 1,\n",
       " 'outhwaite': 1,\n",
       " 'formerly': 1,\n",
       " 'eastenders': 1,\n",
       " 'bbc': 4,\n",
       " 'soap': 2,\n",
       " 'max': 1,\n",
       " 'beetle': 1,\n",
       " 'ill': 1,\n",
       " 'glitter': 1,\n",
       " 'mariah': 1,\n",
       " 'carey': 1,\n",
       " 'drama': 2,\n",
       " 'series': 2,\n",
       " 'opera': 1,\n",
       " 'mixed': 1,\n",
       " 'air': 5,\n",
       " 'america': 1,\n",
       " 'got': 1,\n",
       " 'episode': 1,\n",
       " 'season': 1,\n",
       " 'finale': 1,\n",
       " 'interesting': 1,\n",
       " 'watch': 3,\n",
       " 'remind': 1,\n",
       " 'abc': 1,\n",
       " 'reason': 1,\n",
       " 'fictional': 1,\n",
       " 'san': 2,\n",
       " 'francisco': 1,\n",
       " 'luxury': 1,\n",
       " 'england': 1,\n",
       " 'willing': 1,\n",
       " 'already': 3,\n",
       " 'casually': 1,\n",
       " 'law': 1,\n",
       " 'seriously': 1,\n",
       " 'unfortunately': 2,\n",
       " 'entertain': 2,\n",
       " 'order': 9,\n",
       " 'hip': 1,\n",
       " 'daddy': 1,\n",
       " 'vibe': 2,\n",
       " 'dismay': 1,\n",
       " 'fourth': 1,\n",
       " 'class': 1,\n",
       " 'main': 1,\n",
       " 'xylaphone': 1,\n",
       " 'playing': 2,\n",
       " 'voice': 4,\n",
       " 'replicate': 1,\n",
       " 'party': 2,\n",
       " 'anywhere': 2,\n",
       " 'neighborhood': 1,\n",
       " 'laughed': 1,\n",
       " 'beach': 1,\n",
       " 'grow': 2,\n",
       " 'surfer': 2,\n",
       " 'diego': 1,\n",
       " 'southern': 3,\n",
       " 'california': 1,\n",
       " 'brother': 2,\n",
       " 'honestly': 1,\n",
       " 'kinda': 1,\n",
       " 'b': 1,\n",
       " 'epitome': 1,\n",
       " 'surf': 1,\n",
       " 'cha': 3,\n",
       " 'michelle': 1,\n",
       " 'hell': 1,\n",
       " 'moral': 1,\n",
       " 'aspect': 1,\n",
       " 'american': 2,\n",
       " 'lucid': 1,\n",
       " 'argue': 2,\n",
       " 'explanation': 1,\n",
       " 'simple': 2,\n",
       " 'focused': 1,\n",
       " 'individual': 1,\n",
       " 'ignore': 2,\n",
       " 'mock': 1,\n",
       " 'personal': 1,\n",
       " 'responsibility': 1,\n",
       " 'final': 1,\n",
       " 'response': 4,\n",
       " 'indictment': 1,\n",
       " 'robert': 1,\n",
       " 'ringer': 1,\n",
       " 'seller': 8,\n",
       " 'disgust': 1,\n",
       " 'foolish': 1,\n",
       " 'state': 2,\n",
       " 'medium': 1,\n",
       " 'politics': 1,\n",
       " 'discourse': 1,\n",
       " 'general': 1,\n",
       " 'head': 3,\n",
       " 'substantial': 1,\n",
       " 'challenge': 2,\n",
       " 'lie': 1,\n",
       " 'americans': 1,\n",
       " 'being': 1,\n",
       " 'larry': 3,\n",
       " 'muse': 1,\n",
       " 'label': 3,\n",
       " 'late': 3,\n",
       " 'explore': 2,\n",
       " 'rich': 2,\n",
       " 'catalog': 1,\n",
       " 'jazz': 1,\n",
       " 'musician': 2,\n",
       " 'relax': 1,\n",
       " 'focus': 1,\n",
       " 'valentine': 1,\n",
       " 'stand': 2,\n",
       " 'chet': 1,\n",
       " 'baker': 2,\n",
       " 'mile': 1,\n",
       " 'mac': 4,\n",
       " 'line': 2,\n",
       " 'os': 3,\n",
       " 'window': 1,\n",
       " 'frustrate': 2,\n",
       " 'attempt': 2,\n",
       " 'touch': 1,\n",
       " ...}"
      ]
     },
     "execution_count": 16,
     "metadata": {},
     "output_type": "execute_result"
    }
   ],
   "source": [
    "dict(test)"
   ]
  },
  {
   "cell_type": "code",
   "execution_count": 17,
   "metadata": {},
   "outputs": [],
   "source": [
    "if not exists('glove_embedding.pickle'):\n",
    "    if not exists('glove.6B.300d.txt'):\n",
    "        wget.download(url='https://nlp.stanford.edu/data/glove.6B.zip')\n",
    "        zip_ = zipfile.ZipFile('glove.6B.zip')\n",
    "        zip_.extract('glove.6B.300d.txt')    \n",
    "        zip_.close()    \n",
    "        remove('glove.6B.zip')        \n",
    "    embeddings_index = {}\n",
    "    f = open('glove.6B.300d.txt', encoding = \"utf-8\")\n",
    "    for line in f:\n",
    "        values = line.split()\n",
    "        word = values[0]\n",
    "        coefs = np.asarray(values[1:], dtype='float32')\n",
    "        embeddings_index[word] = coefs\n",
    "    f.close()\n",
    "    remove('glove.6B.300d.txt')\n",
    "    # Save embedding dict to file\n",
    "    with open('glove_embedding.pickle', 'wb') as f:    \n",
    "        pickle.dump(embeddings_index, f)   \n",
    "else:\n",
    "    with open('glove_embedding.pickle', 'rb') as f:    \n",
    "        embeddings_index = pickle.load(f)"
   ]
  },
  {
   "cell_type": "code",
   "execution_count": 18,
   "metadata": {},
   "outputs": [
    {
     "data": {
      "text/plain": [
       "400000"
      ]
     },
     "execution_count": 18,
     "metadata": {},
     "output_type": "execute_result"
    }
   ],
   "source": [
    "len(embeddings_index.keys())"
   ]
  },
  {
   "cell_type": "code",
   "execution_count": 19,
   "metadata": {},
   "outputs": [],
   "source": [
    "X_train, X_valid, y_train, y_valid = train_test_split(train_df.statements, \n",
    "                                                      train_df.labels,\n",
    "                                                      random_state=SEED, \n",
    "                                                      stratify = train_df.labels,\n",
    "                                                      test_size = 0.3)"
   ]
  },
  {
   "cell_type": "code",
   "execution_count": 20,
   "metadata": {},
   "outputs": [
    {
     "data": {
      "text/plain": [
       "(2520000,)"
      ]
     },
     "execution_count": 20,
     "metadata": {},
     "output_type": "execute_result"
    }
   ],
   "source": [
    "X_train.shape"
   ]
  },
  {
   "cell_type": "markdown",
   "metadata": {},
   "source": [
    "# Modeling "
   ]
  },
  {
   "cell_type": "markdown",
   "metadata": {},
   "source": [
    "## Preprocessing Class "
   ]
  },
  {
   "cell_type": "code",
   "execution_count": 21,
   "metadata": {},
   "outputs": [],
   "source": [
    "class Preprocess():\n",
    "    def __init__(self, dataset=None, \n",
    "                 transformer='tfidf', \n",
    "                 cleaned=True, \n",
    "                 ngram_range=(1,1),\n",
    "                 max_features = 20000,\n",
    "                 min_df = 0.05, \n",
    "                 max_df = 0.95):\n",
    "        self.dataset = dataset\n",
    "        self.transformer = transformer\n",
    "        self.cleaned = cleaned\n",
    "        self.ngram_range = ngram_range\n",
    "        self.max_features = max_features\n",
    "        self.min_df = min_df\n",
    "        self.max_df = max_df\n",
    "    \n",
    "    def load_data(self, n_pool, labeled, attrib):\n",
    "        if not self.cleaned:\n",
    "            statements = []\n",
    "            labels = []\n",
    "            if n_pool==1:\n",
    "                for data in self.dataset:\n",
    "                    statement, label = data_cleaner(data)\n",
    "                    statements.append(statement)\n",
    "                    labels.append(label)\n",
    "            else:\n",
    "                results = process_map(data_cleaner, data, \n",
    "                          max_workers=n_pool, \n",
    "                          chunksize=n_pool)\n",
    "                for result in results:\n",
    "                    statements.append(result[0])\n",
    "                    labels.append(result[-1])\n",
    "            df = pd.DataFrame(columns=['statements','labels'])\n",
    "            df.statements = statements\n",
    "            df.labels = labels\n",
    "            df.to_csv(r'data/'+attrib+'.zip', index=False, compression='gzip')            \n",
    "        else:\n",
    "            df = pd.read_csv('data/'+attrib+'.zip', compression='gzip')\n",
    "            def str_cleaner(line):\n",
    "                return line[1:-1].replace(\"'\",'').replace(' ','').replace(',',' ')\n",
    "            df.statements = df.statements.apply(str_cleaner)\n",
    "        return df\n",
    "    \n",
    "    def transform(self, df):\n",
    "        if self.transformer=='tfidf':\n",
    "            vectorizer = TfidfVectorizer(max_features=self.max_features, \n",
    "                                         ngram_range=self.ngram_range,\n",
    "                                         min_df=self.min_df,\n",
    "                                         max_df=self.max_df)\n",
    "            tokens = vectorizer.fit_transform(df).toarray()\n",
    "        elif self.transformer=='count':\n",
    "            vectorizer = CountVectorizer(max_features=self.max_features, \n",
    "                                         ngram_range=self.ngram_range,\n",
    "                                         min_df=self.min_df,\n",
    "                                         max_df=self.max_df)\n",
    "            tokens = vectorizer.fit_transform(df).toarray()\n",
    "        elif self.transformer=='embed':\n",
    "            def sent2vec(s):\n",
    "                M = []                \n",
    "                for w in s:\n",
    "                    try:\n",
    "                        M.append(embeddings_index[w])\n",
    "                    except:\n",
    "                        continue\n",
    "                M = np.array(M)\n",
    "                v = M.sum(axis=0)\n",
    "                if type(v) != np.ndarray:\n",
    "                    return np.zeros(300)\n",
    "                return v / np.sqrt((v ** 2).sum())\n",
    "            data = df.apply(word_tokenize)\n",
    "            tokens = np.array(data.apply(sent2vec).tolist())\n",
    "        return tokens        "
   ]
  },
  {
   "cell_type": "code",
   "execution_count": 22,
   "metadata": {},
   "outputs": [],
   "source": [
    "if not exists('train_vec.pickle'):\n",
    "\n",
    "    prep = Preprocess(transformer='tfidf',max_df=0.979,min_df=0.0201)\n",
    "    X_train_tfidf = prep.transform(X_train)\n",
    "\n",
    "    prep = Preprocess(transformer='count',max_df=0.979,min_df=0.0201)\n",
    "    X_train_count = prep.transform(X_train)\n",
    "\n",
    "    prep = Preprocess(transformer='embed')\n",
    "    X_train_embed = prep.transform(X_train)\n",
    "    \n",
    "    X_train_vec = [X_train_tfidf, X_train_count, X_train_embed]\n",
    "    vec_labels = ['TfIdf', 'Count', 'Embedding']\n",
    "    \n",
    "    del X_train_tfidf, X_train_count, X_train_embed\n",
    "    \n",
    "    # Save models to file\n",
    "    with open('train_vec.pickle', 'wb') as f:    \n",
    "        pickle.dump(X_train_vec, f)\n",
    "        pickle.dump(vec_labels, f)\n",
    "        pickle.dump(y_train, f)\n",
    "else:    \n",
    "    # Load models \n",
    "    with open('train_vec.pickle', 'rb') as f:\n",
    "        X_train_vec = pickle.load(f)\n",
    "        vec_labels = pickle.load(f)\n",
    "        y_train = pickle.load(f)"
   ]
  },
  {
   "cell_type": "markdown",
   "metadata": {},
   "source": [
    "## Grid Search "
   ]
  },
  {
   "cell_type": "code",
   "execution_count": 23,
   "metadata": {},
   "outputs": [
    {
     "name": "stdout",
     "output_type": "stream",
     "text": [
      "Number of CPUs in the system: 7\n"
     ]
    }
   ],
   "source": [
    "\n",
    "n_cpu = os.cpu_count()-1\n",
    "print(\"Number of CPUs in the system:\", n_cpu)"
   ]
  },
  {
   "cell_type": "code",
   "execution_count": 24,
   "metadata": {},
   "outputs": [],
   "source": [
    "class Custom_GridSearchCV():\n",
    "    def __init__(self, estimator, param_grid={}, cv=5):\n",
    "        \"\"\"\n",
    "        Custom_GridSearchCV: A grid search that automatically returns\n",
    "        various metrics for almost all sklearn, xgboost and catboost \n",
    "        classification models.\n",
    "        estimator: A string of the model\n",
    "        param_grid: parametric grid for grid search. All entries should be in \n",
    "        string format\n",
    "        cv: Number of cross validation folds \n",
    "        \"\"\"\n",
    "        # Initialize cv\n",
    "        self.cv = cv \n",
    "        # Initialize fitted, boolean if the grid of models have been fitted\n",
    "        self.fitted = False \n",
    "        # Initialize models list\n",
    "        self.models = []\n",
    "        # Initialize cross validation evaluations \n",
    "        self.cross_eval = {}\n",
    "        # Extract parameters for baseline model. Parameters with only one value\n",
    "        # are selected.\n",
    "        base_params = [k+\"=\"+v[0] for k,v in param_grid.items() if len(v)==1]\n",
    "        base_params = ','.join(base_params)\n",
    "        # Initialize baseline model \n",
    "        exec(\"self.baseline_model = \"+estimator+\"(\"+base_params+\")\")\n",
    "        # Create a combinations of the parameter grid \n",
    "        all_params = sorted(param_grid)\n",
    "        combinations = it.product(*(param_grid[name] for name in all_params))\n",
    "        # Iterate through the combinations and keys to create a list of models\n",
    "        keys = list(param_grid.keys())\n",
    "        for j, comb in enumerate(combinations):\n",
    "            params = \"\"\n",
    "            for i, key in enumerate(keys):\n",
    "                params += key+\"=\"+comb[i]+\",\"\n",
    "            # Append models \n",
    "            exec(\"self.models.append(\"+estimator+\"(\"+params[:-1]+\"))\")\n",
    "        # Initialize predictions dataframe\n",
    "        self.predictions = None\n",
    "        self.best_model_ = None \n",
    "            \n",
    "    def cross_validate(self, X, y, scoring=\"accuracy\", vectorization=None):\n",
    "        \"\"\"\n",
    "        Cross validate data on training data and return dataset with the \n",
    "        largest scoring.\n",
    "        X: A list containing different vectorized training datasets \n",
    "        y: Training labels \n",
    "        scoring: The type of scoring used in cross validation. Valid entries \n",
    "        are 'accuracy','precision','recall','f1' and 'roc_auc'\n",
    "        vectorization: User specified corpus vectorization labels to serve \n",
    "        as indices of report dataframe \n",
    "        \"\"\"\n",
    "        # Set default scoring \n",
    "        self.scoring = scoring\n",
    "        # Weighted boolean\n",
    "        weighted = False\n",
    "        # Cross validation: run custom_cross_validate   \n",
    "        if self.cross_eval=={}:            \n",
    "            for i in range(len(X)):\n",
    "                # Convert to dataframe \n",
    "                X[i] = pd.DataFrame(X[i])\n",
    "                # Run custom cross validate on each vectorizatized data   \n",
    "                train_dict, valid_dict = custom_cross_validate(self.baseline_model, \n",
    "                                                               X[i],\n",
    "                                                               y,\n",
    "                                                               cv=self.cv)\n",
    "                # Append values \n",
    "                self.cross_eval[vectorization[i]] = {'train':train_dict,\n",
    "                                               'cross_validate':valid_dict} \n",
    "        # 'return_report' returns values from 'cross_eval' and 'scoring' \n",
    "        return_report = {}        \n",
    "        for dataset in self.cross_eval.keys():\n",
    "            return_report[dataset] = {}\n",
    "            for report in self.cross_eval[dataset].keys():\n",
    "                return_report[dataset][report] = self.cross_eval[dataset][report][scoring]                \n",
    "        # 'report_dataframe': a dataframe where average values are selected\n",
    "        report_dataframe = pd.DataFrame(return_report).applymap(np.mean) \n",
    "        # Transpose the dataframe so that indices represent 'cross_eval_dataset' \n",
    "        report_dataframe = report_dataframe.transpose()\n",
    "        # Select the dataset with maximum score for training \n",
    "        max_train = report_dataframe.train.max()        \n",
    "        max_train_score_dataset = report_dataframe.train[report_dataframe.train==max_train].index\n",
    "        max_train_score_dataset = max_train_score_dataset[0]\n",
    "        # Select the dataset with maximum score for validation \n",
    "        max_valid = report_dataframe.cross_validate.max()        \n",
    "        max_valid_score_dataset = report_dataframe.cross_validate[report_dataframe.cross_validate==max_valid].index\n",
    "        max_valid_score_dataset = max_valid_score_dataset[0]\n",
    "        # Combine scores\n",
    "        max_score_dataset = {'train':max_train_score_dataset,\n",
    "                            'cross_validate':max_valid_score_dataset}\n",
    "        # Return 'return_report' dictionary, 'report_dataframe' dataframe and \n",
    "        # 'max_score_dataset' dataset string\n",
    "        return return_report, report_dataframe, max_score_dataset  \n",
    "        \n",
    "    def fit(self, X, y):\n",
    "        \"\"\"\n",
    "        Fit training data to a grid of models. \n",
    "        X: Training dataset \n",
    "        y: Training labels \n",
    "        \"\"\"\n",
    "        # Run if models are not fitted\n",
    "        if not self.fitted:\n",
    "            for model in self.models:\n",
    "                # Iterate through each model and fit training data\n",
    "                model.fit(X, y)\n",
    "            # Set 'fitted' to True     \n",
    "            self.fitted = True            \n",
    "            \n",
    "    def predict(self, X, y, train_test='test'):\n",
    "        \"\"\"\n",
    "        Predict values: Unlike predict functions for sklearn estimators, \n",
    "        this function takes y value as well, to report fitting metrics \n",
    "        X: Training/test dataset \n",
    "        y: Training/test labels \n",
    "        train_test: only 'train' and 'test' values need to be specified.\n",
    "        \"\"\"\n",
    "        # Dataframe to store prediction per 'train_test'\n",
    "        tr_ts = None\n",
    "        # Iterate through each model             \n",
    "        for model in self.models:\n",
    "            # Calculate predictions\n",
    "            preds = model.predict(X)\n",
    "            # Calculate the probabilities of predictions \n",
    "            prob_preds = model.predict_proba(X)\n",
    "            # Check if the model has 'decision_function'\n",
    "            if hasattr(model,'decision_function'):\n",
    "                score = model.decision_function(X)\n",
    "            else:\n",
    "                # Select scores for roc_curve calculation\n",
    "                score = prob_preds[:, 1]\n",
    "            # Find fpr and tpr values\n",
    "            fpr, tpr, threshold = roc_curve(y, score)\n",
    "            # Dict to store values \n",
    "            tmp = {}\n",
    "            # Populate 'tmp_df' with values\n",
    "            tmp['train_test'] = train_test\n",
    "            tmp['preds'] = [preds]\n",
    "            tmp['prob_preds'] = [prob_preds]\n",
    "            tmp['log_loss_score'] = log_loss(y, preds)\n",
    "            tmp['accuracy'] = accuracy_score(y, preds)\n",
    "            tmp['precision'] = precision_score(y, preds)\n",
    "            tmp['recall'] = recall_score(y, preds)\n",
    "            tmp['f1'] = f1_score(y, preds)\n",
    "            tmp['fpr'] = [fpr]\n",
    "            tmp['tpr'] = [tpr]\n",
    "            tmp['auc'] = auc(fpr, tpr)\n",
    "            tmp['roc_auc'] = roc_auc_score(y, preds)\n",
    "            # Create a temp dataframe with 'predictions' columns\n",
    "            tmp_df = pd.DataFrame(tmp)                \n",
    "            # Concatenate 'tmp_df' and 'tmp_df'\n",
    "            if not isinstance(tr_ts, pd.DataFrame): \n",
    "                tr_ts = tmp_df.copy()\n",
    "            else:\n",
    "                tr_ts = pd.concat([tr_ts,tmp_df])\n",
    "        # Reset indices \n",
    "        tr_ts.index = np.arange(len(self.models))\n",
    "        # Assign values to 'predictions'\n",
    "        if not isinstance(self.predictions, pd.DataFrame):\n",
    "            self.predictions = tr_ts.copy()\n",
    "        else:\n",
    "            self.predictions = pd.concat([self.predictions,tr_ts])\n",
    "    \n",
    "    def best_model(self, metrics=['accuracy'], valid_test='test'):\n",
    "        \"\"\"\n",
    "        This function returns the best model and model metrics \n",
    "        based on provided metrics from the test dataset.\n",
    "        metrics: A list of metrics\n",
    "        \"\"\"\n",
    "        # Select test cases only \n",
    "        test_metrics = self.predictions.loc[self.predictions.train_test==valid_test]\n",
    "        # Sort test_metrics by metrics in descending order          \n",
    "        test_metrics = test_metrics.sort_values(by=metrics, ascending=False)\n",
    "        # Reset indices  \n",
    "        test_metrics = test_metrics.reset_index()\n",
    "        # Best model index \n",
    "        idx = test_metrics.loc[0,:]['index']\n",
    "        # Return best model and best model metrics\n",
    "        if self.best_model_ is None: \n",
    "            self.best_model_ = self.models[idx]\n",
    "        return self.best_model_, test_metrics.loc[0,:]"
   ]
  },
  {
   "cell_type": "code",
   "execution_count": 25,
   "metadata": {},
   "outputs": [],
   "source": [
    "def custom_cross_validate(estimator, X, y, cv=5):\n",
    "    \"\"\"\n",
    "    'custom_cross_validate' function that performs oversampling and cross \n",
    "    validate results.\n",
    "    X: Training dataset \n",
    "    y: Training labels\n",
    "    cv: The number of cross-validation folds \n",
    "    \"\"\"\n",
    "    # Create dictionaries to hold the scores from each fold\n",
    "    train_dict = {'log_loss_score':np.ndarray(cv), 'precision':np.ndarray(cv), \n",
    "                 'accuracy':np.ndarray(cv), 'recall':np.ndarray(cv), \n",
    "                  'f1':np.ndarray(cv),'fpr':[],\n",
    "                  'tpr':[], 'auc':np.ndarray(cv), 'roc_auc':np.ndarray(cv)\n",
    "                 }\n",
    "    valid_dict = {'log_loss_score':np.ndarray(cv), 'precision':np.ndarray(cv), \n",
    "                 'accuracy':np.ndarray(cv), 'recall':np.ndarray(cv), \n",
    "                  'f1':np.ndarray(cv),'fpr':[],\n",
    "                  'tpr':[], 'auc':np.ndarray(cv), 'roc_auc':np.ndarray(cv)\n",
    "                 }\n",
    "    \n",
    "    # Instantiate a splitter object and loop over its result\n",
    "    kfold = StratifiedKFold(n_splits=cv, shuffle=True)\n",
    "    for fold, (train_index, val_index) in enumerate(kfold.split(X, y)):\n",
    "        # Extract train and validation subsets using the provided indices\n",
    "        X_t, X_val = X.iloc[train_index], X.iloc[val_index]\n",
    "        y_t, y_val = y.iloc[train_index], y.iloc[val_index]\n",
    "          \n",
    "        # Clone the provided model and fit it on the train subset\n",
    "        temp_model = clone(estimator)\n",
    "\n",
    "        # Fit the model \n",
    "        temp_model.fit(X_t, y_t)\n",
    "        \n",
    "        # Check if the mode has 'decision_function' attribute\n",
    "        if hasattr(temp_model, 'decision_function'):\n",
    "            train_score = temp_model.decision_function(X_t)\n",
    "            val_score = temp_model.decision_function(X_val)\n",
    "        else:        \n",
    "            # Calculate probablities \n",
    "            train_score = temp_model.predict_proba(X_t)[:,1]\n",
    "            val_score = temp_model.predict_proba(X_val)[:,1]\n",
    "                \n",
    "        # Find predictions \n",
    "        train_pred = temp_model.predict(X_t)\n",
    "        val_pred = temp_model.predict(X_val)\n",
    "        \n",
    "        # Evaluate the provided model on the train and validation subsets\n",
    "        # Log loss score \n",
    "        train_dict['log_loss_score'][fold] = log_loss(y_t, train_pred)\n",
    "        valid_dict['log_loss_score'][fold] = log_loss(y_val, val_pred)\n",
    "        # Accuracy score \n",
    "        train_dict['accuracy'][fold] = accuracy_score(y_t, train_pred)\n",
    "        valid_dict['accuracy'][fold] = accuracy_score(y_val, val_pred)\n",
    "        # Precision score \n",
    "        train_dict['precision'][fold] = precision_score(y_t, train_pred)\n",
    "        valid_dict['precision'][fold] = precision_score(y_val, val_pred)\n",
    "        # Recall score\n",
    "        train_dict['recall'][fold] = recall_score(y_t, train_pred)\n",
    "        valid_dict['recall'][fold] = recall_score(y_val, val_pred)\n",
    "        # F1 score \n",
    "        train_dict['f1'][fold] = f1_score(y_t, train_pred)\n",
    "        valid_dict['f1'][fold] = f1_score(y_val, val_pred)\n",
    "        # FPR and TPR \n",
    "        train_fpr, train_tpr, threshold = roc_curve(y_t, train_score)\n",
    "        valid_fpr, valid_tpr, threshold = roc_curve(y_val, val_score)\n",
    "        train_dict['fpr'].append(train_fpr)\n",
    "        train_dict['tpr'].append(train_tpr)\n",
    "        valid_dict['fpr'].append(valid_fpr)\n",
    "        valid_dict['tpr'].append(valid_tpr)\n",
    "        # AUC\n",
    "        train_dict['auc'][fold] = auc(train_fpr, train_tpr)\n",
    "        valid_dict['auc'][fold] = auc(valid_fpr, valid_tpr)\n",
    "        # ROC_AUC \n",
    "        train_dict['roc_auc'][fold] = roc_auc_score(y_t, train_pred)\n",
    "        valid_dict['roc_auc'][fold] = roc_auc_score(y_val, val_pred)\n",
    "        \n",
    "    # Return training and validation results\n",
    "    return train_dict, valid_dict"
   ]
  },
  {
   "cell_type": "markdown",
   "metadata": {},
   "source": [
    "## Model Performance Visualization "
   ]
  },
  {
   "cell_type": "markdown",
   "metadata": {},
   "source": [
    "The following function helps in visualizing the log losses, combined ROC curves of training and validation datasets, and performance metrics of training and validation datasets. "
   ]
  },
  {
   "cell_type": "code",
   "execution_count": 26,
   "metadata": {},
   "outputs": [],
   "source": [
    "def prepare_metrics(model_grid, train_val='train'):\n",
    "    \"\"\"\n",
    "    This function plots metrics on different datasets\n",
    "    model_grid: Custom_GridSearchCV object\n",
    "    Run this code after fitting. \n",
    "    \"\"\"    \n",
    "    # Convert cross_eval from Custom_GrisSearchCV into dataframe\n",
    "    # Table is transposed to set dataset as columns\n",
    "    tmp = pd.DataFrame(model_grid.cross_eval).transpose()\n",
    "    tmp = pd.DataFrame(tmp[train_val].to_dict())\n",
    "    # Initialize metrics dataframe \n",
    "    metrics = pd.DataFrame(columns=list(tmp.columns)+['metric'])\n",
    "    # Iterate through each metric in 'tmp' and assign to metrics dataframe\n",
    "    for idx in tmp.index:\n",
    "        # Create an empty dataframe \n",
    "        metric = pd.DataFrame(tmp.loc[idx,:].to_dict())\n",
    "        # Update type of metric \n",
    "        metric['metric'] = idx\n",
    "        # Append results\n",
    "        metrics = pd.concat([metrics, metric])\n",
    "    # Reset metrics\n",
    "    metrics = metrics.reset_index()\n",
    "    # Rename 'index' column to 'fold'\n",
    "    metrics.rename(columns={'index':'fold'}, inplace=True)\n",
    "    # Initialiaze squeezed metrics dataframe\n",
    "    squeezed_metrics = pd.DataFrame(columns=['fold','metric','dataset',\n",
    "                                             'value','train_val'])\n",
    "    # Iterate through each column and populate 'squeezed_metrics'\n",
    "    for col in model_grid.cross_eval.keys():\n",
    "        # Create empty dataframe \n",
    "        sq_met = pd.DataFrame(columns=squeezed_metrics.columns)\n",
    "        # Populate 'sq_met'\n",
    "        sq_met.fold = metrics.fold\n",
    "        sq_met.metric = metrics.metric\n",
    "        sq_met.dataset = col\n",
    "        sq_met.value = metrics[col]\n",
    "        sq_met.train_val = train_val\n",
    "        # Append 'sq_met' to 'squeezed_metrics'\n",
    "        squeezed_metrics = pd.concat([squeezed_metrics, sq_met], \n",
    "                                     ignore_index=True)\n",
    "    # Set log-loss to a variable and remove the column from 'squeezed_metrics'\n",
    "    log_loss_vals =  squeezed_metrics.loc[squeezed_metrics.metric =='log_loss_score']\n",
    "    squeezed_metrics.drop(log_loss_vals.index, inplace=True)\n",
    "    # Get fpr and tpr from 'squeezed_metrics'\n",
    "    fpr = squeezed_metrics.loc[squeezed_metrics.metric=='fpr']\n",
    "    tpr = squeezed_metrics.loc[squeezed_metrics.metric=='tpr']\n",
    "    # Drop 'fpr' and 'tpr' from 'squeezed_metrics'\n",
    "    squeezed_metrics.drop(fpr.index, inplace=True)\n",
    "    squeezed_metrics.drop(tpr.index, inplace=True)\n",
    "    # Find the longest fpr/tpr\n",
    "    roc_max_len = fpr.value.apply(lambda x: len(x)).max()\n",
    "    # Reset indices for 'fpr' and 'tpr'\n",
    "    fpr = fpr.reset_index()\n",
    "    tpr = tpr.reset_index()\n",
    "    # Initialize 'fpr_mat' and 'tpr_mat' \n",
    "    fpr_mat = np.zeros((len(fpr), roc_max_len))\n",
    "    tpr_mat = np.zeros((len(tpr), roc_max_len))\n",
    "    # Iteratre through each fpr and tpr, and interpolate values\n",
    "    for i in range(len(fpr)):\n",
    "        # Create a uniformly spaced 'fpr' values\n",
    "        xvals = np.linspace(0, 1, roc_max_len)\n",
    "        # Interpolate y values \n",
    "        yinterp = np.interp(xvals, fpr.loc[i,'value'], tpr.loc[i,'value'])\n",
    "        # Update fpr and tpr matrix \n",
    "        fpr_mat[i,:] = xvals\n",
    "        tpr_mat[i,:] = yinterp\n",
    "    # Create roc_vals dictionary \n",
    "    roc_vals = {}\n",
    "    # Instead of taking the entire matrices, the mean and std values are \n",
    "    # selected for 'fpr' and 'tpr'\n",
    "    roc_vals['fpr_mean'] = fpr_mat.mean(axis=0)\n",
    "    roc_vals['tpr_mean'] = tpr_mat.mean(axis=0)\n",
    "    roc_vals['fpr_std'] = fpr_mat.std(axis=0)\n",
    "    roc_vals['tpr_std'] = tpr_mat.std(axis=0)\n",
    "    # Return squeezed metrics, log loss and roc \n",
    "    return squeezed_metrics, log_loss_vals, roc_vals\n",
    "\n",
    "\n",
    "def plot_metrics(model_grid):\n",
    "    \"\"\"\n",
    "    This function plots metrics on different datasets\n",
    "    model_grid: Custom_GridSearchCV object\n",
    "    Run this code after fitting. \n",
    "    \"\"\"    \n",
    "    # Get parameters for training \n",
    "    tr_metrics, tr_log_loss, tr_roc_vals = prepare_metrics(model_grid, \n",
    "                                                           'train')\n",
    "    # Get parameters for validation\n",
    "    vl_metrics, vl_log_loss, vl_roc_vals = prepare_metrics(model_grid, \n",
    "                                                           'cross_validate')\n",
    "    # Combine log losses for training and validation \n",
    "    log_loss_combined = pd.concat([tr_log_loss,vl_log_loss])\n",
    "    # Create figure to plot log loss and ROC curve \n",
    "    fig, axes = plt.subplots(1 , 2, figsize=(15,6))\n",
    "    # Log loss for training and validation \n",
    "    g1 = sns.boxplot(x=\"dataset\", y=\"value\", hue=\"train_val\",\n",
    "                     data=log_loss_combined, ax=axes[0])\n",
    "    # Format labels and title \n",
    "    g1.set_xlabel('')\n",
    "    g1.set_ylabel('Log Loss',fontsize=13)\n",
    "    g1.set_title('Log Loss vs Dataset',fontsize=15)\n",
    "    g1.legend(title='Fold')\n",
    "    \n",
    "    # Plot mean ROC curve for training fold\n",
    "    g2 = sns.lineplot(x=tr_roc_vals['fpr_mean'], y=tr_roc_vals['tpr_mean'], \n",
    "                  label='train', ax=axes[1], color='tab:blue')\n",
    "    # Plot the standard deviation for training ROC \n",
    "    plt.fill_between(tr_roc_vals['fpr_mean'], \n",
    "                     tr_roc_vals['tpr_mean'] - tr_roc_vals['tpr_std'],\n",
    "                     tr_roc_vals['tpr_mean'] + tr_roc_vals['tpr_std'],\n",
    "                     color='tab:blue', alpha=0.2)\n",
    "    # Plot mean ROC curve for validation fold\n",
    "    sns.lineplot(x=vl_roc_vals['fpr_mean'], y=vl_roc_vals['tpr_mean'], \n",
    "                  label='cross_validate', ax=axes[1], color='tab:orange')\n",
    "    # Plot the standard deviation for validation ROC\n",
    "    plt.fill_between(vl_roc_vals['fpr_mean'], \n",
    "                     vl_roc_vals['tpr_mean'] - vl_roc_vals['tpr_std'],\n",
    "                     vl_roc_vals['tpr_mean'] + vl_roc_vals['tpr_std'],\n",
    "                     color='tab:orange', alpha=0.2)\n",
    "    \n",
    "    # Format labels and title \n",
    "    plt.plot([0, 1], [0, 1], color='gray', linestyle='--')\n",
    "    g2.set_xlabel('False Positve Rate', fontsize=13)\n",
    "    g2.legend(title='Fold')\n",
    "    g2.set_ylabel('True Positve Rate', fontsize=13)\n",
    "    g2.set_title('ROC Curve',fontsize=15)\n",
    "    \n",
    "    # Plot metrics for training fold\n",
    "    fig, axes = plt.subplots(2 , 1, figsize=(15,12))\n",
    "    g3 = sns.boxplot(x=\"dataset\", y=\"value\", hue=\"metric\",\n",
    "                     data=tr_metrics, ax=axes[0])\n",
    "    # Format labels and title\n",
    "    g3.set_xlabel('')\n",
    "    g3.set_ylabel('Score', fontsize=13)\n",
    "    g3.set_title('Training Scores vs Dataset',fontsize=15)\n",
    "    g3.legend(title='Metric')\n",
    "    \n",
    "    # Plot metrics for validation fold\n",
    "    g4 = sns.boxplot(x=\"dataset\", y=\"value\", hue=\"metric\",\n",
    "                     data=vl_metrics, ax=axes[1])\n",
    "    # Format labels and title\n",
    "    g4.set_xlabel('')\n",
    "    g4.set_ylabel('Score',fontsize=13)\n",
    "    g4.set_title('Cross Validation Scores vs Dataset',fontsize=15)\n",
    "    g4.legend(title='Metric')"
   ]
  },
  {
   "cell_type": "markdown",
   "metadata": {},
   "source": [
    "The following function also does similar operations for training and test datasets. "
   ]
  },
  {
   "cell_type": "code",
   "execution_count": 27,
   "metadata": {},
   "outputs": [],
   "source": [
    "def prepare_predictions(model_grid, train_test='test'):\n",
    "    \"\"\"\n",
    "    This function plots metrics on train/test predictions \n",
    "    model_grid: Custom_GridSearchCV object\n",
    "    Run this code after fitting. \n",
    "    \"\"\"    \n",
    "    # Convert prediction from Custom_GrisSearchCV into dataframe    \n",
    "    # Select train or test\n",
    "    tmp = model_grid.predictions.loc[model_grid.predictions.train_test==train_test]\n",
    "    # Initialize squeezed predictions     \n",
    "    squeezed_preds = pd.DataFrame(columns=['metric','value','train_test'])\n",
    "    # Find metrics from 'cross_eval' \n",
    "    columns = model_grid.cross_eval['TfIdf']['train'].keys()\n",
    "    # Iterate through 'predictions' columns \n",
    "    for col in columns:\n",
    "        # Initialize a dummy dataframe for each column\n",
    "        sq_preds = pd.DataFrame(columns=squeezed_preds.columns)\n",
    "        # Assign values \n",
    "        sq_preds.value = tmp[col]\n",
    "        sq_preds.train_test = tmp['train_test']\n",
    "        sq_preds.metric = col\n",
    "        # Append values to 'squeezed_preds'\n",
    "        squeezed_preds = pd.concat([squeezed_preds,sq_preds])\n",
    "    # Reset index\n",
    "    squeezed_preds = squeezed_preds.reset_index()\n",
    "    # Get log loss from 'squeezed_preds'    \n",
    "    log_loss_vals = squeezed_preds.loc[squeezed_preds.metric=='log_loss_score']\n",
    "    squeezed_preds.drop(log_loss_vals.index, inplace=True)\n",
    "    # Get fpr and tpr from 'squeezed_preds'\n",
    "    fpr = squeezed_preds.loc[squeezed_preds.metric=='fpr']\n",
    "    tpr = squeezed_preds.loc[squeezed_preds.metric=='tpr']\n",
    "    # Drop 'fpr' and 'tpr' from 'squeezed_preds'\n",
    "    squeezed_preds.drop(fpr.index, inplace=True)\n",
    "    squeezed_preds.drop(tpr.index, inplace=True)\n",
    "    # Find the longest fpr/tpr\n",
    "    roc_max_len = fpr.value.apply(lambda x: len(x)).max()\n",
    "    # Reset indices for 'fpr' and 'tpr'\n",
    "    fpr = fpr.reset_index()\n",
    "    tpr = tpr.reset_index()\n",
    "    # Initialize 'fpr_mat' and 'tpr_mat' \n",
    "    fpr_mat = np.zeros((len(fpr), roc_max_len))\n",
    "    tpr_mat = np.zeros((len(tpr), roc_max_len))\n",
    "    # Iteratre through each fpr and tpr, and interpolate values\n",
    "    for i in range(len(fpr)):\n",
    "        # Create a uniformly spaced 'fpr' values\n",
    "        xvals = np.linspace(0, 1, roc_max_len)\n",
    "        # Interpolate y values \n",
    "        yinterp = np.interp(xvals, fpr.loc[i,'value'], tpr.loc[i,'value'])\n",
    "        # Update fpr and tpr matrix \n",
    "        fpr_mat[i,:] = xvals\n",
    "        tpr_mat[i,:] = yinterp\n",
    "    # Create roc_vals dictionary \n",
    "    roc_vals = {}\n",
    "    # Instead of taking the entire matrices, the mean and std values are \n",
    "    # selected for 'fpr' and 'tpr'\n",
    "    roc_vals['fpr_mean'] = fpr_mat.mean(axis=0)\n",
    "    roc_vals['tpr_mean'] = tpr_mat.mean(axis=0)\n",
    "    roc_vals['fpr_std'] = fpr_mat.std(axis=0)\n",
    "    roc_vals['tpr_std'] = tpr_mat.std(axis=0)\n",
    "    # Return squeezed metrics, log loss and roc \n",
    "    return squeezed_preds, log_loss_vals, roc_vals\n",
    "\n",
    "def plot_predictions(model_grid, valid_test='test'):\n",
    "    \"\"\"\n",
    "    This function plots predictions on different datasets\n",
    "    model_grid: Custom_GridSearchCV object\n",
    "    Run this code after fitting. \n",
    "    \"\"\"    \n",
    "    # Get parameters for training \n",
    "    tr_preds, tr_log_loss, tr_roc_vals = prepare_predictions(model_grid, \n",
    "                                                           'train')\n",
    "    # Get parameters for validation\n",
    "    ts_preds, ts_log_loss, ts_roc_vals = prepare_predictions(model_grid, \n",
    "                                                           valid_test)\n",
    "    # Combine log losses for training and validation \n",
    "    log_loss_combined = pd.concat([tr_log_loss,ts_log_loss])\n",
    "    # Create figure to plot log loss and ROC curve \n",
    "    fig, axes = plt.subplots(1 , 2, figsize=(15,6))\n",
    "    # Log loss for training and validation \n",
    "    g1 = sns.boxplot(x=\"metric\", y=\"value\", hue=\"train_test\",\n",
    "                     data=log_loss_combined, ax=axes[0])\n",
    "    # Format labels and title \n",
    "    g1.set_xlabel('')\n",
    "    g1.set_ylabel('Log Loss',fontsize=13)\n",
    "    g1.set_title('Log Loss vs Dataset',fontsize=15)\n",
    "    g1.legend(title='Dataset')\n",
    "    \n",
    "    # Plot mean ROC curve for training fold\n",
    "    g2 = sns.lineplot(x=tr_roc_vals['fpr_mean'], y=tr_roc_vals['tpr_mean'], \n",
    "                  label='train', ax=axes[1], color='tab:blue')\n",
    "    # Plot the standard deviation for training ROC \n",
    "    plt.fill_between(tr_roc_vals['fpr_mean'], \n",
    "                     tr_roc_vals['tpr_mean'] - tr_roc_vals['tpr_std'],\n",
    "                     tr_roc_vals['tpr_mean'] + tr_roc_vals['tpr_std'],\n",
    "                     color='tab:blue', alpha=0.2)\n",
    "    # Plot mean ROC curve for validation fold\n",
    "    sns.lineplot(x=ts_roc_vals['fpr_mean'], y=ts_roc_vals['tpr_mean'], \n",
    "                  label=valid_test, ax=axes[1], color='tab:orange')\n",
    "    # Plot the standard deviation for validation ROC\n",
    "    plt.fill_between(ts_roc_vals['fpr_mean'], \n",
    "                     ts_roc_vals['tpr_mean'] - ts_roc_vals['tpr_std'],\n",
    "                     ts_roc_vals['tpr_mean'] + ts_roc_vals['tpr_std'],\n",
    "                     color='tab:orange', alpha=0.2)\n",
    "    \n",
    "    # Format labels and title \n",
    "    plt.plot([0, 1], [0, 1], color='gray', linestyle='--')\n",
    "    g2.set_xlabel('False Positve Rate', fontsize=13)\n",
    "    g2.legend(title='Dataset')\n",
    "    g2.set_ylabel('True Positve Rate', fontsize=13)\n",
    "    g2.set_title('ROC Curve',fontsize=15)\n",
    "\n",
    "    # Plot metrics for training data\n",
    "    preds = pd.concat([tr_preds,ts_preds])\n",
    "    fig, ax = plt.subplots(figsize=(15,6))\n",
    "    g3 = sns.boxplot(x=\"train_test\", y=\"value\", hue=\"metric\",\n",
    "                     data=preds, ax=ax)\n",
    "    # Format labels and title\n",
    "    g3.set_xlabel('')\n",
    "    g3.set_ylabel('Score', fontsize=13)\n",
    "    g3.set_title('Scores vs Training and '+valid_test.title()+' Datasets',fontsize=15)\n",
    "    g3.legend(title='Metric')"
   ]
  },
  {
   "cell_type": "code",
   "execution_count": 28,
   "metadata": {},
   "outputs": [],
   "source": [
    "def plot_confusion_matrix(y_true, y_pred, normalize=None):\n",
    "    fig, ax = plt.subplots(figsize=(5,4))\n",
    "    cm = confusion_matrix(y_true, y_pred, normalize=normalize)\n",
    "    sns.heatmap(cm, annot=True, cmap='viridis', linecolor='black', \n",
    "                linewidth=1, ax=ax)\n",
    "    plt.xlabel('Predicted label')\n",
    "    plt.ylabel('True label')\n",
    "    plt.xlim(2,0)\n",
    "    plt.ylim(0,2)"
   ]
  },
  {
   "cell_type": "markdown",
   "metadata": {},
   "source": [
    "Training the models take a long time. So, the models are saved as `dill` files that can be read from file.  "
   ]
  },
  {
   "cell_type": "markdown",
   "metadata": {},
   "source": [
    "Best performing models and their predictions will be stored in these variables.\n",
    "\n",
    "<b><font color='red'>CAUTION: running the entire notebook takes at least 8 hours.</font></b> \n",
    "\n",
    "The pretrained model can be found in [this link](https://drive.google.com/file/d/1-35hJfJi4Z8ahXzGrHPJfPpMSibErAHx/view?usp=drivesdk). "
   ]
  },
  {
   "cell_type": "code",
   "execution_count": 29,
   "metadata": {},
   "outputs": [],
   "source": [
    "# Best models list \n",
    "best_models = []\n",
    "\n",
    "# Metrics for best models \n",
    "best_models_metrics = None \n",
    "\n",
    "# Define metrics by importance\n",
    "metrics = ['accuracy','auc','recall']"
   ]
  },
  {
   "cell_type": "markdown",
   "metadata": {},
   "source": [
    "## Shallow Learning "
   ]
  },
  {
   "cell_type": "markdown",
   "metadata": {},
   "source": [
    "### Naive Bayes"
   ]
  },
  {
   "cell_type": "markdown",
   "metadata": {},
   "source": [
    "The first model used is logistic regression. Regularization factor, fit intercept, and L1 or L2 penalty were considered for grid search. `lbfgs` solver does not allow for L1 penalty. So, `liblinear` solver used instead. The downside is that ` liblinear` does not allow for parallelized jobs, which is why ‘n_jobs’ is missing as an input parameter.  "
   ]
  },
  {
   "cell_type": "code",
   "execution_count": 30,
   "metadata": {},
   "outputs": [],
   "source": [
    "# Check if the variable exists\n",
    "if not exists('nb_gs.pickle'):    \n",
    "\n",
    "    # Define parameters ranges \n",
    "    params = {'alpha':['0','1'],\n",
    "              'fit_prior':['False','True']}\n",
    "\n",
    "    # Create a Custom_GridSearchCV instance\n",
    "    nb_gs = Custom_GridSearchCV('MultinomialNB', param_grid=params)\n",
    "else:\n",
    "    with open('nb_gs.pickle', 'rb') as f:\n",
    "        nb_gs = pickle.load(f)    "
   ]
  },
  {
   "cell_type": "code",
   "execution_count": 31,
   "metadata": {},
   "outputs": [],
   "source": [
    "# Run cross-validation with accuracy as the primary scoring\n",
    "rprt, rp_df, _ = nb_gs.cross_validate(X_train_vec[:2], y_train, \n",
    "                                      vectorization=vec_labels[:2])"
   ]
  },
  {
   "cell_type": "markdown",
   "metadata": {},
   "source": [
    "In orders to choose the best dataset to fit with the model, let's aggregate the metrics. Sorting the average accuracy, recall and AUC metrics yields: "
   ]
  },
  {
   "cell_type": "code",
   "execution_count": 32,
   "metadata": {},
   "outputs": [
    {
     "data": {
      "text/html": [
       "<div>\n",
       "<style scoped>\n",
       "    .dataframe tbody tr th:only-of-type {\n",
       "        vertical-align: middle;\n",
       "    }\n",
       "\n",
       "    .dataframe tbody tr th {\n",
       "        vertical-align: top;\n",
       "    }\n",
       "\n",
       "    .dataframe thead th {\n",
       "        text-align: right;\n",
       "    }\n",
       "</style>\n",
       "<table border=\"1\" class=\"dataframe\">\n",
       "  <thead>\n",
       "    <tr style=\"text-align: right;\">\n",
       "      <th></th>\n",
       "      <th>precision</th>\n",
       "      <th>accuracy</th>\n",
       "      <th>recall</th>\n",
       "      <th>f1</th>\n",
       "      <th>auc</th>\n",
       "      <th>roc_auc</th>\n",
       "    </tr>\n",
       "  </thead>\n",
       "  <tbody>\n",
       "    <tr>\n",
       "      <th>TfIdf_train</th>\n",
       "      <td>0.793827</td>\n",
       "      <td>0.795987</td>\n",
       "      <td>0.799663</td>\n",
       "      <td>0.796734</td>\n",
       "      <td>0.881023</td>\n",
       "      <td>0.795987</td>\n",
       "    </tr>\n",
       "    <tr>\n",
       "      <th>TfIdf_cross_validate</th>\n",
       "      <td>0.793735</td>\n",
       "      <td>0.795919</td>\n",
       "      <td>0.799639</td>\n",
       "      <td>0.796675</td>\n",
       "      <td>0.880983</td>\n",
       "      <td>0.795919</td>\n",
       "    </tr>\n",
       "    <tr>\n",
       "      <th>Count_train</th>\n",
       "      <td>0.792897</td>\n",
       "      <td>0.7959</td>\n",
       "      <td>0.801025</td>\n",
       "      <td>0.79694</td>\n",
       "      <td>0.875053</td>\n",
       "      <td>0.7959</td>\n",
       "    </tr>\n",
       "    <tr>\n",
       "      <th>Count_cross_validate</th>\n",
       "      <td>0.792864</td>\n",
       "      <td>0.795862</td>\n",
       "      <td>0.800981</td>\n",
       "      <td>0.796901</td>\n",
       "      <td>0.875016</td>\n",
       "      <td>0.795862</td>\n",
       "    </tr>\n",
       "  </tbody>\n",
       "</table>\n",
       "</div>"
      ],
      "text/plain": [
       "                     precision  accuracy    recall        f1       auc  \\\n",
       "TfIdf_train           0.793827  0.795987  0.799663  0.796734  0.881023   \n",
       "TfIdf_cross_validate  0.793735  0.795919  0.799639  0.796675  0.880983   \n",
       "Count_train           0.792897    0.7959  0.801025   0.79694  0.875053   \n",
       "Count_cross_validate  0.792864  0.795862  0.800981  0.796901  0.875016   \n",
       "\n",
       "                       roc_auc  \n",
       "TfIdf_train           0.795987  \n",
       "TfIdf_cross_validate  0.795919  \n",
       "Count_train             0.7959  \n",
       "Count_cross_validate  0.795862  "
      ]
     },
     "execution_count": 32,
     "metadata": {},
     "output_type": "execute_result"
    }
   ],
   "source": [
    "# Find training and validation metrics\n",
    "nb_gs_metrics_train,_,_ = prepare_metrics(nb_gs, train_val='train')\n",
    "nb_gs_metrics_valid,_,_ = prepare_metrics(nb_gs, train_val='cross_validate')\n",
    "\n",
    "# Combine metrics \n",
    "nb_gs_metrics = pd.concat([nb_gs_metrics_train,nb_gs_metrics_valid])\n",
    "\n",
    "# Rename dataset as 'dataset_train/validate'\n",
    "nb_gs_metrics.dataset = nb_gs_metrics.dataset+'_'+nb_gs_metrics.train_val\n",
    "\n",
    "# Create a placeholder dataframe to store the average values\n",
    "nb_gs_metrics_mean = pd.DataFrame(columns=nb_gs_metrics.metric.unique(),\n",
    "                                  index=nb_gs_metrics.dataset.unique())\n",
    "\n",
    "# Iterate through each row and column, aggregate values and take the mean\n",
    "for col in nb_gs_metrics_mean.columns:\n",
    "    for idx in nb_gs_metrics_mean.index:\n",
    "        avg = nb_gs_metrics.loc[(nb_gs_metrics.metric==col) & (nb_gs_metrics.dataset==idx),'value']\n",
    "        nb_gs_metrics_mean.loc[idx,col] = avg.mean()\n",
    "\n",
    "# Sort average metrics by recall, AUC and accuracy        \n",
    "nb_gs_metrics_mean.sort_values(by=metrics,ascending=False)"
   ]
  },
  {
   "cell_type": "markdown",
   "metadata": {},
   "source": [
    "The performance metrics of the model are shown below. "
   ]
  },
  {
   "cell_type": "code",
   "execution_count": 33,
   "metadata": {},
   "outputs": [
    {
     "data": {
      "image/png": "[encoded data removed]",
      "text/plain": [
       "<Figure size 1080x432 with 2 Axes>"
      ]
     },
     "metadata": {
      "needs_background": "light"
     },
     "output_type": "display_data"
    },
    {
     "data": {
      "image/png": "[encoded data removed]",
      "text/plain": [
       "<Figure size 1080x864 with 2 Axes>"
      ]
     },
     "metadata": {
      "needs_background": "light"
     },
     "output_type": "display_data"
    }
   ],
   "source": [
    "# Plot the metrics for training and validation datasets\n",
    "plot_metrics(nb_gs)"
   ]
  },
  {
   "cell_type": "markdown",
   "metadata": {},
   "source": [
    "Although `rand` did have the highest accuracy, `class_weight` had consistent performance with the training and validation dataset. "
   ]
  },
  {
   "cell_type": "code",
   "execution_count": 34,
   "metadata": {
    "scrolled": true
   },
   "outputs": [],
   "source": [
    "# Fit grid search models with the best training dataset\n",
    "# Specifying embedding to have better accuracy values\n",
    "nb_gs.fit(X_train_vec[0], y_train)"
   ]
  },
  {
   "cell_type": "markdown",
   "metadata": {},
   "source": [
    "Now, let's produce predictions based on the model grid. "
   ]
  },
  {
   "cell_type": "code",
   "execution_count": 35,
   "metadata": {},
   "outputs": [
    {
     "data": {
      "text/html": [
       "<div>\n",
       "<style scoped>\n",
       "    .dataframe tbody tr th:only-of-type {\n",
       "        vertical-align: middle;\n",
       "    }\n",
       "\n",
       "    .dataframe tbody tr th {\n",
       "        vertical-align: top;\n",
       "    }\n",
       "\n",
       "    .dataframe thead th {\n",
       "        text-align: right;\n",
       "    }\n",
       "</style>\n",
       "<table border=\"1\" class=\"dataframe\">\n",
       "  <thead>\n",
       "    <tr style=\"text-align: right;\">\n",
       "      <th></th>\n",
       "      <th>train_test</th>\n",
       "      <th>preds</th>\n",
       "      <th>prob_preds</th>\n",
       "      <th>log_loss_score</th>\n",
       "      <th>accuracy</th>\n",
       "      <th>precision</th>\n",
       "      <th>recall</th>\n",
       "      <th>f1</th>\n",
       "      <th>fpr</th>\n",
       "      <th>tpr</th>\n",
       "      <th>auc</th>\n",
       "      <th>roc_auc</th>\n",
       "    </tr>\n",
       "  </thead>\n",
       "  <tbody>\n",
       "    <tr>\n",
       "      <th>0</th>\n",
       "      <td>validate</td>\n",
       "      <td>[1, 0, 0, 1, 0, 1, 0, 1, 1, 0, 1, 1, 0, 1, 0, ...</td>\n",
       "      <td>[[0.3902222283229388, 0.6097777716770622], [0....</td>\n",
       "      <td>8.928094</td>\n",
       "      <td>0.741508</td>\n",
       "      <td>0.736084</td>\n",
       "      <td>0.752996</td>\n",
       "      <td>0.744444</td>\n",
       "      <td>[0.0, 0.0, 0.0, 1.8518518518518519e-06, 1.8518...</td>\n",
       "      <td>[0.0, 1.8518518518518519e-06, 0.00014814814814...</td>\n",
       "      <td>0.821527</td>\n",
       "      <td>0.741508</td>\n",
       "    </tr>\n",
       "    <tr>\n",
       "      <th>1</th>\n",
       "      <td>validate</td>\n",
       "      <td>[1, 0, 0, 1, 0, 1, 0, 1, 1, 0, 1, 1, 0, 1, 0, ...</td>\n",
       "      <td>[[0.3902222283229388, 0.60977777167706], [0.72...</td>\n",
       "      <td>8.928094</td>\n",
       "      <td>0.741508</td>\n",
       "      <td>0.736084</td>\n",
       "      <td>0.752996</td>\n",
       "      <td>0.744444</td>\n",
       "      <td>[0.0, 0.0, 0.0, 1.8518518518518519e-06, 1.8518...</td>\n",
       "      <td>[0.0, 1.8518518518518519e-06, 0.00014814814814...</td>\n",
       "      <td>0.821527</td>\n",
       "      <td>0.741508</td>\n",
       "    </tr>\n",
       "    <tr>\n",
       "      <th>2</th>\n",
       "      <td>validate</td>\n",
       "      <td>[1, 0, 0, 1, 0, 1, 0, 1, 1, 0, 1, 1, 0, 1, 0, ...</td>\n",
       "      <td>[[0.3902264776423026, 0.6097735223576966], [0....</td>\n",
       "      <td>8.928094</td>\n",
       "      <td>0.741508</td>\n",
       "      <td>0.736081</td>\n",
       "      <td>0.753004</td>\n",
       "      <td>0.744446</td>\n",
       "      <td>[0.0, 0.0, 0.0, 1.8518518518518519e-06, 1.8518...</td>\n",
       "      <td>[0.0, 1.8518518518518519e-06, 0.00014814814814...</td>\n",
       "      <td>0.821528</td>\n",
       "      <td>0.741508</td>\n",
       "    </tr>\n",
       "    <tr>\n",
       "      <th>3</th>\n",
       "      <td>validate</td>\n",
       "      <td>[1, 0, 0, 1, 0, 1, 0, 1, 1, 0, 1, 1, 0, 1, 0, ...</td>\n",
       "      <td>[[0.3902264776423026, 0.6097735223576966], [0....</td>\n",
       "      <td>8.928094</td>\n",
       "      <td>0.741508</td>\n",
       "      <td>0.736081</td>\n",
       "      <td>0.753004</td>\n",
       "      <td>0.744446</td>\n",
       "      <td>[0.0, 0.0, 0.0, 1.8518518518518519e-06, 1.8518...</td>\n",
       "      <td>[0.0, 1.8518518518518519e-06, 0.00014814814814...</td>\n",
       "      <td>0.821528</td>\n",
       "      <td>0.741508</td>\n",
       "    </tr>\n",
       "    <tr>\n",
       "      <th>0</th>\n",
       "      <td>train</td>\n",
       "      <td>[0, 0, 1, 1, 0, 0, 0, 0, 0, 0, 0, 1, 0, 0, 1, ...</td>\n",
       "      <td>[[0.6285026028322631, 0.37149739716773683], [0...</td>\n",
       "      <td>16.562082</td>\n",
       "      <td>0.520480</td>\n",
       "      <td>0.566003</td>\n",
       "      <td>0.175625</td>\n",
       "      <td>0.268071</td>\n",
       "      <td>[0.0, 7.936507936507937e-07, 7.936507936507937...</td>\n",
       "      <td>[0.0, 0.0, 1.5873015873015873e-06, 1.587301587...</td>\n",
       "      <td>0.540398</td>\n",
       "      <td>0.520480</td>\n",
       "    </tr>\n",
       "  </tbody>\n",
       "</table>\n",
       "</div>"
      ],
      "text/plain": [
       "  train_test                                              preds  \\\n",
       "0   validate  [1, 0, 0, 1, 0, 1, 0, 1, 1, 0, 1, 1, 0, 1, 0, ...   \n",
       "1   validate  [1, 0, 0, 1, 0, 1, 0, 1, 1, 0, 1, 1, 0, 1, 0, ...   \n",
       "2   validate  [1, 0, 0, 1, 0, 1, 0, 1, 1, 0, 1, 1, 0, 1, 0, ...   \n",
       "3   validate  [1, 0, 0, 1, 0, 1, 0, 1, 1, 0, 1, 1, 0, 1, 0, ...   \n",
       "0      train  [0, 0, 1, 1, 0, 0, 0, 0, 0, 0, 0, 1, 0, 0, 1, ...   \n",
       "\n",
       "                                          prob_preds  log_loss_score  \\\n",
       "0  [[0.3902222283229388, 0.6097777716770622], [0....        8.928094   \n",
       "1  [[0.3902222283229388, 0.60977777167706], [0.72...        8.928094   \n",
       "2  [[0.3902264776423026, 0.6097735223576966], [0....        8.928094   \n",
       "3  [[0.3902264776423026, 0.6097735223576966], [0....        8.928094   \n",
       "0  [[0.6285026028322631, 0.37149739716773683], [0...       16.562082   \n",
       "\n",
       "   accuracy  precision    recall        f1  \\\n",
       "0  0.741508   0.736084  0.752996  0.744444   \n",
       "1  0.741508   0.736084  0.752996  0.744444   \n",
       "2  0.741508   0.736081  0.753004  0.744446   \n",
       "3  0.741508   0.736081  0.753004  0.744446   \n",
       "0  0.520480   0.566003  0.175625  0.268071   \n",
       "\n",
       "                                                 fpr  \\\n",
       "0  [0.0, 0.0, 0.0, 1.8518518518518519e-06, 1.8518...   \n",
       "1  [0.0, 0.0, 0.0, 1.8518518518518519e-06, 1.8518...   \n",
       "2  [0.0, 0.0, 0.0, 1.8518518518518519e-06, 1.8518...   \n",
       "3  [0.0, 0.0, 0.0, 1.8518518518518519e-06, 1.8518...   \n",
       "0  [0.0, 7.936507936507937e-07, 7.936507936507937...   \n",
       "\n",
       "                                                 tpr       auc   roc_auc  \n",
       "0  [0.0, 1.8518518518518519e-06, 0.00014814814814...  0.821527  0.741508  \n",
       "1  [0.0, 1.8518518518518519e-06, 0.00014814814814...  0.821527  0.741508  \n",
       "2  [0.0, 1.8518518518518519e-06, 0.00014814814814...  0.821528  0.741508  \n",
       "3  [0.0, 1.8518518518518519e-06, 0.00014814814814...  0.821528  0.741508  \n",
       "0  [0.0, 0.0, 1.5873015873015873e-06, 1.587301587...  0.540398  0.520480  "
      ]
     },
     "execution_count": 35,
     "metadata": {},
     "output_type": "execute_result"
    }
   ],
   "source": [
    "# Predict test and training datasets \n",
    "# Also get the metrics of fit\n",
    "# Check if the models have not been predicted yet \n",
    "if not isinstance(nb_gs.predictions, pd.DataFrame):\n",
    "    prep = Preprocess(transformer='tfidf',max_df=0.979,min_df=0.0201)\n",
    "    nb_gs.predict(prep.transform(X_valid), y_valid, train_test='validate')\n",
    "    nb_gs.predict(X_train_vec[-1], y_train, train_test='train')\n",
    "nb_gs.predictions.head()"
   ]
  },
  {
   "cell_type": "markdown",
   "metadata": {},
   "source": [
    "Plotting metrics over the test dataset. "
   ]
  },
  {
   "cell_type": "code",
   "execution_count": 36,
   "metadata": {},
   "outputs": [
    {
     "ename": "KeyboardInterrupt",
     "evalue": "",
     "output_type": "error",
     "traceback": [
      "\u001b[1;31m---------------------------------------------------------------------------\u001b[0m",
      "\u001b[1;31mKeyboardInterrupt\u001b[0m                         Traceback (most recent call last)",
      "\u001b[1;32m<ipython-input-36-b0d698900df4>\u001b[0m in \u001b[0;36m<module>\u001b[1;34m\u001b[0m\n\u001b[0;32m      1\u001b[0m \u001b[1;31m# Plot metrics for predicted values\u001b[0m\u001b[1;33m\u001b[0m\u001b[1;33m\u001b[0m\u001b[1;33m\u001b[0m\u001b[0m\n\u001b[1;32m----> 2\u001b[1;33m \u001b[0mplot_predictions\u001b[0m\u001b[1;33m(\u001b[0m\u001b[0mnb_gs\u001b[0m\u001b[1;33m,\u001b[0m \u001b[0mvalid_test\u001b[0m\u001b[1;33m=\u001b[0m\u001b[1;34m'validate'\u001b[0m\u001b[1;33m)\u001b[0m\u001b[1;33m\u001b[0m\u001b[1;33m\u001b[0m\u001b[0m\n\u001b[0m",
      "\u001b[1;32m<ipython-input-27-0d69a3e70145>\u001b[0m in \u001b[0;36mplot_predictions\u001b[1;34m(model_grid, valid_test)\u001b[0m\n\u001b[0;32m     87\u001b[0m \u001b[1;33m\u001b[0m\u001b[0m\n\u001b[0;32m     88\u001b[0m     \u001b[1;31m# Plot mean ROC curve for training fold\u001b[0m\u001b[1;33m\u001b[0m\u001b[1;33m\u001b[0m\u001b[1;33m\u001b[0m\u001b[0m\n\u001b[1;32m---> 89\u001b[1;33m     g2 = sns.lineplot(x=tr_roc_vals['fpr_mean'], y=tr_roc_vals['tpr_mean'], \n\u001b[0m\u001b[0;32m     90\u001b[0m                   label='train', ax=axes[1], color='tab:blue')\n\u001b[0;32m     91\u001b[0m     \u001b[1;31m# Plot the standard deviation for training ROC\u001b[0m\u001b[1;33m\u001b[0m\u001b[1;33m\u001b[0m\u001b[1;33m\u001b[0m\u001b[0m\n",
      "\u001b[1;32m~\\Anaconda3\\envs\\learn-env\\lib\\site-packages\\seaborn\\_decorators.py\u001b[0m in \u001b[0;36minner_f\u001b[1;34m(*args, **kwargs)\u001b[0m\n\u001b[0;32m     44\u001b[0m             )\n\u001b[0;32m     45\u001b[0m         \u001b[0mkwargs\u001b[0m\u001b[1;33m.\u001b[0m\u001b[0mupdate\u001b[0m\u001b[1;33m(\u001b[0m\u001b[1;33m{\u001b[0m\u001b[0mk\u001b[0m\u001b[1;33m:\u001b[0m \u001b[0marg\u001b[0m \u001b[1;32mfor\u001b[0m \u001b[0mk\u001b[0m\u001b[1;33m,\u001b[0m \u001b[0marg\u001b[0m \u001b[1;32min\u001b[0m \u001b[0mzip\u001b[0m\u001b[1;33m(\u001b[0m\u001b[0msig\u001b[0m\u001b[1;33m.\u001b[0m\u001b[0mparameters\u001b[0m\u001b[1;33m,\u001b[0m \u001b[0margs\u001b[0m\u001b[1;33m)\u001b[0m\u001b[1;33m}\u001b[0m\u001b[1;33m)\u001b[0m\u001b[1;33m\u001b[0m\u001b[1;33m\u001b[0m\u001b[0m\n\u001b[1;32m---> 46\u001b[1;33m         \u001b[1;32mreturn\u001b[0m \u001b[0mf\u001b[0m\u001b[1;33m(\u001b[0m\u001b[1;33m**\u001b[0m\u001b[0mkwargs\u001b[0m\u001b[1;33m)\u001b[0m\u001b[1;33m\u001b[0m\u001b[1;33m\u001b[0m\u001b[0m\n\u001b[0m\u001b[0;32m     47\u001b[0m     \u001b[1;32mreturn\u001b[0m \u001b[0minner_f\u001b[0m\u001b[1;33m\u001b[0m\u001b[1;33m\u001b[0m\u001b[0m\n\u001b[0;32m     48\u001b[0m \u001b[1;33m\u001b[0m\u001b[0m\n",
      "\u001b[1;32m~\\Anaconda3\\envs\\learn-env\\lib\\site-packages\\seaborn\\relational.py\u001b[0m in \u001b[0;36mlineplot\u001b[1;34m(x, y, hue, size, style, data, palette, hue_order, hue_norm, sizes, size_order, size_norm, dashes, markers, style_order, units, estimator, ci, n_boot, seed, sort, err_style, err_kws, legend, ax, **kwargs)\u001b[0m\n\u001b[0;32m    694\u001b[0m     \u001b[0mp\u001b[0m\u001b[1;33m.\u001b[0m\u001b[0m_attach\u001b[0m\u001b[1;33m(\u001b[0m\u001b[0max\u001b[0m\u001b[1;33m)\u001b[0m\u001b[1;33m\u001b[0m\u001b[1;33m\u001b[0m\u001b[0m\n\u001b[0;32m    695\u001b[0m \u001b[1;33m\u001b[0m\u001b[0m\n\u001b[1;32m--> 696\u001b[1;33m     \u001b[0mp\u001b[0m\u001b[1;33m.\u001b[0m\u001b[0mplot\u001b[0m\u001b[1;33m(\u001b[0m\u001b[0max\u001b[0m\u001b[1;33m,\u001b[0m \u001b[0mkwargs\u001b[0m\u001b[1;33m)\u001b[0m\u001b[1;33m\u001b[0m\u001b[1;33m\u001b[0m\u001b[0m\n\u001b[0m\u001b[0;32m    697\u001b[0m     \u001b[1;32mreturn\u001b[0m \u001b[0max\u001b[0m\u001b[1;33m\u001b[0m\u001b[1;33m\u001b[0m\u001b[0m\n\u001b[0;32m    698\u001b[0m \u001b[1;33m\u001b[0m\u001b[0m\n",
      "\u001b[1;32m~\\Anaconda3\\envs\\learn-env\\lib\\site-packages\\seaborn\\relational.py\u001b[0m in \u001b[0;36mplot\u001b[1;34m(self, ax, kws)\u001b[0m\n\u001b[0;32m    490\u001b[0m                     \u001b[0merr\u001b[0m \u001b[1;33m=\u001b[0m \u001b[1;34m\"estimator must be None when specifying units\"\u001b[0m\u001b[1;33m\u001b[0m\u001b[1;33m\u001b[0m\u001b[0m\n\u001b[0;32m    491\u001b[0m                     \u001b[1;32mraise\u001b[0m \u001b[0mValueError\u001b[0m\u001b[1;33m(\u001b[0m\u001b[0merr\u001b[0m\u001b[1;33m)\u001b[0m\u001b[1;33m\u001b[0m\u001b[1;33m\u001b[0m\u001b[0m\n\u001b[1;32m--> 492\u001b[1;33m                 \u001b[0mx\u001b[0m\u001b[1;33m,\u001b[0m \u001b[0my\u001b[0m\u001b[1;33m,\u001b[0m \u001b[0my_ci\u001b[0m \u001b[1;33m=\u001b[0m \u001b[0mself\u001b[0m\u001b[1;33m.\u001b[0m\u001b[0maggregate\u001b[0m\u001b[1;33m(\u001b[0m\u001b[0my\u001b[0m\u001b[1;33m,\u001b[0m \u001b[0mx\u001b[0m\u001b[1;33m,\u001b[0m \u001b[0mu\u001b[0m\u001b[1;33m)\u001b[0m\u001b[1;33m\u001b[0m\u001b[1;33m\u001b[0m\u001b[0m\n\u001b[0m\u001b[0;32m    493\u001b[0m             \u001b[1;32melse\u001b[0m\u001b[1;33m:\u001b[0m\u001b[1;33m\u001b[0m\u001b[1;33m\u001b[0m\u001b[0m\n\u001b[0;32m    494\u001b[0m                 \u001b[0my_ci\u001b[0m \u001b[1;33m=\u001b[0m \u001b[1;32mNone\u001b[0m\u001b[1;33m\u001b[0m\u001b[1;33m\u001b[0m\u001b[0m\n",
      "\u001b[1;32m~\\Anaconda3\\envs\\learn-env\\lib\\site-packages\\seaborn\\relational.py\u001b[0m in \u001b[0;36maggregate\u001b[1;34m(self, vals, grouper, units)\u001b[0m\n\u001b[0;32m    412\u001b[0m                                columns=[\"low\", \"high\"]).stack()\n\u001b[0;32m    413\u001b[0m         \u001b[1;32melse\u001b[0m\u001b[1;33m:\u001b[0m\u001b[1;33m\u001b[0m\u001b[1;33m\u001b[0m\u001b[0m\n\u001b[1;32m--> 414\u001b[1;33m             \u001b[0mcis\u001b[0m \u001b[1;33m=\u001b[0m \u001b[0mgrouped\u001b[0m\u001b[1;33m.\u001b[0m\u001b[0mapply\u001b[0m\u001b[1;33m(\u001b[0m\u001b[0mbootstrapped_cis\u001b[0m\u001b[1;33m)\u001b[0m\u001b[1;33m\u001b[0m\u001b[1;33m\u001b[0m\u001b[0m\n\u001b[0m\u001b[0;32m    415\u001b[0m \u001b[1;33m\u001b[0m\u001b[0m\n\u001b[0;32m    416\u001b[0m         \u001b[1;31m# Unpack the CIs into \"wide\" format for plotting\u001b[0m\u001b[1;33m\u001b[0m\u001b[1;33m\u001b[0m\u001b[1;33m\u001b[0m\u001b[0m\n",
      "\u001b[1;32m~\\Anaconda3\\envs\\learn-env\\lib\\site-packages\\pandas\\core\\groupby\\generic.py\u001b[0m in \u001b[0;36mapply\u001b[1;34m(self, func, *args, **kwargs)\u001b[0m\n\u001b[0;32m    224\u001b[0m     )\n\u001b[0;32m    225\u001b[0m     \u001b[1;32mdef\u001b[0m \u001b[0mapply\u001b[0m\u001b[1;33m(\u001b[0m\u001b[0mself\u001b[0m\u001b[1;33m,\u001b[0m \u001b[0mfunc\u001b[0m\u001b[1;33m,\u001b[0m \u001b[1;33m*\u001b[0m\u001b[0margs\u001b[0m\u001b[1;33m,\u001b[0m \u001b[1;33m**\u001b[0m\u001b[0mkwargs\u001b[0m\u001b[1;33m)\u001b[0m\u001b[1;33m:\u001b[0m\u001b[1;33m\u001b[0m\u001b[1;33m\u001b[0m\u001b[0m\n\u001b[1;32m--> 226\u001b[1;33m         \u001b[1;32mreturn\u001b[0m \u001b[0msuper\u001b[0m\u001b[1;33m(\u001b[0m\u001b[1;33m)\u001b[0m\u001b[1;33m.\u001b[0m\u001b[0mapply\u001b[0m\u001b[1;33m(\u001b[0m\u001b[0mfunc\u001b[0m\u001b[1;33m,\u001b[0m \u001b[1;33m*\u001b[0m\u001b[0margs\u001b[0m\u001b[1;33m,\u001b[0m \u001b[1;33m**\u001b[0m\u001b[0mkwargs\u001b[0m\u001b[1;33m)\u001b[0m\u001b[1;33m\u001b[0m\u001b[1;33m\u001b[0m\u001b[0m\n\u001b[0m\u001b[0;32m    227\u001b[0m \u001b[1;33m\u001b[0m\u001b[0m\n\u001b[0;32m    228\u001b[0m     @doc(\n",
      "\u001b[1;32m~\\Anaconda3\\envs\\learn-env\\lib\\site-packages\\pandas\\core\\groupby\\groupby.py\u001b[0m in \u001b[0;36mapply\u001b[1;34m(self, func, *args, **kwargs)\u001b[0m\n\u001b[0;32m    857\u001b[0m         \u001b[1;32mwith\u001b[0m \u001b[0moption_context\u001b[0m\u001b[1;33m(\u001b[0m\u001b[1;34m\"mode.chained_assignment\"\u001b[0m\u001b[1;33m,\u001b[0m \u001b[1;32mNone\u001b[0m\u001b[1;33m)\u001b[0m\u001b[1;33m:\u001b[0m\u001b[1;33m\u001b[0m\u001b[1;33m\u001b[0m\u001b[0m\n\u001b[0;32m    858\u001b[0m             \u001b[1;32mtry\u001b[0m\u001b[1;33m:\u001b[0m\u001b[1;33m\u001b[0m\u001b[1;33m\u001b[0m\u001b[0m\n\u001b[1;32m--> 859\u001b[1;33m                 \u001b[0mresult\u001b[0m \u001b[1;33m=\u001b[0m \u001b[0mself\u001b[0m\u001b[1;33m.\u001b[0m\u001b[0m_python_apply_general\u001b[0m\u001b[1;33m(\u001b[0m\u001b[0mf\u001b[0m\u001b[1;33m,\u001b[0m \u001b[0mself\u001b[0m\u001b[1;33m.\u001b[0m\u001b[0m_selected_obj\u001b[0m\u001b[1;33m)\u001b[0m\u001b[1;33m\u001b[0m\u001b[1;33m\u001b[0m\u001b[0m\n\u001b[0m\u001b[0;32m    860\u001b[0m             \u001b[1;32mexcept\u001b[0m \u001b[0mTypeError\u001b[0m\u001b[1;33m:\u001b[0m\u001b[1;33m\u001b[0m\u001b[1;33m\u001b[0m\u001b[0m\n\u001b[0;32m    861\u001b[0m                 \u001b[1;31m# gh-20949\u001b[0m\u001b[1;33m\u001b[0m\u001b[1;33m\u001b[0m\u001b[1;33m\u001b[0m\u001b[0m\n",
      "\u001b[1;32m~\\Anaconda3\\envs\\learn-env\\lib\\site-packages\\pandas\\core\\groupby\\groupby.py\u001b[0m in \u001b[0;36m_python_apply_general\u001b[1;34m(self, f, data)\u001b[0m\n\u001b[0;32m    890\u001b[0m             \u001b[0mdata\u001b[0m \u001b[0mafter\u001b[0m \u001b[0mapplying\u001b[0m \u001b[0mf\u001b[0m\u001b[1;33m\u001b[0m\u001b[1;33m\u001b[0m\u001b[0m\n\u001b[0;32m    891\u001b[0m         \"\"\"\n\u001b[1;32m--> 892\u001b[1;33m         \u001b[0mkeys\u001b[0m\u001b[1;33m,\u001b[0m \u001b[0mvalues\u001b[0m\u001b[1;33m,\u001b[0m \u001b[0mmutated\u001b[0m \u001b[1;33m=\u001b[0m \u001b[0mself\u001b[0m\u001b[1;33m.\u001b[0m\u001b[0mgrouper\u001b[0m\u001b[1;33m.\u001b[0m\u001b[0mapply\u001b[0m\u001b[1;33m(\u001b[0m\u001b[0mf\u001b[0m\u001b[1;33m,\u001b[0m \u001b[0mdata\u001b[0m\u001b[1;33m,\u001b[0m \u001b[0mself\u001b[0m\u001b[1;33m.\u001b[0m\u001b[0maxis\u001b[0m\u001b[1;33m)\u001b[0m\u001b[1;33m\u001b[0m\u001b[1;33m\u001b[0m\u001b[0m\n\u001b[0m\u001b[0;32m    893\u001b[0m \u001b[1;33m\u001b[0m\u001b[0m\n\u001b[0;32m    894\u001b[0m         return self._wrap_applied_output(\n",
      "\u001b[1;32m~\\Anaconda3\\envs\\learn-env\\lib\\site-packages\\pandas\\core\\groupby\\ops.py\u001b[0m in \u001b[0;36mapply\u001b[1;34m(self, f, data, axis)\u001b[0m\n\u001b[0;32m    212\u001b[0m             \u001b[0mgroup_axes\u001b[0m \u001b[1;33m=\u001b[0m \u001b[0mgroup\u001b[0m\u001b[1;33m.\u001b[0m\u001b[0maxes\u001b[0m\u001b[1;33m\u001b[0m\u001b[1;33m\u001b[0m\u001b[0m\n\u001b[0;32m    213\u001b[0m             \u001b[0mres\u001b[0m \u001b[1;33m=\u001b[0m \u001b[0mf\u001b[0m\u001b[1;33m(\u001b[0m\u001b[0mgroup\u001b[0m\u001b[1;33m)\u001b[0m\u001b[1;33m\u001b[0m\u001b[1;33m\u001b[0m\u001b[0m\n\u001b[1;32m--> 214\u001b[1;33m             \u001b[1;32mif\u001b[0m \u001b[1;32mnot\u001b[0m \u001b[0m_is_indexed_like\u001b[0m\u001b[1;33m(\u001b[0m\u001b[0mres\u001b[0m\u001b[1;33m,\u001b[0m \u001b[0mgroup_axes\u001b[0m\u001b[1;33m)\u001b[0m\u001b[1;33m:\u001b[0m\u001b[1;33m\u001b[0m\u001b[1;33m\u001b[0m\u001b[0m\n\u001b[0m\u001b[0;32m    215\u001b[0m                 \u001b[0mmutated\u001b[0m \u001b[1;33m=\u001b[0m \u001b[1;32mTrue\u001b[0m\u001b[1;33m\u001b[0m\u001b[1;33m\u001b[0m\u001b[0m\n\u001b[0;32m    216\u001b[0m             \u001b[0mresult_values\u001b[0m\u001b[1;33m.\u001b[0m\u001b[0mappend\u001b[0m\u001b[1;33m(\u001b[0m\u001b[0mres\u001b[0m\u001b[1;33m)\u001b[0m\u001b[1;33m\u001b[0m\u001b[1;33m\u001b[0m\u001b[0m\n",
      "\u001b[1;32m~\\Anaconda3\\envs\\learn-env\\lib\\site-packages\\pandas\\core\\groupby\\ops.py\u001b[0m in \u001b[0;36m_is_indexed_like\u001b[1;34m(obj, axes)\u001b[0m\n\u001b[0;32m    902\u001b[0m         \u001b[1;32mif\u001b[0m \u001b[0mlen\u001b[0m\u001b[1;33m(\u001b[0m\u001b[0maxes\u001b[0m\u001b[1;33m)\u001b[0m \u001b[1;33m>\u001b[0m \u001b[1;36m1\u001b[0m\u001b[1;33m:\u001b[0m\u001b[1;33m\u001b[0m\u001b[1;33m\u001b[0m\u001b[0m\n\u001b[0;32m    903\u001b[0m             \u001b[1;32mreturn\u001b[0m \u001b[1;32mFalse\u001b[0m\u001b[1;33m\u001b[0m\u001b[1;33m\u001b[0m\u001b[0m\n\u001b[1;32m--> 904\u001b[1;33m         \u001b[1;32mreturn\u001b[0m \u001b[0mobj\u001b[0m\u001b[1;33m.\u001b[0m\u001b[0mindex\u001b[0m\u001b[1;33m.\u001b[0m\u001b[0mequals\u001b[0m\u001b[1;33m(\u001b[0m\u001b[0maxes\u001b[0m\u001b[1;33m[\u001b[0m\u001b[1;36m0\u001b[0m\u001b[1;33m]\u001b[0m\u001b[1;33m)\u001b[0m\u001b[1;33m\u001b[0m\u001b[1;33m\u001b[0m\u001b[0m\n\u001b[0m\u001b[0;32m    905\u001b[0m     \u001b[1;32melif\u001b[0m \u001b[0misinstance\u001b[0m\u001b[1;33m(\u001b[0m\u001b[0mobj\u001b[0m\u001b[1;33m,\u001b[0m \u001b[0mDataFrame\u001b[0m\u001b[1;33m)\u001b[0m\u001b[1;33m:\u001b[0m\u001b[1;33m\u001b[0m\u001b[1;33m\u001b[0m\u001b[0m\n\u001b[0;32m    906\u001b[0m         \u001b[1;32mreturn\u001b[0m \u001b[0mobj\u001b[0m\u001b[1;33m.\u001b[0m\u001b[0mindex\u001b[0m\u001b[1;33m.\u001b[0m\u001b[0mequals\u001b[0m\u001b[1;33m(\u001b[0m\u001b[0maxes\u001b[0m\u001b[1;33m[\u001b[0m\u001b[1;36m0\u001b[0m\u001b[1;33m]\u001b[0m\u001b[1;33m)\u001b[0m\u001b[1;33m\u001b[0m\u001b[1;33m\u001b[0m\u001b[0m\n",
      "\u001b[1;32m~\\Anaconda3\\envs\\learn-env\\lib\\site-packages\\pandas\\core\\indexes\\base.py\u001b[0m in \u001b[0;36mequals\u001b[1;34m(self, other)\u001b[0m\n\u001b[0;32m   4253\u001b[0m         \u001b[1;32mTrue\u001b[0m\u001b[1;33m\u001b[0m\u001b[1;33m\u001b[0m\u001b[0m\n\u001b[0;32m   4254\u001b[0m         \"\"\"\n\u001b[1;32m-> 4255\u001b[1;33m         \u001b[1;32mif\u001b[0m \u001b[0mself\u001b[0m\u001b[1;33m.\u001b[0m\u001b[0mis_\u001b[0m\u001b[1;33m(\u001b[0m\u001b[0mother\u001b[0m\u001b[1;33m)\u001b[0m\u001b[1;33m:\u001b[0m\u001b[1;33m\u001b[0m\u001b[1;33m\u001b[0m\u001b[0m\n\u001b[0m\u001b[0;32m   4256\u001b[0m             \u001b[1;32mreturn\u001b[0m \u001b[1;32mTrue\u001b[0m\u001b[1;33m\u001b[0m\u001b[1;33m\u001b[0m\u001b[0m\n\u001b[0;32m   4257\u001b[0m \u001b[1;33m\u001b[0m\u001b[0m\n",
      "\u001b[1;32m~\\Anaconda3\\envs\\learn-env\\lib\\site-packages\\pandas\\core\\indexes\\base.py\u001b[0m in \u001b[0;36mis_\u001b[1;34m(self, other)\u001b[0m\n\u001b[0;32m    518\u001b[0m         \u001b[1;32mreturn\u001b[0m \u001b[0mresult\u001b[0m\u001b[1;33m\u001b[0m\u001b[1;33m\u001b[0m\u001b[0m\n\u001b[0;32m    519\u001b[0m \u001b[1;33m\u001b[0m\u001b[0m\n\u001b[1;32m--> 520\u001b[1;33m     \u001b[1;32mdef\u001b[0m \u001b[0mis_\u001b[0m\u001b[1;33m(\u001b[0m\u001b[0mself\u001b[0m\u001b[1;33m,\u001b[0m \u001b[0mother\u001b[0m\u001b[1;33m)\u001b[0m \u001b[1;33m->\u001b[0m \u001b[0mbool\u001b[0m\u001b[1;33m:\u001b[0m\u001b[1;33m\u001b[0m\u001b[1;33m\u001b[0m\u001b[0m\n\u001b[0m\u001b[0;32m    521\u001b[0m         \"\"\"\n\u001b[0;32m    522\u001b[0m         \u001b[0mMore\u001b[0m \u001b[0mflexible\u001b[0m\u001b[1;33m,\u001b[0m \u001b[0mfaster\u001b[0m \u001b[0mcheck\u001b[0m \u001b[0mlike\u001b[0m\u001b[0;31m \u001b[0m\u001b[0;31m`\u001b[0m\u001b[0;31m`\u001b[0m\u001b[1;32mis\u001b[0m\u001b[0;31m`\u001b[0m\u001b[0;31m`\u001b[0m \u001b[0mbut\u001b[0m \u001b[0mthat\u001b[0m \u001b[0mworks\u001b[0m \u001b[0mthrough\u001b[0m \u001b[0mviews\u001b[0m\u001b[1;33m.\u001b[0m\u001b[1;33m\u001b[0m\u001b[1;33m\u001b[0m\u001b[0m\n",
      "\u001b[1;31mKeyboardInterrupt\u001b[0m: "
     ]
    },
    {
     "data": {
      "image/png": "[encoded data removed]",
      "text/plain": [
       "<Figure size 1080x432 with 2 Axes>"
      ]
     },
     "metadata": {
      "needs_background": "light"
     },
     "output_type": "display_data"
    }
   ],
   "source": [
    "# Plot metrics for predicted values\n",
    "plot_predictions(nb_gs, valid_test='validate')"
   ]
  },
  {
   "cell_type": "markdown",
   "metadata": {},
   "source": [
    "Accuracy, recall and AUC are used to determine the best model.  "
   ]
  },
  {
   "cell_type": "code",
   "execution_count": null,
   "metadata": {},
   "outputs": [],
   "source": [
    "# Find the best model and model metrics based on given metrics \n",
    "best_nb_model, best_nb_model_metrics = nb_gs.best_model(metrics=metrics, \n",
    "                                                        valid_test='validate')\n",
    "\n",
    "# Store best model \n",
    "# best_models.append(best_logreg_model)\n",
    "\n",
    "# Store best model metrics \n",
    "# best_models_metrics = pd.DataFrame(best_logreg_model_metrics).transpose()\n",
    "\n",
    "# Display best model parameters \n",
    "best_nb_model.get_params"
   ]
  },
  {
   "cell_type": "markdown",
   "metadata": {},
   "source": [
    "Displaying the metrics for the best performing model and plotting the confusion matrix. "
   ]
  },
  {
   "cell_type": "code",
   "execution_count": null,
   "metadata": {},
   "outputs": [],
   "source": [
    "# Best logreg model metrics\n",
    "best_nb_model_metrics"
   ]
  },
  {
   "cell_type": "code",
   "execution_count": null,
   "metadata": {},
   "outputs": [],
   "source": [
    "# Confusion matrix \n",
    "plot_confusion_matrix(y_valid, best_nb_model_metrics.preds, \n",
    "                      normalize='true')"
   ]
  },
  {
   "cell_type": "code",
   "execution_count": null,
   "metadata": {},
   "outputs": [],
   "source": [
    "if not exists('nb_gs.pickle'):\n",
    "    with open('nb_gs.pickle', 'wb') as f:    \n",
    "        pickle.dump(nb_gs, f)"
   ]
  },
  {
   "cell_type": "markdown",
   "metadata": {},
   "source": [
    "Surprisingly, the model did well for the true positive prediction at the cost of lower accuracy. This is acceptable given the class imbalance. "
   ]
  },
  {
   "cell_type": "code",
   "execution_count": null,
   "metadata": {},
   "outputs": [],
   "source": []
  },
  {
   "cell_type": "markdown",
   "metadata": {},
   "source": [
    "### Logistic Regression"
   ]
  },
  {
   "cell_type": "markdown",
   "metadata": {},
   "source": [
    "The first model used is logistic regression. Regularization factor, fit intercept, and L1 or L2 penalty were considered for grid search. `lbfgs` solver does not allow for L1 penalty. So, `liblinear` solver used instead. The downside is that ` liblinear` does not allow for parallelized jobs, which is why ‘n_jobs’ is missing as an input parameter.  "
   ]
  },
  {
   "cell_type": "code",
   "execution_count": null,
   "metadata": {},
   "outputs": [],
   "source": [
    "# Check if the variable exists\n",
    "if not exists('logreg_gs.pickle'):    \n",
    "    # Define regularization range \n",
    "    C = np.linspace(0.1, 1, 2)\n",
    "\n",
    "    # Define parameters ranges \n",
    "    params = {'C':[str(s) for s in C],\n",
    "              'fit_intercept':['False','True'],\n",
    "              'max_iter':['1e3'],\n",
    "              'penalty':[\"'l1'\",\"'l2'\"],\n",
    "              'solver':[\"'liblinear'\"]}\n",
    "\n",
    "    # Create a Custom_GridSearchCV instance\n",
    "    logreg_gs = Custom_GridSearchCV('LogisticRegression', param_grid=params)\n",
    "else:\n",
    "    with open('logreg_gs.pickle', 'rb') as f:\n",
    "        logreg_gs = pickle.load(f)    "
   ]
  },
  {
   "cell_type": "code",
   "execution_count": null,
   "metadata": {},
   "outputs": [],
   "source": [
    "# Run cross-validation with accuracy as the primary scoring\n",
    "rprt, rp_df, _ = logreg_gs.cross_validate(X_train_vec, y_train, \n",
    "                                          vectorization=vec_labels)"
   ]
  },
  {
   "cell_type": "markdown",
   "metadata": {},
   "source": [
    "In orders to choose the best dataset to fit with the model, let's aggregate the metrics. Sorting the average accuracy, recall and AUC metrics yields: "
   ]
  },
  {
   "cell_type": "code",
   "execution_count": null,
   "metadata": {},
   "outputs": [],
   "source": [
    "# Find training and validation metrics\n",
    "logreg_gs_metrics_train,_,_ = prepare_metrics(logreg_gs, train_val='train')\n",
    "logreg_gs_metrics_valid,_,_ = prepare_metrics(logreg_gs, train_val='cross_validate')\n",
    "\n",
    "# Combine metrics \n",
    "logreg_gs_metrics = pd.concat([logreg_gs_metrics_train,logreg_gs_metrics_valid])\n",
    "\n",
    "# Rename dataset as 'dataset_train/validate'\n",
    "logreg_gs_metrics.dataset = logreg_gs_metrics.dataset+'_'+logreg_gs_metrics.train_val\n",
    "\n",
    "# Create a placeholder dataframe to store the average values\n",
    "logreg_gs_metrics_mean = pd.DataFrame(columns=logreg_gs_metrics.metric.unique(),\n",
    "                                  index=logreg_gs_metrics.dataset.unique())\n",
    "\n",
    "# Iterate through each row and column, aggregate values and take the mean\n",
    "for col in logreg_gs_metrics_mean.columns:\n",
    "    for idx in logreg_gs_metrics_mean.index:\n",
    "        avg = logreg_gs_metrics.loc[(logreg_gs_metrics.metric==col) & (logreg_gs_metrics.dataset==idx),'value']\n",
    "        logreg_gs_metrics_mean.loc[idx,col] = avg.mean()\n",
    "\n",
    "# Sort average metrics by recall, AUC and accuracy        \n",
    "logreg_gs_metrics_mean.sort_values(by=metrics,ascending=False)"
   ]
  },
  {
   "cell_type": "markdown",
   "metadata": {},
   "source": [
    "The performance metrics of the model are shown below. "
   ]
  },
  {
   "cell_type": "code",
   "execution_count": null,
   "metadata": {},
   "outputs": [],
   "source": [
    "# Plot the metrics for training and validation datasets\n",
    "plot_metrics(logreg_gs)"
   ]
  },
  {
   "cell_type": "markdown",
   "metadata": {},
   "source": [
    "Although `rand` did have the highest accuracy, `class_weight` had consistent performance with the training and validation dataset. "
   ]
  },
  {
   "cell_type": "code",
   "execution_count": null,
   "metadata": {
    "scrolled": true
   },
   "outputs": [],
   "source": [
    "# Fit grid search models with the best training dataset\n",
    "# Specifying embedding to have better accuracy values\n",
    "logreg_gs.fit(X_train_vec[-1], y_train)"
   ]
  },
  {
   "cell_type": "markdown",
   "metadata": {},
   "source": [
    "Now, let's produce predictions based on the model grid. "
   ]
  },
  {
   "cell_type": "code",
   "execution_count": null,
   "metadata": {},
   "outputs": [],
   "source": [
    "# Predict test and training datasets \n",
    "# Also get the metrics of fit\n",
    "# Check if the models have not been predicted yet \n",
    "if not isinstance(logreg_gs.predictions, pd.DataFrame):\n",
    "    prep = Preprocess(transformer='embed')\n",
    "    logreg_gs.predict(prep.transform(X_valid), y_valid, train_test='validate')\n",
    "    logreg_gs.predict(X_train_vec[-1], y_train, train_test='train')\n",
    "logreg_gs.predictions.head()"
   ]
  },
  {
   "cell_type": "markdown",
   "metadata": {},
   "source": [
    "Plotting metrics over the test dataset. "
   ]
  },
  {
   "cell_type": "code",
   "execution_count": null,
   "metadata": {},
   "outputs": [],
   "source": [
    "# Plot metrics for predicted values\n",
    "plot_predictions(logreg_gs, valid_test='validate')"
   ]
  },
  {
   "cell_type": "markdown",
   "metadata": {},
   "source": [
    "Accuracy, recall and AUC are used to determine the best model.  "
   ]
  },
  {
   "cell_type": "code",
   "execution_count": null,
   "metadata": {},
   "outputs": [],
   "source": [
    "# Find the best model and model metrics based on given metrics \n",
    "best_logreg_model, best_logreg_model_metrics = logreg_gs.best_model(metrics=metrics, \n",
    "                                                                    valid_test='validate')\n",
    "\n",
    "# Store best model \n",
    "# best_models.append(best_logreg_model)\n",
    "\n",
    "# Store best model metrics \n",
    "# best_models_metrics = pd.DataFrame(best_logreg_model_metrics).transpose()\n",
    "\n",
    "# Display best model parameters \n",
    "best_logreg_model.get_params"
   ]
  },
  {
   "cell_type": "markdown",
   "metadata": {},
   "source": [
    "Displaying the metrics for the best performing model and plotting the confusion matrix. "
   ]
  },
  {
   "cell_type": "code",
   "execution_count": null,
   "metadata": {},
   "outputs": [],
   "source": [
    "# Best logreg model metrics\n",
    "best_logreg_model_metrics"
   ]
  },
  {
   "cell_type": "code",
   "execution_count": null,
   "metadata": {},
   "outputs": [],
   "source": [
    "# Confusion matrix \n",
    "plot_confusion_matrix(y_valid, best_logreg_model_metrics.preds, \n",
    "                      normalize='true')"
   ]
  },
  {
   "cell_type": "code",
   "execution_count": null,
   "metadata": {},
   "outputs": [],
   "source": [
    "if not exists('logreg_gs.pickle'):\n",
    "    with open('logreg_gs.pickle', 'wb') as f:    \n",
    "        pickle.dump(logreg_gs, f)"
   ]
  },
  {
   "cell_type": "markdown",
   "metadata": {},
   "source": [
    "Surprisingly, the model did well for the true positive prediction at the cost of lower accuracy. This is acceptable given the class imbalance. "
   ]
  },
  {
   "cell_type": "markdown",
   "metadata": {},
   "source": [
    "### Random Forest "
   ]
  },
  {
   "cell_type": "markdown",
   "metadata": {},
   "source": [
    "Now, let us apply the same method using random forest instead. Fewer parameters are used in lieu of memory requirements is larger parameter space were to be used.    "
   ]
  },
  {
   "cell_type": "code",
   "execution_count": null,
   "metadata": {},
   "outputs": [],
   "source": [
    "# Check if the variable exists\n",
    "if not exists('rf_gs.pickle'):\n",
    "    # Define n_estimators range\n",
    "    n_estimators = np.arange(30, 100, 30)\n",
    "\n",
    "    # Define min_sample_split range \n",
    "    min_samples_split = np.linspace(0.1, 1, 2, endpoint=True)\n",
    "\n",
    "    # Define parameters ranges \n",
    "    params = {'max_depth':['None']+[str(s) for s in np.arange(1, 51, 20)],\n",
    "              'min_samples_split':['2']+[str(s) for s in min_samples_split],\n",
    "              'n_estimators':[str(n) for n in n_estimators],\n",
    "              'n_jobs':['n_cpu'],\n",
    "              'random_state':['SEED']}\n",
    "\n",
    "    # Create a Custom_GridSearchCV instance\n",
    "    rf_gs = Custom_GridSearchCV('RandomForestClassifier', param_grid=params)\n",
    "else:\n",
    "    with open('rf_gs.pickle', 'rb') as f:\n",
    "        rf_gs = pickle.load(f)"
   ]
  },
  {
   "cell_type": "code",
   "execution_count": null,
   "metadata": {},
   "outputs": [],
   "source": [
    "# Run cross-validation with recall as the primary scoring\n",
    "rprt, rp_df,_ = rf_gs.cross_validate(X_train_vec, y_train,\n",
    "                                     vectorization=vec_labels)"
   ]
  },
  {
   "cell_type": "code",
   "execution_count": null,
   "metadata": {},
   "outputs": [],
   "source": [
    "# Find training and validation metrics\n",
    "rf_gs_metrics_train,_,_ = prepare_metrics(rf_gs, train_val='train')\n",
    "rf_gs_metrics_valid,_,_ = prepare_metrics(rf_gs, train_val='cross_validate')\n",
    "\n",
    "# Combine metrics \n",
    "rf_gs_metrics = pd.concat([rf_gs_metrics_train,rf_gs_metrics_valid])\n",
    "\n",
    "# Rename dataset as 'dataset_train/validate'\n",
    "rf_gs_metrics.dataset = rf_gs_metrics.dataset+'_'+rf_gs_metrics.train_val\n",
    "\n",
    "# Create a placeholder dataframe to store the average values\n",
    "rf_gs_metrics_mean = pd.DataFrame(columns=rf_gs_metrics.metric.unique(),\n",
    "                                  index=rf_gs_metrics.dataset.unique())\n",
    "\n",
    "# Iterate through each row and column, aggregate values and take the mean\n",
    "for col in rf_gs_metrics_mean.columns:\n",
    "    for idx in rf_gs_metrics_mean.index:\n",
    "        avg = rf_gs_metrics.loc[(rf_gs_metrics.metric==col) & (rf_gs_metrics.dataset==idx),'value']\n",
    "        rf_gs_metrics_mean.loc[idx,col] = avg.mean()\n",
    "\n",
    "# Sort average metrics by recall, AUC and accuracy\n",
    "rf_gs_metrics_mean.sort_values(by=metrics,ascending=False)"
   ]
  },
  {
   "cell_type": "code",
   "execution_count": null,
   "metadata": {},
   "outputs": [],
   "source": [
    "# Plot the metrics for training and validation datasets\n",
    "plot_metrics(rf_gs)"
   ]
  },
  {
   "cell_type": "code",
   "execution_count": null,
   "metadata": {},
   "outputs": [],
   "source": [
    "# Fit grid search models with the best training dataset\n",
    "# Specifying count to have better accuracy values\n",
    "rf_gs.fit(X_train_vec[1], y_train)"
   ]
  },
  {
   "cell_type": "code",
   "execution_count": null,
   "metadata": {},
   "outputs": [],
   "source": [
    "# Predict test and training datasets \n",
    "# Also get the metrics of fit\n",
    "# Check if the models have not been predicted yet \n",
    "if not isinstance(rf_gs.predictions, pd.DataFrame):\n",
    "    prep = Preprocess(transformer='count',max_df=0.979,min_df=0.0201)\n",
    "    rf_gs.predict(prep.transform(X_valid), y_valid, train_test='validate')\n",
    "    rf_gs.predict(X_train_vec[1], y_train, train_test='train')\n",
    "rf_gs.predictions.head()"
   ]
  },
  {
   "cell_type": "code",
   "execution_count": null,
   "metadata": {},
   "outputs": [],
   "source": [
    "# Remove models with recall=1 \n",
    "rf_gs.predictions = rf_gs.predictions.loc[rf_gs.predictions.recall>0]\n",
    "rf_gs.predictions.sort_values(by=['accuracy'], ascending=False).head()"
   ]
  },
  {
   "cell_type": "code",
   "execution_count": null,
   "metadata": {},
   "outputs": [],
   "source": [
    "# Plot metrics for predicted values\n",
    "plot_predictions(rf_gs, valid_test='validate')"
   ]
  },
  {
   "cell_type": "code",
   "execution_count": null,
   "metadata": {},
   "outputs": [],
   "source": [
    "# Find the best model and model metrics based on given metrics \n",
    "best_rf_model, best_rf_model_metrics = rf_gs.best_model(metrics=metrics, \n",
    "                                                        valid_test='validate')\n",
    "\n",
    "# Store best model \n",
    "# best_models.append(best_rf_model)\n",
    "\n",
    "# Store best model metrics \n",
    "# best_models_metrics = pd.DataFrame(best_rf_model_metrics).transpose()\n",
    "\n",
    "# Display best model parameters \n",
    "best_rf_model.get_params"
   ]
  },
  {
   "cell_type": "code",
   "execution_count": null,
   "metadata": {},
   "outputs": [],
   "source": [
    "# Best rf model metrics\n",
    "best_rf_model_metrics"
   ]
  },
  {
   "cell_type": "code",
   "execution_count": null,
   "metadata": {},
   "outputs": [],
   "source": [
    "# Confusion matrix \n",
    "plot_confusion_matrix(y_valid, best_rf_model_metrics.preds, \n",
    "                      normalize='true');"
   ]
  },
  {
   "cell_type": "code",
   "execution_count": null,
   "metadata": {},
   "outputs": [],
   "source": [
    "if not exists('rf_gs.pickle'):\n",
    "    with open('rf_gs.pickle', 'wb') as f:    \n",
    "        pickle.dump(rf_gs, f)"
   ]
  },
  {
   "cell_type": "markdown",
   "metadata": {},
   "source": [
    "## Gradient Boosting"
   ]
  },
  {
   "cell_type": "markdown",
   "metadata": {},
   "source": [
    "### XGBoost"
   ]
  },
  {
   "cell_type": "markdown",
   "metadata": {},
   "source": [
    "In addition to the parameters used for random forest, learning rate is added as a parameter for XGBoost. Also notice that GPU is enabled for XGBoost. "
   ]
  },
  {
   "cell_type": "code",
   "execution_count": null,
   "metadata": {},
   "outputs": [],
   "source": [
    "# Check if the variable exists\n",
    "if not exists('xgb_gs.pickle'):\n",
    "\n",
    "    # Define learning rate range\n",
    "    learning_rate = [0.001,0.01]\n",
    "\n",
    "    # Define min_child_weight range \n",
    "    min_child_weight = np.arange(1, 5, 2)\n",
    "\n",
    "    # Define max_depth range \n",
    "    max_depth = np.arange(5, 10, 2)\n",
    "          \n",
    "    # Define parameters ranges \n",
    "    params = {'learning_rate': [str(l) for l in learning_rate],\n",
    "              'max_depth': ['None']+[str(m) for m in max_depth],\n",
    "              'min_child_weight': ['None']+[str(m) for m in min_child_weight],\n",
    "              'random_state':['SEED'],\n",
    "              'tree_method':[\"'gpu_hist'\"]}\n",
    "\n",
    "    # Create a Custom_GridSearchCV instance\n",
    "    xgb_gs = Custom_GridSearchCV('XGBClassifier', param_grid=params)\n",
    "else:\n",
    "    # Replace xgb_gs by model_cv[5]\n",
    "    with open('xgb_gs.pickle', 'rb') as f:\n",
    "        xgb_gs = pickle.load(f)   "
   ]
  },
  {
   "cell_type": "code",
   "execution_count": null,
   "metadata": {},
   "outputs": [],
   "source": [
    "# Run cross-validation with accuracy as the primary scoring\n",
    "rprt, rp_df,_ = xgb_gs.cross_validate(X_train_vec, y_train, \n",
    "                                      vectorization=vec_labels)"
   ]
  },
  {
   "cell_type": "code",
   "execution_count": null,
   "metadata": {},
   "outputs": [],
   "source": [
    "# Find training and validation metrics\n",
    "xgb_gs_metrics_train,_,_ = prepare_metrics(xgb_gs, train_val='train')\n",
    "xgb_gs_metrics_valid,_,_ = prepare_metrics(xgb_gs, train_val='cross_validate')\n",
    "\n",
    "# Combine metrics \n",
    "xgb_gs_metrics = pd.concat([xgb_gs_metrics_train,xgb_gs_metrics_valid])\n",
    "\n",
    "# Rename dataset as 'dataset_train/validate'\n",
    "xgb_gs_metrics.dataset = xgb_gs_metrics.dataset+'_'+xgb_gs_metrics.train_val\n",
    "\n",
    "# Create a placeholder dataframe to store the average values\n",
    "xgb_gs_metrics_mean = pd.DataFrame(columns=xgb_gs_metrics.metric.unique(),\n",
    "                                  index=xgb_gs_metrics.dataset.unique())\n",
    "\n",
    "# Iterate through each row and column, aggregate values and take the mean\n",
    "for col in xgb_gs_metrics_mean.columns:\n",
    "    for idx in xgb_gs_metrics_mean.index:\n",
    "        avg = xgb_gs_metrics.loc[(xgb_gs_metrics.metric==col) & (xgb_gs_metrics.dataset==idx),'value']\n",
    "        xgb_gs_metrics_mean.loc[idx,col] = avg.mean()\n",
    "        \n",
    "# Sort average metrics by accuracy, recall, and AUC\n",
    "xgb_gs_metrics_mean.sort_values(by=metrics, ascending=False)"
   ]
  },
  {
   "cell_type": "markdown",
   "metadata": {},
   "source": [
    "Clearly random oversampling is preferable over smote. But XGBoost takes a long time to run. This will be corrected next time. "
   ]
  },
  {
   "cell_type": "code",
   "execution_count": null,
   "metadata": {},
   "outputs": [],
   "source": [
    "# Plot the metrics for training and validation datasets\n",
    "plot_metrics(xgb_gs)"
   ]
  },
  {
   "cell_type": "code",
   "execution_count": null,
   "metadata": {},
   "outputs": [],
   "source": [
    "# Fit grid search models with the best training dataset\n",
    "# SMOTE has better accuracy and recall values\n",
    "# Therefore, 'class_weight' is disabled\n",
    "xgb_gs.fit(X_train_vec[0], y_train)"
   ]
  },
  {
   "cell_type": "code",
   "execution_count": null,
   "metadata": {},
   "outputs": [],
   "source": [
    "# Predict test and training datasets \n",
    "# Also get the metrics of fit \n",
    "if not isinstance(xgb_gs.predictions, pd.DataFrame):\n",
    "    prep = Preprocess(transformer='tfidf',max_df=0.979, min_df=0.0201)\n",
    "    tmp = pd.DataFrame(prep.transform(X_valid), columns=xgb_gs.models[0].get_booster().feature_names)\n",
    "    xgb_gs.predict(tmp, y_valid, train_test='validate')\n",
    "    xgb_gs.predict(X_train_vec[0], y_train, train_test='train')\n",
    "xgb_gs.predictions.head()"
   ]
  },
  {
   "cell_type": "code",
   "execution_count": null,
   "metadata": {},
   "outputs": [],
   "source": [
    "# Plot metrics for predicted values\n",
    "plot_predictions(xgb_gs, valid_test='validate')"
   ]
  },
  {
   "cell_type": "code",
   "execution_count": null,
   "metadata": {},
   "outputs": [],
   "source": [
    "# Find the best model and model metrics based on given metrics \n",
    "best_xgb_model, best_xgb_model_metrics = xgb_gs.best_model(metrics=metrics, \n",
    "                                                           valid_test='validate')\n",
    "\n",
    "# # Store best model \n",
    "# best_models.append(best_xgb_model)\n",
    "\n",
    "# # Store best model metrics \n",
    "# best_xgb_model_metrics = pd.DataFrame(best_xgb_model_metrics).transpose()\n",
    "# best_models_metrics = pd.concat([best_models_metrics,best_xgb_model_metrics],\n",
    "#                                ignore_index=True)\n",
    "\n",
    "# Display best model parameters \n",
    "best_xgb_model.get_params"
   ]
  },
  {
   "cell_type": "code",
   "execution_count": null,
   "metadata": {},
   "outputs": [],
   "source": [
    "# Best DT model metrics \n",
    "best_xgb_model_metrics"
   ]
  },
  {
   "cell_type": "code",
   "execution_count": null,
   "metadata": {},
   "outputs": [],
   "source": [
    "# Confusion matrix \n",
    "plot_confusion_matrix(y_valid, best_xgb_model_metrics.preds, \n",
    "                      normalize='true');"
   ]
  },
  {
   "cell_type": "code",
   "execution_count": null,
   "metadata": {},
   "outputs": [],
   "source": [
    "if not exists('xgb_gs.pickle'):\n",
    "    with open('xgb_gs.pickle', 'wb') as f:    \n",
    "        pickle.dump(xgb_gs, f)"
   ]
  },
  {
   "cell_type": "markdown",
   "metadata": {},
   "source": [
    "### CatBoost"
   ]
  },
  {
   "cell_type": "markdown",
   "metadata": {},
   "source": [
    "For CatBoost, border count, depth, iterations, l2 leaf regularization and learning rate were used as grid parameters. Similar to XGBoost, `GPU` are also enabled. Class weights were rejected by the model as those parameters needed to be defined along with `fit` function, which were not implemented in the `Custom_GridSearchCV` class.   "
   ]
  },
  {
   "cell_type": "code",
   "execution_count": null,
   "metadata": {},
   "outputs": [],
   "source": [
    "# Check if the variable exists\n",
    "if not exists('cb_gs.pickle'):\n",
    "    \n",
    "    # Define parameters ranges \n",
    "    params = {'border_count':[100,200],\n",
    "              'depth':np.arange(1,11,5),          \n",
    "              'iterations':[500,1000],\n",
    "              'l2_leaf_reg':[10,100],\n",
    "              'learning_rate':[0.001,0.01],\n",
    "              'logging_level':[\"'Silent'\"],\n",
    "              'random_state':['SEED'],\n",
    "              'task_type':[\"'GPU'\"],\n",
    "              'thread_count':['n_cpu']}\n",
    "\n",
    "    # Convert parameters to string \n",
    "    for key in params.keys():\n",
    "        params[key] = [str(p) for p in params[key]]\n",
    "\n",
    "    # Create a Custom_GridSearchCV instance\n",
    "    cb_gs = Custom_GridSearchCV('CatBoostClassifier', param_grid=params)\n",
    "else:\n",
    "    # Replace xgb_gs by model_cv[5]\n",
    "    with open('cb_gs.pickle', 'rb') as f:\n",
    "        cb_gs = pickle.load(f)   "
   ]
  },
  {
   "cell_type": "code",
   "execution_count": null,
   "metadata": {},
   "outputs": [],
   "source": [
    "# Run cross-validation with accuracy as the primary scoring\n",
    "rprt, rp_df,_ = cb_gs.cross_validate(X_train_vec, y_train,\n",
    "                                     vectorization=vec_labels)"
   ]
  },
  {
   "cell_type": "code",
   "execution_count": null,
   "metadata": {},
   "outputs": [],
   "source": [
    "# Find training and validation metrics\n",
    "cb_gs_metrics_train,_,_ = prepare_metrics(cb_gs, train_val='train')\n",
    "cb_gs_metrics_valid,_,_ = prepare_metrics(cb_gs, train_val='cross_validate')\n",
    "\n",
    "# Combine metrics \n",
    "cb_gs_metrics = pd.concat([cb_gs_metrics_train,cb_gs_metrics_valid])\n",
    "\n",
    "# Rename dataset as 'dataset_train/validate'\n",
    "cb_gs_metrics.dataset = cb_gs_metrics.dataset+'_'+cb_gs_metrics.train_val\n",
    "\n",
    "# Create a placeholder dataframe to store the average values\n",
    "cb_gs_metrics_mean = pd.DataFrame(columns=cb_gs_metrics.metric.unique(),\n",
    "                                  index=cb_gs_metrics.dataset.unique())\n",
    "\n",
    "# Iterate through each row and column, aggregate values and take the mean\n",
    "for col in cb_gs_metrics_mean.columns:\n",
    "    for idx in cb_gs_metrics_mean.index:\n",
    "        avg = cb_gs_metrics.loc[(cb_gs_metrics.metric==col) & (cb_gs_metrics.dataset==idx),'value']\n",
    "        cb_gs_metrics_mean.loc[idx,col] = avg.mean()\n",
    "        \n",
    "# Sort average metrics by recall, AUC and accuracy\n",
    "cb_gs_metrics_mean.sort_values(by=metrics,ascending=False)"
   ]
  },
  {
   "cell_type": "code",
   "execution_count": null,
   "metadata": {},
   "outputs": [],
   "source": [
    "# Plot the metrics for training and validation datasets\n",
    "plot_metrics(cb_gs)"
   ]
  },
  {
   "cell_type": "markdown",
   "metadata": {},
   "source": [
    "SMOTE has the largest good tradeoff between accuracy and recall for the validation dataset. "
   ]
  },
  {
   "cell_type": "code",
   "execution_count": null,
   "metadata": {},
   "outputs": [],
   "source": [
    "if not exists('cb_gs_cross_validate.pickle'):\n",
    "    with open('cb_gs_cross_validate.pickle', 'wb') as f:    \n",
    "        pickle.dump(cb_gs, f)"
   ]
  },
  {
   "cell_type": "code",
   "execution_count": null,
   "metadata": {},
   "outputs": [],
   "source": [
    "# Fit grid search models with the best training dataset\n",
    "# SMOTE has better accuracy and recall values\n",
    "# Therefore, 'class_weight' is disabled\n",
    "cb_gs.fit(X_train_vec[-1], y_train)"
   ]
  },
  {
   "cell_type": "code",
   "execution_count": null,
   "metadata": {},
   "outputs": [],
   "source": [
    "# Predict test and training datasets \n",
    "# Also get the metrics of fit \n",
    "if not isinstance(cb_gs.predictions, pd.DataFrame):\n",
    "    prep = Preprocess(transformer='embed')\n",
    "    cb_gs.predict(prep.transform(X_valid), y_valid, train_test='validate')\n",
    "    cb_gs.predict(X_train_vec[-1], y_train, train_test='train')\n",
    "cb_gs.predictions.head()"
   ]
  },
  {
   "cell_type": "code",
   "execution_count": null,
   "metadata": {},
   "outputs": [],
   "source": [
    "# Plot metrics for predicted values\n",
    "plot_predictions(cb_gs, valid_test='validate')"
   ]
  },
  {
   "cell_type": "markdown",
   "metadata": {},
   "source": [
    "CatBoost appears to have close prediction for training and validation test compared to the other models. This will be quantified later."
   ]
  },
  {
   "cell_type": "code",
   "execution_count": null,
   "metadata": {},
   "outputs": [],
   "source": [
    "# Find the best model and model metrics based on given metrics \n",
    "best_cb_model, best_cb_model_metrics = cb_gs.best_model(metrics=metrics,\n",
    "                                                       valid_test='validate')\n",
    "\n",
    "# # Store best model \n",
    "# best_models.append(best_cb_model)\n",
    "\n",
    "# # Store best model metrics \n",
    "# best_cb_model_metrics = pd.DataFrame(best_cb_model_metrics).transpose()\n",
    "# best_models_metrics = pd.concat([best_models_metrics,best_cb_model_metrics],\n",
    "#                                ignore_index=True)\n",
    "\n",
    "# Display best model parameters \n",
    "best_cb_model.get_params"
   ]
  },
  {
   "cell_type": "code",
   "execution_count": null,
   "metadata": {},
   "outputs": [],
   "source": [
    "# Best DT model metrics \n",
    "best_cb_model_metrics"
   ]
  },
  {
   "cell_type": "code",
   "execution_count": null,
   "metadata": {},
   "outputs": [],
   "source": [
    "# Confusion matrix \n",
    "plot_confusion_matrix(y_valid, best_cb_model_metrics.preds, \n",
    "                      normalize='true');"
   ]
  },
  {
   "cell_type": "markdown",
   "metadata": {},
   "source": [
    "The models can now be saved to file. "
   ]
  },
  {
   "cell_type": "code",
   "execution_count": null,
   "metadata": {},
   "outputs": [],
   "source": [
    "if not exists('cb_gs.pickle'):\n",
    "    with open('cb_gs.pickle', 'wb') as f:    \n",
    "        pickle.dump(cb_gs, f)"
   ]
  },
  {
   "cell_type": "markdown",
   "metadata": {},
   "source": [
    "## Sequence Models "
   ]
  },
  {
   "cell_type": "code",
   "execution_count": null,
   "metadata": {},
   "outputs": [],
   "source": []
  },
  {
   "cell_type": "markdown",
   "metadata": {},
   "source": [
    "### Long Short Term Memory "
   ]
  },
  {
   "cell_type": "code",
   "execution_count": 30,
   "metadata": {},
   "outputs": [],
   "source": [
    "MAX_FEATURES = 20000\n",
    "tokenizer = Tokenizer(num_words=MAX_FEATURES)\n",
    "tokenizer.fit_on_texts(X_train)\n",
    "train_texts = tokenizer.texts_to_sequences(X_train)\n",
    "val_texts = tokenizer.texts_to_sequences(X_valid)\n",
    "# test_texts = tokenizer.texts_to_sequences(test_texts)"
   ]
  },
  {
   "cell_type": "code",
   "execution_count": 31,
   "metadata": {},
   "outputs": [],
   "source": [
    "MAX_LENGTH = max(len(train_ex) for train_ex in train_texts)\n",
    "train_texts = pad_sequences(train_texts, maxlen=MAX_LENGTH)\n",
    "val_texts = pad_sequences(val_texts, maxlen=MAX_LENGTH)\n",
    "# test_texts = pad_sequences(test_texts, maxlen=MAX_LENGTH)"
   ]
  },
  {
   "cell_type": "code",
   "execution_count": 32,
   "metadata": {},
   "outputs": [],
   "source": [
    "def build_lstm_model(embedding=None):    \n",
    "    if embedding is None:\n",
    "        sequences = layers.Input(shape=(MAX_LENGTH,))\n",
    "        embedded = layers.Embedding(MAX_FEATURES, 64)(sequences)\n",
    "    else:\n",
    "        sequences = layers.Input(shape=(embedding.shape[1],))\n",
    "        embedded = layers.Embedding(embedding.shape[0],embedding.shape[1], \n",
    "                                        weights=[embedding_matrix], \n",
    "                                        trainable=False)(sequences)\n",
    "    x = layers.CuDNNLSTM(128, return_sequences=True)(embedded)\n",
    "    x = layers.CuDNNLSTM(128)(x)\n",
    "    x = layers.Dense(100, activation='relu')(x)\n",
    "    x = layers.Dense(32, activation='relu')(x)    \n",
    "    predictions = layers.Dense(1, activation='sigmoid')(x)\n",
    "    model = models.Model(inputs=sequences, outputs=predictions)\n",
    "    model.compile(optimizer='adam',\n",
    "                  loss='binary_crossentropy',\n",
    "                  metrics=['accuracy'])\n",
    "    return model"
   ]
  },
  {
   "cell_type": "code",
   "execution_count": 33,
   "metadata": {},
   "outputs": [],
   "source": [
    "lstm_model_no_weight = build_lstm_model()"
   ]
  },
  {
   "cell_type": "code",
   "execution_count": 34,
   "metadata": {},
   "outputs": [
    {
     "name": "stdout",
     "output_type": "stream",
     "text": [
      "Model: \"functional_1\"\n",
      "_________________________________________________________________\n",
      "Layer (type)                 Output Shape              Param #   \n",
      "=================================================================\n",
      "input_1 (InputLayer)         [(None, 167)]             0         \n",
      "_________________________________________________________________\n",
      "embedding (Embedding)        (None, 167, 64)           1280000   \n",
      "_________________________________________________________________\n",
      "cu_dnnlstm (CuDNNLSTM)       (None, 167, 128)          99328     \n",
      "_________________________________________________________________\n",
      "cu_dnnlstm_1 (CuDNNLSTM)     (None, 128)               132096    \n",
      "_________________________________________________________________\n",
      "dense (Dense)                (None, 100)               12900     \n",
      "_________________________________________________________________\n",
      "dense_1 (Dense)              (None, 32)                3232      \n",
      "_________________________________________________________________\n",
      "dense_2 (Dense)              (None, 1)                 33        \n",
      "=================================================================\n",
      "Total params: 1,527,589\n",
      "Trainable params: 1,527,589\n",
      "Non-trainable params: 0\n",
      "_________________________________________________________________\n"
     ]
    }
   ],
   "source": [
    "lstm_model_no_weight.summary()"
   ]
  },
  {
   "cell_type": "code",
   "execution_count": 35,
   "metadata": {},
   "outputs": [
    {
     "name": "stdout",
     "output_type": "stream",
     "text": [
      "19688/19688 [==============================] - 1014s 51ms/step - loss: 0.2366 - accuracy: 0.9030 - val_loss: 0.2085 - val_accuracy: 0.9164\n"
     ]
    }
   ],
   "source": [
    "lstm_model_no_weight.fit(\n",
    "        train_texts, \n",
    "        y_train, \n",
    "        batch_size=128,\n",
    "        epochs=1,\n",
    "        validation_data=(val_texts, y_valid));"
   ]
  },
  {
   "cell_type": "code",
   "execution_count": 36,
   "metadata": {},
   "outputs": [],
   "source": [
    "preds = lstm_model_no_weight.predict(val_texts)\n",
    "preds = 1 * (preds > 0.5)"
   ]
  },
  {
   "cell_type": "code",
   "execution_count": 37,
   "metadata": {},
   "outputs": [
    {
     "name": "stdout",
     "output_type": "stream",
     "text": [
      "Log loss: 2.886\n",
      "Accuracy: 0.9164\n",
      "Precision: 0.9074\n",
      "Recall: 0.9275\n",
      "F1: 0.9174\n",
      "ROC AUC: 0.9164\n"
     ]
    }
   ],
   "source": [
    "print('Log loss: {:0.4}'.format(log_loss(y_valid, preds)))\n",
    "print('Accuracy: {:0.4}'.format(accuracy_score(y_valid, preds)))\n",
    "print('Precision: {:0.4}'.format(precision_score(y_valid, preds)))\n",
    "print('Recall: {:0.4}'.format(recall_score(y_valid, preds)))\n",
    "print('F1: {:0.4}'.format(f1_score(y_valid, preds)))\n",
    "print('ROC AUC: {:0.4}'.format(roc_auc_score(y_valid, preds)))"
   ]
  },
  {
   "cell_type": "code",
   "execution_count": 38,
   "metadata": {},
   "outputs": [
    {
     "data": {
      "image/png": "[encoded data removed]",
      "text/plain": [
       "<Figure size 360x288 with 2 Axes>"
      ]
     },
     "metadata": {
      "needs_background": "light"
     },
     "output_type": "display_data"
    }
   ],
   "source": [
    "plot_confusion_matrix(y_valid, preds, normalize='true')"
   ]
  },
  {
   "cell_type": "markdown",
   "metadata": {},
   "source": [
    "Now, let us use GloVe word embedding and retrain the model. First, the embedding matrix must be computed based on how many words have been tokenized.  "
   ]
  },
  {
   "cell_type": "code",
   "execution_count": null,
   "metadata": {},
   "outputs": [],
   "source": [
    "MAX_LENGTH = len(embeddings_index[next(iter(embeddings_index))])\n",
    "tokenizer = Tokenizer()\n",
    "tokenizer.fit_on_texts(X_train)\n",
    "train_texts = tokenizer.texts_to_sequences(X_train)\n",
    "val_texts = tokenizer.texts_to_sequences(X_valid)\n",
    "train_texts = pad_sequences(train_texts, maxlen=MAX_LENGTH)\n",
    "val_texts = pad_sequences(val_texts, maxlen=MAX_LENGTH)"
   ]
  },
  {
   "cell_type": "code",
   "execution_count": null,
   "metadata": {},
   "outputs": [],
   "source": [
    "word_index = tokenizer.word_index\n",
    "embedding_matrix = np.zeros((len(word_index)+1, MAX_LENGTH))\n",
    "for word, i in word_index.items():\n",
    "    embedding_vector = embeddings_index.get(word)\n",
    "    if embedding_vector is not None:\n",
    "        embedding_matrix[i] = embedding_vector"
   ]
  },
  {
   "cell_type": "code",
   "execution_count": null,
   "metadata": {},
   "outputs": [],
   "source": [
    "lstm_model_glove = build_lstm_model(embedding=embedding_matrix)"
   ]
  },
  {
   "cell_type": "code",
   "execution_count": null,
   "metadata": {},
   "outputs": [],
   "source": [
    "lstm_model_glove.summary()"
   ]
  },
  {
   "cell_type": "markdown",
   "metadata": {},
   "source": [
    "Clearly, using word embedding is going to exponentially increase our computation. But for the most part, the embedding layer is set to non-trainable.    "
   ]
  },
  {
   "cell_type": "code",
   "execution_count": null,
   "metadata": {},
   "outputs": [],
   "source": [
    "lstm_model_glove.fit(train_texts, \n",
    "                     y_train, \n",
    "                     batch_size=128, \n",
    "                     epochs=1,\n",
    "                     validation_data=(val_texts, y_valid));"
   ]
  },
  {
   "cell_type": "code",
   "execution_count": null,
   "metadata": {},
   "outputs": [],
   "source": [
    "preds = lstm_model_glove.predict(val_texts)"
   ]
  },
  {
   "cell_type": "code",
   "execution_count": null,
   "metadata": {},
   "outputs": [],
   "source": [
    "preds = lstm_model_no_weight.predict(val_texts)\n",
    "preds = 1 * (preds > 0.5)"
   ]
  },
  {
   "cell_type": "code",
   "execution_count": null,
   "metadata": {},
   "outputs": [],
   "source": [
    "print('Log loss: {:0.4}'.format(log_loss(y_valid, preds)))\n",
    "print('Accuracy: {:0.4}'.format(accuracy_score(y_valid, preds)))\n",
    "print('Precision: {:0.4}'.format(precision_score(y_valid, preds)))\n",
    "print('Recall: {:0.4}'.format(recall_score(y_valid, preds)))\n",
    "print('F1: {:0.4}'.format(f1_score(y_valid, preds)))\n",
    "print('ROC AUC: {:0.4}'.format(roc_auc_score(y_valid, preds)))"
   ]
  },
  {
   "cell_type": "code",
   "execution_count": null,
   "metadata": {},
   "outputs": [],
   "source": [
    "plot_confusion_matrix(y_valid, preds, normalize='true')"
   ]
  },
  {
   "cell_type": "markdown",
   "metadata": {},
   "source": [
    "## Transformer Models"
   ]
  },
  {
   "cell_type": "markdown",
   "metadata": {},
   "source": [
    "### Bidirectional Encoder Representations from Transformers"
   ]
  },
  {
   "cell_type": "markdown",
   "metadata": {},
   "source": [
    "### Hugging Face"
   ]
  },
  {
   "cell_type": "markdown",
   "metadata": {},
   "source": [
    "# Evaluation "
   ]
  },
  {
   "cell_type": "markdown",
   "metadata": {},
   "source": [
    "## Models' Performances"
   ]
  },
  {
   "cell_type": "markdown",
   "metadata": {},
   "source": [
    "## Final Model"
   ]
  },
  {
   "cell_type": "markdown",
   "metadata": {},
   "source": [
    "## Model Interpretation "
   ]
  },
  {
   "cell_type": "markdown",
   "metadata": {},
   "source": [
    "## API Development "
   ]
  },
  {
   "cell_type": "markdown",
   "metadata": {},
   "source": [
    "## Web Deployment "
   ]
  },
  {
   "cell_type": "markdown",
   "metadata": {},
   "source": [
    "# Conclusion "
   ]
  },
  {
   "cell_type": "markdown",
   "metadata": {},
   "source": []
  },
  {
   "cell_type": "markdown",
   "metadata": {},
   "source": [
    "# Next Steps"
   ]
  },
  {
   "cell_type": "markdown",
   "metadata": {},
   "source": []
  }
 ],
 "metadata": {
  "kernelspec": {
   "display_name": "Python (learn-env)",
   "language": "python",
   "name": "learn-env"
  },
  "language_info": {
   "codemirror_mode": {
    "name": "ipython",
    "version": 3
   },
   "file_extension": ".py",
   "mimetype": "text/x-python",
   "name": "python",
   "nbconvert_exporter": "python",
   "pygments_lexer": "ipython3",
   "version": "3.8.5"
  },
  "toc": {
   "base_numbering": 1,
   "nav_menu": {},
   "number_sections": true,
   "sideBar": true,
   "skip_h1_title": false,
   "title_cell": "Table of Contents",
   "title_sidebar": "Contents",
   "toc_cell": true,
   "toc_position": {
    "height": "calc(100% - 180px)",
    "left": "10px",
    "top": "150px",
    "width": "307.2px"
   },
   "toc_section_display": true,
   "toc_window_display": true
  }
 },
 "nbformat": 4,
 "nbformat_minor": 4
}
