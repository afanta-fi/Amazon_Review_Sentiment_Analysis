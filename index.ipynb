{
 "cells": [
  {
   "cell_type": "markdown",
   "metadata": {
    "toc": true
   },
   "source": [
    "<h1>Table of Contents<span class=\"tocSkip\"></span></h1>\n",
    "<div class=\"toc\"><ul class=\"toc-item\"><li><span><a href=\"#Business-Understanding\" data-toc-modified-id=\"Business-Understanding-1\"><span class=\"toc-item-num\">1&nbsp;&nbsp;</span>Business Understanding</a></span></li><li><span><a href=\"#Data-Understanding\" data-toc-modified-id=\"Data-Understanding-2\"><span class=\"toc-item-num\">2&nbsp;&nbsp;</span>Data Understanding</a></span></li><li><span><a href=\"#Data-Preparation\" data-toc-modified-id=\"Data-Preparation-3\"><span class=\"toc-item-num\">3&nbsp;&nbsp;</span>Data Preparation</a></span></li><li><span><a href=\"#Modeling\" data-toc-modified-id=\"Modeling-4\"><span class=\"toc-item-num\">4&nbsp;&nbsp;</span>Modeling</a></span><ul class=\"toc-item\"><li><span><a href=\"#Preprocessing-Class\" data-toc-modified-id=\"Preprocessing-Class-4.1\"><span class=\"toc-item-num\">4.1&nbsp;&nbsp;</span>Preprocessing Class</a></span></li><li><span><a href=\"#Grid-Search\" data-toc-modified-id=\"Grid-Search-4.2\"><span class=\"toc-item-num\">4.2&nbsp;&nbsp;</span>Grid Search</a></span></li><li><span><a href=\"#Model-Performance-Visualization\" data-toc-modified-id=\"Model-Performance-Visualization-4.3\"><span class=\"toc-item-num\">4.3&nbsp;&nbsp;</span>Model Performance Visualization</a></span></li><li><span><a href=\"#Shallow-Learning\" data-toc-modified-id=\"Shallow-Learning-4.4\"><span class=\"toc-item-num\">4.4&nbsp;&nbsp;</span>Shallow Learning</a></span><ul class=\"toc-item\"><li><span><a href=\"#Naive-Bayes\" data-toc-modified-id=\"Naive-Bayes-4.4.1\"><span class=\"toc-item-num\">4.4.1&nbsp;&nbsp;</span>Naive Bayes</a></span></li><li><span><a href=\"#Logistic-Regression\" data-toc-modified-id=\"Logistic-Regression-4.4.2\"><span class=\"toc-item-num\">4.4.2&nbsp;&nbsp;</span>Logistic Regression</a></span></li><li><span><a href=\"#Random-Forest\" data-toc-modified-id=\"Random-Forest-4.4.3\"><span class=\"toc-item-num\">4.4.3&nbsp;&nbsp;</span>Random Forest</a></span></li></ul></li><li><span><a href=\"#Gradient-Boosting\" data-toc-modified-id=\"Gradient-Boosting-4.5\"><span class=\"toc-item-num\">4.5&nbsp;&nbsp;</span>Gradient Boosting</a></span><ul class=\"toc-item\"><li><span><a href=\"#XGBoost\" data-toc-modified-id=\"XGBoost-4.5.1\"><span class=\"toc-item-num\">4.5.1&nbsp;&nbsp;</span>XGBoost</a></span></li><li><span><a href=\"#CatBoost\" data-toc-modified-id=\"CatBoost-4.5.2\"><span class=\"toc-item-num\">4.5.2&nbsp;&nbsp;</span>CatBoost</a></span></li></ul></li><li><span><a href=\"#Sequence-Models\" data-toc-modified-id=\"Sequence-Models-4.6\"><span class=\"toc-item-num\">4.6&nbsp;&nbsp;</span>Sequence Models</a></span><ul class=\"toc-item\"><li><span><a href=\"#Gated-Recurrent-Unit\" data-toc-modified-id=\"Gated-Recurrent-Unit-4.6.1\"><span class=\"toc-item-num\">4.6.1&nbsp;&nbsp;</span>Gated Recurrent Unit</a></span></li><li><span><a href=\"#Long-Short-Term-Memory\" data-toc-modified-id=\"Long-Short-Term-Memory-4.6.2\"><span class=\"toc-item-num\">4.6.2&nbsp;&nbsp;</span>Long Short Term Memory</a></span></li></ul></li><li><span><a href=\"#Transformer-Models\" data-toc-modified-id=\"Transformer-Models-4.7\"><span class=\"toc-item-num\">4.7&nbsp;&nbsp;</span>Transformer Models</a></span><ul class=\"toc-item\"><li><span><a href=\"#Bidirectional-Encoder-Representations-from-Transformers\" data-toc-modified-id=\"Bidirectional-Encoder-Representations-from-Transformers-4.7.1\"><span class=\"toc-item-num\">4.7.1&nbsp;&nbsp;</span>Bidirectional Encoder Representations from Transformers</a></span></li><li><span><a href=\"#Hugging-Face\" data-toc-modified-id=\"Hugging-Face-4.7.2\"><span class=\"toc-item-num\">4.7.2&nbsp;&nbsp;</span>Hugging Face</a></span></li></ul></li></ul></li><li><span><a href=\"#Evaluation\" data-toc-modified-id=\"Evaluation-5\"><span class=\"toc-item-num\">5&nbsp;&nbsp;</span>Evaluation</a></span><ul class=\"toc-item\"><li><span><a href=\"#Models'-Performances\" data-toc-modified-id=\"Models'-Performances-5.1\"><span class=\"toc-item-num\">5.1&nbsp;&nbsp;</span>Models' Performances</a></span></li><li><span><a href=\"#Final-Model\" data-toc-modified-id=\"Final-Model-5.2\"><span class=\"toc-item-num\">5.2&nbsp;&nbsp;</span>Final Model</a></span></li><li><span><a href=\"#Model-Interpretation\" data-toc-modified-id=\"Model-Interpretation-5.3\"><span class=\"toc-item-num\">5.3&nbsp;&nbsp;</span>Model Interpretation</a></span></li><li><span><a href=\"#API-Development\" data-toc-modified-id=\"API-Development-5.4\"><span class=\"toc-item-num\">5.4&nbsp;&nbsp;</span>API Development</a></span></li><li><span><a href=\"#Web-Deployment\" data-toc-modified-id=\"Web-Deployment-5.5\"><span class=\"toc-item-num\">5.5&nbsp;&nbsp;</span>Web Deployment</a></span></li></ul></li><li><span><a href=\"#Conclusion\" data-toc-modified-id=\"Conclusion-6\"><span class=\"toc-item-num\">6&nbsp;&nbsp;</span>Conclusion</a></span></li><li><span><a href=\"#Next-Steps\" data-toc-modified-id=\"Next-Steps-7\"><span class=\"toc-item-num\">7&nbsp;&nbsp;</span>Next Steps</a></span></li></ul></div>"
   ]
  },
  {
   "cell_type": "markdown",
   "metadata": {},
   "source": [
    "# Business Understanding"
   ]
  },
  {
   "cell_type": "markdown",
   "metadata": {},
   "source": []
  },
  {
   "cell_type": "markdown",
   "metadata": {},
   "source": [
    "# Data Understanding"
   ]
  },
  {
   "cell_type": "markdown",
   "metadata": {},
   "source": []
  },
  {
   "cell_type": "code",
   "execution_count": 1,
   "metadata": {},
   "outputs": [],
   "source": [
    "# ! pip install pyenchant \n",
    "# ! pip install autocorrect "
   ]
  },
  {
   "cell_type": "code",
   "execution_count": 2,
   "metadata": {},
   "outputs": [],
   "source": [
    "# Import important libraries\n",
    "import os\n",
    "from os import remove\n",
    "from os.path import exists\n",
    "import wget\n",
    "import zipfile\n",
    "import pandas as pd \n",
    "import numpy as np\n",
    "import bz2\n",
    "import nltk\n",
    "from nltk import pos_tag\n",
    "from nltk.corpus import wordnet, stopwords\n",
    "from nltk.probability import FreqDist\n",
    "from nltk.tokenize import regexp_tokenize, word_tokenize, RegexpTokenizer\n",
    "import re \n",
    "from autocorrect import Speller\n",
    "from enchant import request_dict\n",
    "from enchant.checker import SpellChecker\n",
    "from enchant.tokenize import EmailFilter, URLFilter\n",
    "from tqdm import tqdm\n",
    "from tqdm.contrib.concurrent import process_map \n",
    "from multiprocessing import Pool\n",
    "from time import time\n",
    "import itertools as it\n",
    "from sklearn.feature_extraction.text import CountVectorizer, TfidfVectorizer\n",
    "from sklearn.model_selection import train_test_split\n",
    "from sklearn.base import clone\n",
    "from sklearn.preprocessing import LabelEncoder, StandardScaler \n",
    "from sklearn.utils.class_weight import compute_class_weight\n",
    "from imblearn.over_sampling import SMOTE, RandomOverSampler, ADASYN\n",
    "from sklearn.model_selection import train_test_split, StratifiedKFold, GridSearchCV\n",
    "from sklearn.naive_bayes import MultinomialNB\n",
    "from sklearn.linear_model import LogisticRegression\n",
    "from sklearn.tree import DecisionTreeClassifier\n",
    "from sklearn.ensemble import RandomForestClassifier\n",
    "from xgboost.sklearn import XGBClassifier \n",
    "from catboost import CatBoostClassifier\n",
    "import shap \n",
    "from sklearn.metrics import precision_score,accuracy_score,recall_score,plot_confusion_matrix\n",
    "from sklearn.metrics import f1_score,roc_auc_score,log_loss,roc_curve,auc,confusion_matrix\n",
    "import dill as pickle\n",
    "from imblearn.pipeline import Pipeline\n",
    "from sklearn.inspection import permutation_importance\n",
    "from textwrap import wrap\n",
    "import matplotlib.pyplot as plt \n",
    "import seaborn as sns \n",
    "\n",
    "\n",
    "# Enable inline ploting\n",
    "%matplotlib inline \n",
    "SEED = 123"
   ]
  },
  {
   "cell_type": "code",
   "execution_count": 3,
   "metadata": {},
   "outputs": [
    {
     "name": "stderr",
     "output_type": "stream",
     "text": [
      "[nltk_data] Downloading package tagsets to\n",
      "[nltk_data]     C:\\Users\\zeaps\\AppData\\Roaming\\nltk_data...\n",
      "[nltk_data]   Package tagsets is already up-to-date!\n",
      "[nltk_data] Downloading package wordnet to\n",
      "[nltk_data]     C:\\Users\\zeaps\\AppData\\Roaming\\nltk_data...\n",
      "[nltk_data]   Package wordnet is already up-to-date!\n",
      "[nltk_data] Downloading package stopwords to\n",
      "[nltk_data]     C:\\Users\\zeaps\\AppData\\Roaming\\nltk_data...\n",
      "[nltk_data]   Package stopwords is already up-to-date!\n"
     ]
    },
    {
     "data": {
      "text/plain": [
       "True"
      ]
     },
     "execution_count": 3,
     "metadata": {},
     "output_type": "execute_result"
    }
   ],
   "source": [
    "nltk.download('tagsets')\n",
    "nltk.download('wordnet')\n",
    "nltk.download('stopwords')"
   ]
  },
  {
   "cell_type": "code",
   "execution_count": null,
   "metadata": {},
   "outputs": [],
   "source": [
    "def load_data(b2z_file_loc):\n",
    "    file = bz2.BZ2File(b2z_file_loc)\n",
    "    t = tqdm(file.readlines())\n",
    "    t.set_description('Loading '+b2z_file_loc.split('/')[-1].split('.')[0]+' data')\n",
    "    return [x.decode('utf-8') for x in t]\n",
    "        \n",
    "train_file_lines = load_data('data/train.ft.txt.bz2')"
   ]
  },
  {
   "cell_type": "code",
   "execution_count": null,
   "metadata": {},
   "outputs": [],
   "source": [
    "train_file_lines[:5]"
   ]
  },
  {
   "cell_type": "code",
   "execution_count": null,
   "metadata": {},
   "outputs": [],
   "source": [
    "train_file_lines[10:15]"
   ]
  },
  {
   "cell_type": "markdown",
   "metadata": {},
   "source": [
    "# Data Preparation"
   ]
  },
  {
   "cell_type": "markdown",
   "metadata": {},
   "source": []
  },
  {
   "cell_type": "code",
   "execution_count": null,
   "metadata": {},
   "outputs": [],
   "source": [
    "def decontracted(phrase):\n",
    "    phrase = re.sub(r\"n\\'t\", \" not\", phrase)\n",
    "    phrase = re.sub(r\"\\'re\", \" are\", phrase)\n",
    "    phrase = re.sub(r\"\\'s\", \" is\", phrase)\n",
    "    phrase = re.sub(r\"\\'d\", \" would\", phrase)\n",
    "    phrase = re.sub(r\"\\'ll\", \" will\", phrase)\n",
    "    phrase = re.sub(r\"\\'t\", \" not\", phrase)\n",
    "    phrase = re.sub(r\"\\'ve\", \" have\", phrase)\n",
    "    phrase = re.sub(r\"\\'m\", \" am\", phrase)\n",
    "    return phrase"
   ]
  },
  {
   "cell_type": "code",
   "execution_count": null,
   "metadata": {},
   "outputs": [],
   "source": [
    "def get_wordnet_pos(treebank_tag):\n",
    "    '''\n",
    "    Translate nltk POS to wordnet tags\n",
    "    '''\n",
    "    if treebank_tag.startswith('J'):\n",
    "        return wordnet.ADJ\n",
    "    elif treebank_tag.startswith('V'):\n",
    "        return wordnet.VERB\n",
    "    elif treebank_tag.startswith('N'):\n",
    "        return wordnet.NOUN\n",
    "    elif treebank_tag.startswith('R'):\n",
    "        return wordnet.ADV\n",
    "    else:\n",
    "        return wordnet.NOUN"
   ]
  },
  {
   "cell_type": "code",
   "execution_count": null,
   "metadata": {},
   "outputs": [],
   "source": [
    "chkr = SpellChecker(\"en_US\",filters=[EmailFilter,URLFilter])\n",
    "spell = Speller(lang='en')\n",
    "pattern = \"([a-zA-Z]+(?:'[a-z]+)?)\"\n",
    "tokenizer = RegexpTokenizer(pattern)\n",
    "sw = stopwords.words('english')\n",
    "lemmatizer = nltk.stem.WordNetLemmatizer()\n",
    "\n",
    "def data_cleaner(data, labeled=True):\n",
    "    splits = data.split('__label__')[-1]\n",
    "    if labeled:\n",
    "        labels = int(splits[0])-1    \n",
    "        statement = decontracted(splits[1:].lower())\n",
    "    else:\n",
    "        labels = np.nan\n",
    "        statement = decontracted(splits.lower())\n",
    "    statement = spell(statement)\n",
    "    chkr.set_text(statement)\n",
    "    for err in chkr:\n",
    "        try:            \n",
    "            statement = statement.replace(err.word,request_dict(err.word)[0])\n",
    "        except:\n",
    "            continue\n",
    "    statement = tokenizer.tokenize(statement)        \n",
    "    statement = [w for w in statement if w not in sw]\n",
    "    statement_tagged = [(token[0], get_wordnet_pos(token[1]))\n",
    "                        for token in pos_tag(statement)]\n",
    "    statement_lemmed = [lemmatizer.lemmatize(token[0], token[1]) for token in statement_tagged]\n",
    "    return statement_lemmed, labels "
   ]
  },
  {
   "cell_type": "code",
   "execution_count": null,
   "metadata": {},
   "outputs": [],
   "source": [
    "statement, labels = data_cleaner(train_file_lines[0])\n",
    "statement"
   ]
  },
  {
   "cell_type": "code",
   "execution_count": null,
   "metadata": {},
   "outputs": [],
   "source": [
    "def save_to_file(file_lines, attrib):\n",
    "    currtime = time()\n",
    "    results = process_map(data_cleaner, file_lines, \n",
    "                          max_workers=Pool()._processes, \n",
    "                          chunksize=Pool()._processes)\n",
    "    statements = []\n",
    "    labels = []\n",
    "    for result in results:\n",
    "        statements.append(result[0])\n",
    "        labels.append(result[-1])\n",
    "    df = pd.DataFrame(columns=['statements','labels'])\n",
    "    df.statements = statements\n",
    "    df.labels = labels\n",
    "    df.to_csv(r'data/'+attrib+'.zip', index=False, compression='gzip')\n",
    "    print('Parallel: time elapsed:', time() - currtime)\n",
    "    return df"
   ]
  },
  {
   "cell_type": "code",
   "execution_count": null,
   "metadata": {},
   "outputs": [],
   "source": [
    "if exists('data/train.zip'):\n",
    "    del train_file_lines\n",
    "    train_df = pd.read_csv('data/train.zip', compression='gzip')\n",
    "    def str_cleaner(line):\n",
    "        return line[1:-1].replace(\"'\",'').replace(' ','').replace(',',' ')\n",
    "    train_df.statements = train_df.statements.apply(str_cleaner)\n",
    "else:\n",
    "    train_df = save_to_file(train_file_lines, 'train') \n",
    "    del train_file_lines"
   ]
  },
  {
   "cell_type": "code",
   "execution_count": null,
   "metadata": {},
   "outputs": [],
   "source": [
    "train_df.head()"
   ]
  },
  {
   "cell_type": "code",
   "execution_count": null,
   "metadata": {},
   "outputs": [],
   "source": [
    "train_df.labels.value_counts(normalize=True)"
   ]
  },
  {
   "cell_type": "code",
   "execution_count": null,
   "metadata": {},
   "outputs": [],
   "source": []
  },
  {
   "cell_type": "code",
   "execution_count": null,
   "metadata": {},
   "outputs": [],
   "source": [
    "test = FreqDist(tokenizer.tokenize(' '.join(train_df.statements[:100].to_list())))"
   ]
  },
  {
   "cell_type": "code",
   "execution_count": null,
   "metadata": {},
   "outputs": [],
   "source": [
    "dict(test)"
   ]
  },
  {
   "cell_type": "code",
   "execution_count": null,
   "metadata": {},
   "outputs": [],
   "source": [
    "if not exists('glove_embedding.pickle'):\n",
    "    if not exists('glove.6B.300d.txt'):\n",
    "        wget.download(url='https://nlp.stanford.edu/data/glove.6B.zip')\n",
    "        zip_ = zipfile.ZipFile('glove.6B.zip')\n",
    "        zip_.extract('glove.6B.300d.txt')    \n",
    "        zip_.close()    \n",
    "        remove('glove.6B.zip')        \n",
    "    embeddings_index = {}\n",
    "    f = open('glove.6B.300d.txt', encoding = \"utf-8\")\n",
    "    for line in f:\n",
    "        values = line.split()\n",
    "        word = values[0]\n",
    "        coefs = np.asarray(values[1:], dtype='float32')\n",
    "        embeddings_index[word] = coefs\n",
    "    f.close()\n",
    "    remove('glove.6B.300d.txt')\n",
    "    # Save embedding dict to file\n",
    "    with open('glove_embedding.pickle', 'wb') as f:    \n",
    "        pickle.dump(embeddings_index, f)   \n",
    "else:\n",
    "    with open('glove_embedding.pickle', 'rb') as f:    \n",
    "        embeddings_index = pickle.load(f)"
   ]
  },
  {
   "cell_type": "code",
   "execution_count": null,
   "metadata": {},
   "outputs": [],
   "source": [
    "len(embeddings_index.keys())"
   ]
  },
  {
   "cell_type": "code",
   "execution_count": null,
   "metadata": {},
   "outputs": [],
   "source": [
    "X_train, X_valid, y_train, y_valid = train_test_split(train_df.statements, \n",
    "                                                      train_df.labels,\n",
    "                                                      random_state=SEED, \n",
    "                                                      stratify = train_df.labels,\n",
    "                                                      test_size = 0.3)"
   ]
  },
  {
   "cell_type": "code",
   "execution_count": null,
   "metadata": {},
   "outputs": [],
   "source": [
    "X_train.shape"
   ]
  },
  {
   "cell_type": "markdown",
   "metadata": {},
   "source": [
    "# Modeling "
   ]
  },
  {
   "cell_type": "markdown",
   "metadata": {},
   "source": [
    "## Preprocessing Class "
   ]
  },
  {
   "cell_type": "code",
   "execution_count": null,
   "metadata": {},
   "outputs": [],
   "source": [
    "class Preprocess():\n",
    "    def __init__(self, dataset=None, \n",
    "                 transformer='tfidf', \n",
    "                 cleaned=True, \n",
    "                 ngram_range=(1,1),\n",
    "                 max_features = 20000,\n",
    "                 min_df = 0.05, \n",
    "                 max_df = 0.95):\n",
    "        self.dataset = dataset\n",
    "        self.transformer = transformer\n",
    "        self.cleaned = cleaned\n",
    "        self.ngram_range = ngram_range\n",
    "        self.max_features = max_features\n",
    "        self.min_df = min_df\n",
    "        self.max_df = max_df\n",
    "    \n",
    "    def load_data(self, n_pool, labeled, attrib):\n",
    "        if not self.cleaned:\n",
    "            statements = []\n",
    "            labels = []\n",
    "            if n_pool==1:\n",
    "                for data in self.dataset:\n",
    "                    statement, label = data_cleaner(data)\n",
    "                    statements.append(statement)\n",
    "                    labels.append(label)\n",
    "            else:\n",
    "                results = process_map(data_cleaner, data, \n",
    "                          max_workers=n_pool, \n",
    "                          chunksize=n_pool)\n",
    "                for result in results:\n",
    "                    statements.append(result[0])\n",
    "                    labels.append(result[-1])\n",
    "            df = pd.DataFrame(columns=['statements','labels'])\n",
    "            df.statements = statements\n",
    "            df.labels = labels\n",
    "            df.to_csv(r'data/'+attrib+'.zip', index=False, compression='gzip')            \n",
    "        else:\n",
    "            df = pd.read_csv('data/'+attrib+'.zip', compression='gzip')\n",
    "            def str_cleaner(line):\n",
    "                return line[1:-1].replace(\"'\",'').replace(' ','').replace(',',' ')\n",
    "            df.statements = df.statements.apply(str_cleaner)\n",
    "        return df\n",
    "    \n",
    "    def transform(self, df):\n",
    "        if self.transformer=='tfidf':\n",
    "            vectorizer = TfidfVectorizer(max_features=self.max_features, \n",
    "                                         ngram_range=self.ngram_range,\n",
    "                                         min_df=self.min_df,\n",
    "                                         max_df=self.max_df)\n",
    "            tokens = vectorizer.fit_transform(df).toarray()\n",
    "        elif self.transformer=='count':\n",
    "            vectorizer = CountVectorizer(max_features=self.max_features, \n",
    "                                         ngram_range=self.ngram_range,\n",
    "                                         min_df=self.min_df,\n",
    "                                         max_df=self.max_df)\n",
    "            tokens = vectorizer.fit_transform(df).toarray()\n",
    "        elif self.transformer=='embed':\n",
    "            def sent2vec(s):\n",
    "                M = []                \n",
    "                for w in s:\n",
    "                    try:\n",
    "                        M.append(embeddings_index[w])\n",
    "                    except:\n",
    "                        continue\n",
    "                M = np.array(M)\n",
    "                v = M.sum(axis=0)\n",
    "                if type(v) != np.ndarray:\n",
    "                    return np.zeros(300)\n",
    "                return v / np.sqrt((v ** 2).sum())\n",
    "            data = df.apply(word_tokenize)\n",
    "            tokens = np.array(data.apply(sent2vec).tolist())\n",
    "        return tokens        "
   ]
  },
  {
   "cell_type": "code",
   "execution_count": null,
   "metadata": {},
   "outputs": [],
   "source": [
    "if not exists('train_vec.pickle'):\n",
    "\n",
    "    prep = Preprocess(transformer='tfidf',max_df=0.979,min_df=0.0201)\n",
    "    X_train_tfidf = prep.transform(X_train)\n",
    "\n",
    "    prep = Preprocess(transformer='count',max_df=0.979,min_df=0.0201)\n",
    "    X_train_count = prep.transform(X_train)\n",
    "\n",
    "    prep = Preprocess(transformer='embed')\n",
    "    X_train_embed = prep.transform(X_train)\n",
    "    \n",
    "    X_train_vec = [X_train_tfidf, X_train_count, X_train_embed]\n",
    "    vec_labels = ['TfIdf', 'Count', 'Embedding']\n",
    "    \n",
    "    del X_train_tfidf, X_train_count, X_train_embed\n",
    "    \n",
    "    # Save models to file\n",
    "    with open('train_vec.pickle', 'wb') as f:    \n",
    "        pickle.dump(X_train_vec, f)\n",
    "        pickle.dump(vec_labels, f)\n",
    "        pickle.dump(y_train, f)\n",
    "else:    \n",
    "    # Load models \n",
    "    with open('train_vec.pickle', 'rb') as f:\n",
    "        X_train_vec = pickle.load(f)\n",
    "        vec_labels = pickle.load(f)\n",
    "        y_train = pickle.load(f)"
   ]
  },
  {
   "cell_type": "markdown",
   "metadata": {},
   "source": [
    "## Grid Search "
   ]
  },
  {
   "cell_type": "code",
   "execution_count": null,
   "metadata": {},
   "outputs": [],
   "source": [
    "\n",
    "n_cpu = os.cpu_count()-1\n",
    "print(\"Number of CPUs in the system:\", n_cpu)"
   ]
  },
  {
   "cell_type": "code",
   "execution_count": null,
   "metadata": {},
   "outputs": [],
   "source": [
    "class Custom_GridSearchCV():\n",
    "    def __init__(self, estimator, param_grid={}, cv=5):\n",
    "        \"\"\"\n",
    "        Custom_GridSearchCV: A grid search that automatically returns\n",
    "        various metrics for almost all sklearn, xgboost and catboost \n",
    "        classification models.\n",
    "        estimator: A string of the model\n",
    "        param_grid: parametric grid for grid search. All entries should be in \n",
    "        string format\n",
    "        cv: Number of cross validation folds \n",
    "        \"\"\"\n",
    "        # Initialize cv\n",
    "        self.cv = cv \n",
    "        # Initialize fitted, boolean if the grid of models have been fitted\n",
    "        self.fitted = False \n",
    "        # Initialize models list\n",
    "        self.models = []\n",
    "        # Initialize cross validation evaluations \n",
    "        self.cross_eval = {}\n",
    "        # Extract parameters for baseline model. Parameters with only one value\n",
    "        # are selected.\n",
    "        base_params = [k+\"=\"+v[0] for k,v in param_grid.items() if len(v)==1]\n",
    "        base_params = ','.join(base_params)\n",
    "        # Initialize baseline model \n",
    "        exec(\"self.baseline_model = \"+estimator+\"(\"+base_params+\")\")\n",
    "        # Create a combinations of the parameter grid \n",
    "        all_params = sorted(param_grid)\n",
    "        combinations = it.product(*(param_grid[name] for name in all_params))\n",
    "        # Iterate through the combinations and keys to create a list of models\n",
    "        keys = list(param_grid.keys())\n",
    "        for j, comb in enumerate(combinations):\n",
    "            params = \"\"\n",
    "            for i, key in enumerate(keys):\n",
    "                params += key+\"=\"+comb[i]+\",\"\n",
    "            # Append models \n",
    "            exec(\"self.models.append(\"+estimator+\"(\"+params[:-1]+\"))\")\n",
    "        # Initialize predictions dataframe\n",
    "        self.predictions = None\n",
    "            \n",
    "    def cross_validate(self, X, y, scoring=\"accuracy\", vectorization=None):\n",
    "        \"\"\"\n",
    "        Cross validate data on training data and return dataset with the \n",
    "        largest scoring.\n",
    "        X: A list containing different vectorized training datasets \n",
    "        y: Training labels \n",
    "        scoring: The type of scoring used in cross validation. Valid entries \n",
    "        are 'accuracy','precision','recall','f1' and 'roc_auc'\n",
    "        vectorization: User specified corpus vectorization labels to serve \n",
    "        as indices of report dataframe \n",
    "        \"\"\"\n",
    "        # Set default scoring \n",
    "        self.scoring = scoring\n",
    "        # Weighted boolean\n",
    "        weighted = False\n",
    "        # Cross validation: run custom_cross_validate   \n",
    "        if self.cross_eval=={}:            \n",
    "            for i in range(len(X)):\n",
    "                # Convert to dataframe \n",
    "                X[i] = pd.DataFrame(X[i])\n",
    "                # Run custom cross validate on each vectorizatized data   \n",
    "                train_dict, valid_dict = custom_cross_validate(self.baseline_model, \n",
    "                                                               X[i],\n",
    "                                                               y,\n",
    "                                                               cv=self.cv)\n",
    "                # Append values \n",
    "                self.cross_eval[vectorization[i]] = {'train':train_dict,\n",
    "                                               'cross_validate':valid_dict} \n",
    "        # 'return_report' returns values from 'cross_eval' and 'scoring' \n",
    "        return_report = {}        \n",
    "        for dataset in self.cross_eval.keys():\n",
    "            return_report[dataset] = {}\n",
    "            for report in self.cross_eval[dataset].keys():\n",
    "                return_report[dataset][report] = self.cross_eval[dataset][report][scoring]                \n",
    "        # 'report_dataframe': a dataframe where average values are selected\n",
    "        report_dataframe = pd.DataFrame(return_report).applymap(np.mean) \n",
    "        # Transpose the dataframe so that indices represent 'cross_eval_dataset' \n",
    "        report_dataframe = report_dataframe.transpose()\n",
    "        # Select the dataset with maximum score for training \n",
    "        max_train = report_dataframe.train.max()        \n",
    "        max_train_score_dataset = report_dataframe.train[report_dataframe.train==max_train].index\n",
    "        max_train_score_dataset = max_train_score_dataset[0]\n",
    "        # Select the dataset with maximum score for validation \n",
    "        max_valid = report_dataframe.cross_validate.max()        \n",
    "        max_valid_score_dataset = report_dataframe.cross_validate[report_dataframe.cross_validate==max_valid].index\n",
    "        max_valid_score_dataset = max_valid_score_dataset[0]\n",
    "        # Combine scores\n",
    "        max_score_dataset = {'train':max_train_score_dataset,\n",
    "                            'cross_validate':max_valid_score_dataset}\n",
    "        # Return 'return_report' dictionary, 'report_dataframe' dataframe and \n",
    "        # 'max_score_dataset' dataset string\n",
    "        return return_report, report_dataframe, max_score_dataset  \n",
    "        \n",
    "    def fit(self, X, y):\n",
    "        \"\"\"\n",
    "        Fit training data to a grid of models. \n",
    "        X: Training dataset \n",
    "        y: Training labels \n",
    "        \"\"\"\n",
    "        # Run if models are not fitted\n",
    "        if not self.fitted:\n",
    "            for model in self.models:\n",
    "                # Iterate through each model and fit training data\n",
    "                model.fit(X, y)\n",
    "            # Set 'fitted' to True     \n",
    "            self.fitted = True            \n",
    "            \n",
    "    def predict(self, X, y, train_test='test'):\n",
    "        \"\"\"\n",
    "        Predict values: Unlike predict functions for sklearn estimators, \n",
    "        this function takes y value as well, to report fitting metrics \n",
    "        X: Training/test dataset \n",
    "        y: Training/test labels \n",
    "        train_test: only 'train' and 'test' values need to be specified.\n",
    "        \"\"\"\n",
    "        # Dataframe to store prediction per 'train_test'\n",
    "        tr_ts = None\n",
    "        # Iterate through each model             \n",
    "        for model in self.models:\n",
    "            # Calculate predictions\n",
    "            preds = model.predict(X)\n",
    "            # Calculate the probabilities of predictions \n",
    "            prob_preds = model.predict_proba(X)\n",
    "            # Check if the model has 'decision_function'\n",
    "            if hasattr(model,'decision_function'):\n",
    "                score = model.decision_function(X)\n",
    "            else:\n",
    "                # Select scores for roc_curve calculation\n",
    "                score = prob_preds[:, 1]\n",
    "            # Find fpr and tpr values\n",
    "            fpr, tpr, threshold = roc_curve(y, score)\n",
    "            # Dict to store values \n",
    "            tmp = {}\n",
    "            # Populate 'tmp_df' with values\n",
    "            tmp['train_test'] = train_test\n",
    "            tmp['preds'] = [preds]\n",
    "            tmp['prob_preds'] = [prob_preds]\n",
    "            tmp['log_loss_score'] = log_loss(y, preds)\n",
    "            tmp['accuracy'] = accuracy_score(y, preds)\n",
    "            tmp['precision'] = precision_score(y, preds)\n",
    "            tmp['recall'] = recall_score(y, preds)\n",
    "            tmp['f1'] = f1_score(y, preds)\n",
    "            tmp['fpr'] = [fpr]\n",
    "            tmp['tpr'] = [tpr]\n",
    "            tmp['auc'] = auc(fpr, tpr)\n",
    "            tmp['roc_auc'] = roc_auc_score(y, preds)\n",
    "            # Create a temp dataframe with 'predictions' columns\n",
    "            tmp_df = pd.DataFrame(tmp)                \n",
    "            # Concatenate 'tmp_df' and 'tmp_df'\n",
    "            if not isinstance(tr_ts, pd.DataFrame): \n",
    "                tr_ts = tmp_df.copy()\n",
    "            else:\n",
    "                tr_ts = pd.concat([tr_ts,tmp_df])\n",
    "        # Reset indices \n",
    "        tr_ts.index = np.arange(len(self.models))\n",
    "        # Assign values to 'predictions'\n",
    "        if not isinstance(self.predictions, pd.DataFrame):\n",
    "            self.predictions = tr_ts.copy()\n",
    "        else:\n",
    "            self.predictions = pd.concat([self.predictions,tr_ts])\n",
    "    \n",
    "    def best_model(self, metrics=['accuracy'], valid_test='test'):\n",
    "        \"\"\"\n",
    "        This function returns the best model and model metrics \n",
    "        based on provided metrics from the test dataset.\n",
    "        metrics: A list of metrics\n",
    "        \"\"\"\n",
    "        # Select test cases only \n",
    "        test_metrics = self.predictions.loc[self.predictions.train_test==valid_test]\n",
    "        # Sort test_metrics by metrics in descending order          \n",
    "        test_metrics = test_metrics.sort_values(by=metrics, ascending=False)\n",
    "        # Reset indices  \n",
    "        test_metrics = test_metrics.reset_index()\n",
    "        # Best model index \n",
    "        idx = test_metrics.loc[0,:]['index']\n",
    "        # Return best model and best model metrics\n",
    "        return self.models[idx], test_metrics.loc[0,:]"
   ]
  },
  {
   "cell_type": "code",
   "execution_count": null,
   "metadata": {},
   "outputs": [],
   "source": [
    "def custom_cross_validate(estimator, X, y, cv=5):\n",
    "    \"\"\"\n",
    "    'custom_cross_validate' function that performs oversampling and cross \n",
    "    validate results.\n",
    "    X: Training dataset \n",
    "    y: Training labels\n",
    "    cv: The number of cross-validation folds \n",
    "    \"\"\"\n",
    "    # Create dictionaries to hold the scores from each fold\n",
    "    train_dict = {'log_loss_score':np.ndarray(cv), 'precision':np.ndarray(cv), \n",
    "                 'accuracy':np.ndarray(cv), 'recall':np.ndarray(cv), \n",
    "                  'f1':np.ndarray(cv),'fpr':[],\n",
    "                  'tpr':[], 'auc':np.ndarray(cv), 'roc_auc':np.ndarray(cv)\n",
    "                 }\n",
    "    valid_dict = {'log_loss_score':np.ndarray(cv), 'precision':np.ndarray(cv), \n",
    "                 'accuracy':np.ndarray(cv), 'recall':np.ndarray(cv), \n",
    "                  'f1':np.ndarray(cv),'fpr':[],\n",
    "                  'tpr':[], 'auc':np.ndarray(cv), 'roc_auc':np.ndarray(cv)\n",
    "                 }\n",
    "    \n",
    "    # Instantiate a splitter object and loop over its result\n",
    "    kfold = StratifiedKFold(n_splits=cv, shuffle=True)\n",
    "    for fold, (train_index, val_index) in enumerate(kfold.split(X, y)):\n",
    "        # Extract train and validation subsets using the provided indices\n",
    "        X_t, X_val = X.iloc[train_index], X.iloc[val_index]\n",
    "        y_t, y_val = y.iloc[train_index], y.iloc[val_index]\n",
    "          \n",
    "        # Clone the provided model and fit it on the train subset\n",
    "        temp_model = clone(estimator)\n",
    "\n",
    "        # Fit the model \n",
    "        temp_model.fit(X_t, y_t)\n",
    "        \n",
    "        # Check if the mode has 'decision_function' attribute\n",
    "        if hasattr(temp_model, 'decision_function'):\n",
    "            train_score = temp_model.decision_function(X_t)\n",
    "            val_score = temp_model.decision_function(X_val)\n",
    "        else:        \n",
    "            # Calculate probablities \n",
    "            train_score = temp_model.predict_proba(X_t)[:,1]\n",
    "            val_score = temp_model.predict_proba(X_val)[:,1]\n",
    "                \n",
    "        # Find predictions \n",
    "        train_pred = temp_model.predict(X_t)\n",
    "        val_pred = temp_model.predict(X_val)\n",
    "        \n",
    "        # Evaluate the provided model on the train and validation subsets\n",
    "        # Log loss score \n",
    "        train_dict['log_loss_score'][fold] = log_loss(y_t, train_pred)\n",
    "        valid_dict['log_loss_score'][fold] = log_loss(y_val, val_pred)\n",
    "        # Accuracy score \n",
    "        train_dict['accuracy'][fold] = accuracy_score(y_t, train_pred)\n",
    "        valid_dict['accuracy'][fold] = accuracy_score(y_val, val_pred)\n",
    "        # Precision score \n",
    "        train_dict['precision'][fold] = precision_score(y_t, train_pred)\n",
    "        valid_dict['precision'][fold] = precision_score(y_val, val_pred)\n",
    "        # Recall score\n",
    "        train_dict['recall'][fold] = recall_score(y_t, train_pred)\n",
    "        valid_dict['recall'][fold] = recall_score(y_val, val_pred)\n",
    "        # F1 score \n",
    "        train_dict['f1'][fold] = f1_score(y_t, train_pred)\n",
    "        valid_dict['f1'][fold] = f1_score(y_val, val_pred)\n",
    "        # FPR and TPR \n",
    "        train_fpr, train_tpr, threshold = roc_curve(y_t, train_score)\n",
    "        valid_fpr, valid_tpr, threshold = roc_curve(y_val, val_score)\n",
    "        train_dict['fpr'].append(train_fpr)\n",
    "        train_dict['tpr'].append(train_tpr)\n",
    "        valid_dict['fpr'].append(valid_fpr)\n",
    "        valid_dict['tpr'].append(valid_tpr)\n",
    "        # AUC\n",
    "        train_dict['auc'][fold] = auc(train_fpr, train_tpr)\n",
    "        valid_dict['auc'][fold] = auc(valid_fpr, valid_tpr)\n",
    "        # ROC_AUC \n",
    "        train_dict['roc_auc'][fold] = roc_auc_score(y_t, train_pred)\n",
    "        valid_dict['roc_auc'][fold] = roc_auc_score(y_val, val_pred)\n",
    "        \n",
    "    # Return training and validation results\n",
    "    return train_dict, valid_dict"
   ]
  },
  {
   "cell_type": "markdown",
   "metadata": {},
   "source": [
    "## Model Performance Visualization "
   ]
  },
  {
   "cell_type": "markdown",
   "metadata": {},
   "source": [
    "The following function helps in visualizing the log losses, combined ROC curves of training and validation datasets, and performance metrics of training and validation datasets. "
   ]
  },
  {
   "cell_type": "code",
   "execution_count": null,
   "metadata": {},
   "outputs": [],
   "source": [
    "def prepare_metrics(model_grid, train_val='train'):\n",
    "    \"\"\"\n",
    "    This function plots metrics on different datasets\n",
    "    model_grid: Custom_GridSearchCV object\n",
    "    Run this code after fitting. \n",
    "    \"\"\"    \n",
    "    # Convert cross_eval from Custom_GrisSearchCV into dataframe\n",
    "    # Table is transposed to set dataset as columns\n",
    "    tmp = pd.DataFrame(model_grid.cross_eval).transpose()\n",
    "    tmp = pd.DataFrame(tmp[train_val].to_dict())\n",
    "    # Initialize metrics dataframe \n",
    "    metrics = pd.DataFrame(columns=list(tmp.columns)+['metric'])\n",
    "    # Iterate through each metric in 'tmp' and assign to metrics dataframe\n",
    "    for idx in tmp.index:\n",
    "        # Create an empty dataframe \n",
    "        metric = pd.DataFrame(tmp.loc[idx,:].to_dict())\n",
    "        # Update type of metric \n",
    "        metric['metric'] = idx\n",
    "        # Append results\n",
    "        metrics = pd.concat([metrics, metric])\n",
    "    # Reset metrics\n",
    "    metrics = metrics.reset_index()\n",
    "    # Rename 'index' column to 'fold'\n",
    "    metrics.rename(columns={'index':'fold'}, inplace=True)\n",
    "    # Initialiaze squeezed metrics dataframe\n",
    "    squeezed_metrics = pd.DataFrame(columns=['fold','metric','dataset',\n",
    "                                             'value','train_val'])\n",
    "    # Iterate through each column and populate 'squeezed_metrics'\n",
    "    for col in model_grid.cross_eval.keys():\n",
    "        # Create empty dataframe \n",
    "        sq_met = pd.DataFrame(columns=squeezed_metrics.columns)\n",
    "        # Populate 'sq_met'\n",
    "        sq_met.fold = metrics.fold\n",
    "        sq_met.metric = metrics.metric\n",
    "        sq_met.dataset = col\n",
    "        sq_met.value = metrics[col]\n",
    "        sq_met.train_val = train_val\n",
    "        # Append 'sq_met' to 'squeezed_metrics'\n",
    "        squeezed_metrics = pd.concat([squeezed_metrics, sq_met], \n",
    "                                     ignore_index=True)\n",
    "    # Set log-loss to a variable and remove the column from 'squeezed_metrics'\n",
    "    log_loss_vals =  squeezed_metrics.loc[squeezed_metrics.metric =='log_loss_score']\n",
    "    squeezed_metrics.drop(log_loss_vals.index, inplace=True)\n",
    "    # Get fpr and tpr from 'squeezed_metrics'\n",
    "    fpr = squeezed_metrics.loc[squeezed_metrics.metric=='fpr']\n",
    "    tpr = squeezed_metrics.loc[squeezed_metrics.metric=='tpr']\n",
    "    # Drop 'fpr' and 'tpr' from 'squeezed_metrics'\n",
    "    squeezed_metrics.drop(fpr.index, inplace=True)\n",
    "    squeezed_metrics.drop(tpr.index, inplace=True)\n",
    "    # Find the longest fpr/tpr\n",
    "    roc_max_len = fpr.value.apply(lambda x: len(x)).max()\n",
    "    # Reset indices for 'fpr' and 'tpr'\n",
    "    fpr = fpr.reset_index()\n",
    "    tpr = tpr.reset_index()\n",
    "    # Initialize 'fpr_mat' and 'tpr_mat' \n",
    "    fpr_mat = np.zeros((len(fpr), roc_max_len))\n",
    "    tpr_mat = np.zeros((len(tpr), roc_max_len))\n",
    "    # Iteratre through each fpr and tpr, and interpolate values\n",
    "    for i in range(len(fpr)):\n",
    "        # Create a uniformly spaced 'fpr' values\n",
    "        xvals = np.linspace(0, 1, roc_max_len)\n",
    "        # Interpolate y values \n",
    "        yinterp = np.interp(xvals, fpr.loc[i,'value'], tpr.loc[i,'value'])\n",
    "        # Update fpr and tpr matrix \n",
    "        fpr_mat[i,:] = xvals\n",
    "        tpr_mat[i,:] = yinterp\n",
    "    # Create roc_vals dictionary \n",
    "    roc_vals = {}\n",
    "    # Instead of taking the entire matrices, the mean and std values are \n",
    "    # selected for 'fpr' and 'tpr'\n",
    "    roc_vals['fpr_mean'] = fpr_mat.mean(axis=0)\n",
    "    roc_vals['tpr_mean'] = tpr_mat.mean(axis=0)\n",
    "    roc_vals['fpr_std'] = fpr_mat.std(axis=0)\n",
    "    roc_vals['tpr_std'] = tpr_mat.std(axis=0)\n",
    "    # Return squeezed metrics, log loss and roc \n",
    "    return squeezed_metrics, log_loss_vals, roc_vals\n",
    "\n",
    "\n",
    "def plot_metrics(model_grid):\n",
    "    \"\"\"\n",
    "    This function plots metrics on different datasets\n",
    "    model_grid: Custom_GridSearchCV object\n",
    "    Run this code after fitting. \n",
    "    \"\"\"    \n",
    "    # Get parameters for training \n",
    "    tr_metrics, tr_log_loss, tr_roc_vals = prepare_metrics(model_grid, \n",
    "                                                           'train')\n",
    "    # Get parameters for validation\n",
    "    vl_metrics, vl_log_loss, vl_roc_vals = prepare_metrics(model_grid, \n",
    "                                                           'cross_validate')\n",
    "    # Combine log losses for training and validation \n",
    "    log_loss_combined = pd.concat([tr_log_loss,vl_log_loss])\n",
    "    # Create figure to plot log loss and ROC curve \n",
    "    fig, axes = plt.subplots(1 , 2, figsize=(15,6))\n",
    "    # Log loss for training and validation \n",
    "    g1 = sns.boxplot(x=\"dataset\", y=\"value\", hue=\"train_val\",\n",
    "                     data=log_loss_combined, ax=axes[0])\n",
    "    # Format labels and title \n",
    "    g1.set_xlabel('')\n",
    "    g1.set_ylabel('Log Loss',fontsize=13)\n",
    "    g1.set_title('Log Loss vs Dataset',fontsize=15)\n",
    "    g1.legend(title='Fold')\n",
    "    \n",
    "    # Plot mean ROC curve for training fold\n",
    "    g2 = sns.lineplot(x=tr_roc_vals['fpr_mean'], y=tr_roc_vals['tpr_mean'], \n",
    "                  label='train', ax=axes[1], color='tab:blue')\n",
    "    # Plot the standard deviation for training ROC \n",
    "    plt.fill_between(tr_roc_vals['fpr_mean'], \n",
    "                     tr_roc_vals['tpr_mean'] - tr_roc_vals['tpr_std'],\n",
    "                     tr_roc_vals['tpr_mean'] + tr_roc_vals['tpr_std'],\n",
    "                     color='tab:blue', alpha=0.2)\n",
    "    # Plot mean ROC curve for validation fold\n",
    "    sns.lineplot(x=vl_roc_vals['fpr_mean'], y=vl_roc_vals['tpr_mean'], \n",
    "                  label='cross_validate', ax=axes[1], color='tab:orange')\n",
    "    # Plot the standard deviation for validation ROC\n",
    "    plt.fill_between(vl_roc_vals['fpr_mean'], \n",
    "                     vl_roc_vals['tpr_mean'] - vl_roc_vals['tpr_std'],\n",
    "                     vl_roc_vals['tpr_mean'] + vl_roc_vals['tpr_std'],\n",
    "                     color='tab:orange', alpha=0.2)\n",
    "    \n",
    "    # Format labels and title \n",
    "    plt.plot([0, 1], [0, 1], color='gray', linestyle='--')\n",
    "    g2.set_xlabel('False Positve Rate', fontsize=13)\n",
    "    g2.legend(title='Fold')\n",
    "    g2.set_ylabel('True Positve Rate', fontsize=13)\n",
    "    g2.set_title('ROC Curve',fontsize=15)\n",
    "    \n",
    "    # Plot metrics for training fold\n",
    "    fig, axes = plt.subplots(2 , 1, figsize=(15,12))\n",
    "    g3 = sns.boxplot(x=\"dataset\", y=\"value\", hue=\"metric\",\n",
    "                     data=tr_metrics, ax=axes[0])\n",
    "    # Format labels and title\n",
    "    g3.set_xlabel('')\n",
    "    g3.set_ylabel('Score', fontsize=13)\n",
    "    g3.set_title('Training Scores vs Dataset',fontsize=15)\n",
    "    g3.legend(title='Metric')\n",
    "    \n",
    "    # Plot metrics for validation fold\n",
    "    g4 = sns.boxplot(x=\"dataset\", y=\"value\", hue=\"metric\",\n",
    "                     data=vl_metrics, ax=axes[1])\n",
    "    # Format labels and title\n",
    "    g4.set_xlabel('')\n",
    "    g4.set_ylabel('Score',fontsize=13)\n",
    "    g4.set_title('Cross Validation Scores vs Dataset',fontsize=15)\n",
    "    g4.legend(title='Metric')"
   ]
  },
  {
   "cell_type": "markdown",
   "metadata": {},
   "source": [
    "The following function also does similar operations for training and test datasets. "
   ]
  },
  {
   "cell_type": "code",
   "execution_count": null,
   "metadata": {},
   "outputs": [],
   "source": [
    "def prepare_predictions(model_grid, train_test='test'):\n",
    "    \"\"\"\n",
    "    This function plots metrics on train/test predictions \n",
    "    model_grid: Custom_GridSearchCV object\n",
    "    Run this code after fitting. \n",
    "    \"\"\"    \n",
    "    # Convert prediction from Custom_GrisSearchCV into dataframe    \n",
    "    # Select train or test\n",
    "    tmp = model_grid.predictions.loc[model_grid.predictions.train_test==train_test]\n",
    "    # Initialize squeezed predictions     \n",
    "    squeezed_preds = pd.DataFrame(columns=['metric','value','train_test'])\n",
    "    # Find metrics from 'cross_eval' \n",
    "    columns = model_grid.cross_eval['TfIdf']['train'].keys()\n",
    "    # Iterate through 'predictions' columns \n",
    "    for col in columns:\n",
    "        # Initialize a dummy dataframe for each column\n",
    "        sq_preds = pd.DataFrame(columns=squeezed_preds.columns)\n",
    "        # Assign values \n",
    "        sq_preds.value = tmp[col]\n",
    "        sq_preds.train_test = tmp['train_test']\n",
    "        sq_preds.metric = col\n",
    "        # Append values to 'squeezed_preds'\n",
    "        squeezed_preds = pd.concat([squeezed_preds,sq_preds])\n",
    "    # Reset index\n",
    "    squeezed_preds = squeezed_preds.reset_index()\n",
    "    # Get log loss from 'squeezed_preds'    \n",
    "    log_loss_vals = squeezed_preds.loc[squeezed_preds.metric=='log_loss_score']\n",
    "    squeezed_preds.drop(log_loss_vals.index, inplace=True)\n",
    "    # Get fpr and tpr from 'squeezed_preds'\n",
    "    fpr = squeezed_preds.loc[squeezed_preds.metric=='fpr']\n",
    "    tpr = squeezed_preds.loc[squeezed_preds.metric=='tpr']\n",
    "    # Drop 'fpr' and 'tpr' from 'squeezed_preds'\n",
    "    squeezed_preds.drop(fpr.index, inplace=True)\n",
    "    squeezed_preds.drop(tpr.index, inplace=True)\n",
    "    # Find the longest fpr/tpr\n",
    "    roc_max_len = fpr.value.apply(lambda x: len(x)).max()\n",
    "    # Reset indices for 'fpr' and 'tpr'\n",
    "    fpr = fpr.reset_index()\n",
    "    tpr = tpr.reset_index()\n",
    "    # Initialize 'fpr_mat' and 'tpr_mat' \n",
    "    fpr_mat = np.zeros((len(fpr), roc_max_len))\n",
    "    tpr_mat = np.zeros((len(tpr), roc_max_len))\n",
    "    # Iteratre through each fpr and tpr, and interpolate values\n",
    "    for i in range(len(fpr)):\n",
    "        # Create a uniformly spaced 'fpr' values\n",
    "        xvals = np.linspace(0, 1, roc_max_len)\n",
    "        # Interpolate y values \n",
    "        yinterp = np.interp(xvals, fpr.loc[i,'value'], tpr.loc[i,'value'])\n",
    "        # Update fpr and tpr matrix \n",
    "        fpr_mat[i,:] = xvals\n",
    "        tpr_mat[i,:] = yinterp\n",
    "    # Create roc_vals dictionary \n",
    "    roc_vals = {}\n",
    "    # Instead of taking the entire matrices, the mean and std values are \n",
    "    # selected for 'fpr' and 'tpr'\n",
    "    roc_vals['fpr_mean'] = fpr_mat.mean(axis=0)\n",
    "    roc_vals['tpr_mean'] = tpr_mat.mean(axis=0)\n",
    "    roc_vals['fpr_std'] = fpr_mat.std(axis=0)\n",
    "    roc_vals['tpr_std'] = tpr_mat.std(axis=0)\n",
    "    # Return squeezed metrics, log loss and roc \n",
    "    return squeezed_preds, log_loss_vals, roc_vals\n",
    "\n",
    "def plot_predictions(model_grid, valid_test='test'):\n",
    "    \"\"\"\n",
    "    This function plots predictions on different datasets\n",
    "    model_grid: Custom_GridSearchCV object\n",
    "    Run this code after fitting. \n",
    "    \"\"\"    \n",
    "    # Get parameters for training \n",
    "    tr_preds, tr_log_loss, tr_roc_vals = prepare_predictions(model_grid, \n",
    "                                                           'train')\n",
    "    # Get parameters for validation\n",
    "    ts_preds, ts_log_loss, ts_roc_vals = prepare_predictions(model_grid, \n",
    "                                                           valid_test)\n",
    "    # Combine log losses for training and validation \n",
    "    log_loss_combined = pd.concat([tr_log_loss,ts_log_loss])\n",
    "    # Create figure to plot log loss and ROC curve \n",
    "    fig, axes = plt.subplots(1 , 2, figsize=(15,6))\n",
    "    # Log loss for training and validation \n",
    "    g1 = sns.boxplot(x=\"metric\", y=\"value\", hue=\"train_test\",\n",
    "                     data=log_loss_combined, ax=axes[0])\n",
    "    # Format labels and title \n",
    "    g1.set_xlabel('')\n",
    "    g1.set_ylabel('Log Loss',fontsize=13)\n",
    "    g1.set_title('Log Loss vs Dataset',fontsize=15)\n",
    "    g1.legend(title='Dataset')\n",
    "    \n",
    "    # Plot mean ROC curve for training fold\n",
    "    g2 = sns.lineplot(x=tr_roc_vals['fpr_mean'], y=tr_roc_vals['tpr_mean'], \n",
    "                  label='train', ax=axes[1], color='tab:blue')\n",
    "    # Plot the standard deviation for training ROC \n",
    "    plt.fill_between(tr_roc_vals['fpr_mean'], \n",
    "                     tr_roc_vals['tpr_mean'] - tr_roc_vals['tpr_std'],\n",
    "                     tr_roc_vals['tpr_mean'] + tr_roc_vals['tpr_std'],\n",
    "                     color='tab:blue', alpha=0.2)\n",
    "    # Plot mean ROC curve for validation fold\n",
    "    sns.lineplot(x=ts_roc_vals['fpr_mean'], y=ts_roc_vals['tpr_mean'], \n",
    "                  label=valid_test, ax=axes[1], color='tab:orange')\n",
    "    # Plot the standard deviation for validation ROC\n",
    "    plt.fill_between(ts_roc_vals['fpr_mean'], \n",
    "                     ts_roc_vals['tpr_mean'] - ts_roc_vals['tpr_std'],\n",
    "                     ts_roc_vals['tpr_mean'] + ts_roc_vals['tpr_std'],\n",
    "                     color='tab:orange', alpha=0.2)\n",
    "    \n",
    "    # Format labels and title \n",
    "    plt.plot([0, 1], [0, 1], color='gray', linestyle='--')\n",
    "    g2.set_xlabel('False Positve Rate', fontsize=13)\n",
    "    g2.legend(title='Dataset')\n",
    "    g2.set_ylabel('True Positve Rate', fontsize=13)\n",
    "    g2.set_title('ROC Curve',fontsize=15)\n",
    "\n",
    "    # Plot metrics for training data\n",
    "    preds = pd.concat([tr_preds,ts_preds])\n",
    "    fig, ax = plt.subplots(figsize=(15,6))\n",
    "    g3 = sns.boxplot(x=\"train_test\", y=\"value\", hue=\"metric\",\n",
    "                     data=preds, ax=ax)\n",
    "    # Format labels and title\n",
    "    g3.set_xlabel('')\n",
    "    g3.set_ylabel('Score', fontsize=13)\n",
    "    g3.set_title('Scores vs Training and '+valid_test.title()+' Datasets',fontsize=15)\n",
    "    g3.legend(title='Metric')"
   ]
  },
  {
   "cell_type": "markdown",
   "metadata": {},
   "source": [
    "Training the models take a long time. So, the models are saved as `dill` files that can be read from file.  "
   ]
  },
  {
   "cell_type": "markdown",
   "metadata": {},
   "source": [
    "Best performing models and their predictions will be stored in these variables.\n",
    "\n",
    "<b><font color='red'>CAUTION: running the entire notebook takes at least 8 hours.</font></b> \n",
    "\n",
    "The pretrained model can be found in [this link](https://drive.google.com/file/d/1-35hJfJi4Z8ahXzGrHPJfPpMSibErAHx/view?usp=drivesdk). "
   ]
  },
  {
   "cell_type": "code",
   "execution_count": null,
   "metadata": {},
   "outputs": [],
   "source": [
    "# Best models list \n",
    "best_models = []\n",
    "\n",
    "# Metrics for best models \n",
    "best_models_metrics = None \n",
    "\n",
    "# Define metrics by importance\n",
    "metrics = ['accuracy','auc','recall']"
   ]
  },
  {
   "cell_type": "markdown",
   "metadata": {},
   "source": [
    "## Shallow Learning "
   ]
  },
  {
   "cell_type": "markdown",
   "metadata": {},
   "source": [
    "### Naive Bayes"
   ]
  },
  {
   "cell_type": "markdown",
   "metadata": {},
   "source": [
    "### Logistic Regression"
   ]
  },
  {
   "cell_type": "markdown",
   "metadata": {},
   "source": [
    "The first model used is logistic regression. Regularization factor, fit intercept, and L1 or L2 penalty were considered for grid search. `lbfgs` solver does not allow for L1 penalty. So, `liblinear` solver used instead. The downside is that ` liblinear` does not allow for parallelized jobs, which is why ‘n_jobs’ is missing as an input parameter.  "
   ]
  },
  {
   "cell_type": "code",
   "execution_count": 29,
   "metadata": {},
   "outputs": [],
   "source": [
    "# Check if the variable exists\n",
    "if not exists('logreg_gs.pickle'):    \n",
    "    # Define regularization range \n",
    "    C = np.linspace(0.1, 1, 2)\n",
    "\n",
    "    # Define parameters ranges \n",
    "    params = {'C':[str(s) for s in C],\n",
    "              'fit_intercept':['False','True'],\n",
    "              'max_iter':['1e3'],\n",
    "              'penalty':[\"'l1'\",\"'l2'\"],\n",
    "              'solver':[\"'liblinear'\"]}\n",
    "\n",
    "    # Create a Custom_GridSearchCV instance\n",
    "    logreg_gs = Custom_GridSearchCV('LogisticRegression', param_grid=params)\n",
    "else:\n",
    "    with open('logreg_gs.pickle', 'rb') as f:\n",
    "        logreg_gs = pickle.load(f)    "
   ]
  },
  {
   "cell_type": "code",
   "execution_count": 30,
   "metadata": {},
   "outputs": [],
   "source": [
    "# Run cross-validation with accuracy as the primary scoring\n",
    "rprt, rp_df, _ = logreg_gs.cross_validate(X_train_vec, y_train, \n",
    "                                          vectorization=vec_labels)"
   ]
  },
  {
   "cell_type": "markdown",
   "metadata": {},
   "source": [
    "In orders to choose the best dataset to fit with the model, let's aggregate the metrics. Sorting the average accuracy, recall and AUC metrics yields: "
   ]
  },
  {
   "cell_type": "code",
   "execution_count": 31,
   "metadata": {},
   "outputs": [
    {
     "data": {
      "text/html": [
       "<div>\n",
       "<style scoped>\n",
       "    .dataframe tbody tr th:only-of-type {\n",
       "        vertical-align: middle;\n",
       "    }\n",
       "\n",
       "    .dataframe tbody tr th {\n",
       "        vertical-align: top;\n",
       "    }\n",
       "\n",
       "    .dataframe thead th {\n",
       "        text-align: right;\n",
       "    }\n",
       "</style>\n",
       "<table border=\"1\" class=\"dataframe\">\n",
       "  <thead>\n",
       "    <tr style=\"text-align: right;\">\n",
       "      <th></th>\n",
       "      <th>precision</th>\n",
       "      <th>accuracy</th>\n",
       "      <th>recall</th>\n",
       "      <th>f1</th>\n",
       "      <th>auc</th>\n",
       "      <th>roc_auc</th>\n",
       "    </tr>\n",
       "  </thead>\n",
       "  <tbody>\n",
       "    <tr>\n",
       "      <th>Embedding_train</th>\n",
       "      <td>0.820747</td>\n",
       "      <td>0.818354</td>\n",
       "      <td>0.814623</td>\n",
       "      <td>0.817673</td>\n",
       "      <td>0.898025</td>\n",
       "      <td>0.818354</td>\n",
       "    </tr>\n",
       "    <tr>\n",
       "      <th>Embedding_cross_validate</th>\n",
       "      <td>0.820664</td>\n",
       "      <td>0.81828</td>\n",
       "      <td>0.814564</td>\n",
       "      <td>0.817602</td>\n",
       "      <td>0.897943</td>\n",
       "      <td>0.81828</td>\n",
       "    </tr>\n",
       "    <tr>\n",
       "      <th>TfIdf_train</th>\n",
       "      <td>0.817185</td>\n",
       "      <td>0.815278</td>\n",
       "      <td>0.812272</td>\n",
       "      <td>0.814721</td>\n",
       "      <td>0.898081</td>\n",
       "      <td>0.815278</td>\n",
       "    </tr>\n",
       "    <tr>\n",
       "      <th>TfIdf_cross_validate</th>\n",
       "      <td>0.817037</td>\n",
       "      <td>0.815151</td>\n",
       "      <td>0.812178</td>\n",
       "      <td>0.8146</td>\n",
       "      <td>0.897996</td>\n",
       "      <td>0.815151</td>\n",
       "    </tr>\n",
       "    <tr>\n",
       "      <th>Count_train</th>\n",
       "      <td>0.81447</td>\n",
       "      <td>0.814901</td>\n",
       "      <td>0.815586</td>\n",
       "      <td>0.815028</td>\n",
       "      <td>0.894937</td>\n",
       "      <td>0.814901</td>\n",
       "    </tr>\n",
       "    <tr>\n",
       "      <th>Count_cross_validate</th>\n",
       "      <td>0.814388</td>\n",
       "      <td>0.814796</td>\n",
       "      <td>0.815444</td>\n",
       "      <td>0.814916</td>\n",
       "      <td>0.894852</td>\n",
       "      <td>0.814796</td>\n",
       "    </tr>\n",
       "  </tbody>\n",
       "</table>\n",
       "</div>"
      ],
      "text/plain": [
       "                         precision  accuracy    recall        f1       auc  \\\n",
       "Embedding_train           0.820747  0.818354  0.814623  0.817673  0.898025   \n",
       "Embedding_cross_validate  0.820664   0.81828  0.814564  0.817602  0.897943   \n",
       "TfIdf_train               0.817185  0.815278  0.812272  0.814721  0.898081   \n",
       "TfIdf_cross_validate      0.817037  0.815151  0.812178    0.8146  0.897996   \n",
       "Count_train                0.81447  0.814901  0.815586  0.815028  0.894937   \n",
       "Count_cross_validate      0.814388  0.814796  0.815444  0.814916  0.894852   \n",
       "\n",
       "                           roc_auc  \n",
       "Embedding_train           0.818354  \n",
       "Embedding_cross_validate   0.81828  \n",
       "TfIdf_train               0.815278  \n",
       "TfIdf_cross_validate      0.815151  \n",
       "Count_train               0.814901  \n",
       "Count_cross_validate      0.814796  "
      ]
     },
     "execution_count": 31,
     "metadata": {},
     "output_type": "execute_result"
    }
   ],
   "source": [
    "# Find training and validation metrics\n",
    "logreg_gs_metrics_train,_,_ = prepare_metrics(logreg_gs, train_val='train')\n",
    "logreg_gs_metrics_valid,_,_ = prepare_metrics(logreg_gs, train_val='cross_validate')\n",
    "\n",
    "# Combine metrics \n",
    "logreg_gs_metrics = pd.concat([logreg_gs_metrics_train,logreg_gs_metrics_valid])\n",
    "\n",
    "# Rename dataset as 'dataset_train/validate'\n",
    "logreg_gs_metrics.dataset = logreg_gs_metrics.dataset+'_'+logreg_gs_metrics.train_val\n",
    "\n",
    "# Create a placeholder dataframe to store the average values\n",
    "logreg_gs_metrics_mean = pd.DataFrame(columns=logreg_gs_metrics.metric.unique(),\n",
    "                                  index=logreg_gs_metrics.dataset.unique())\n",
    "\n",
    "# Iterate through each row and column, aggregate values and take the mean\n",
    "for col in logreg_gs_metrics_mean.columns:\n",
    "    for idx in logreg_gs_metrics_mean.index:\n",
    "        avg = logreg_gs_metrics.loc[(logreg_gs_metrics.metric==col) & (logreg_gs_metrics.dataset==idx),'value']\n",
    "        logreg_gs_metrics_mean.loc[idx,col] = avg.mean()\n",
    "\n",
    "# Sort average metrics by recall, AUC and accuracy        \n",
    "logreg_gs_metrics_mean.sort_values(by=metrics,ascending=False)"
   ]
  },
  {
   "cell_type": "markdown",
   "metadata": {},
   "source": [
    "The performance metrics of the model are shown below. "
   ]
  },
  {
   "cell_type": "code",
   "execution_count": 32,
   "metadata": {},
   "outputs": [
    {
     "data": {
      "image/png": "[encoded data removed]",
      "text/plain": [
       "<Figure size 1080x432 with 2 Axes>"
      ]
     },
     "metadata": {
      "needs_background": "light"
     },
     "output_type": "display_data"
    },
    {
     "data": {
      "image/png": "[encoded data removed]",
      "text/plain": [
       "<Figure size 1080x864 with 2 Axes>"
      ]
     },
     "metadata": {
      "needs_background": "light"
     },
     "output_type": "display_data"
    }
   ],
   "source": [
    "# Plot the metrics for training and validation datasets\n",
    "plot_metrics(logreg_gs)"
   ]
  },
  {
   "cell_type": "markdown",
   "metadata": {},
   "source": [
    "Although `rand` did have the highest accuracy, `class_weight` had consistent performance with the training and validation dataset. "
   ]
  },
  {
   "cell_type": "code",
   "execution_count": 33,
   "metadata": {
    "scrolled": true
   },
   "outputs": [],
   "source": [
    "# Fit grid search models with the best training dataset\n",
    "# Specifying embedding to have better accuracy values\n",
    "logreg_gs.fit(X_train_vec[-1], y_train)"
   ]
  },
  {
   "cell_type": "markdown",
   "metadata": {},
   "source": [
    "Now, let's produce predictions based on the model grid. "
   ]
  },
  {
   "cell_type": "code",
   "execution_count": 65,
   "metadata": {},
   "outputs": [
    {
     "data": {
      "text/html": [
       "<div>\n",
       "<style scoped>\n",
       "    .dataframe tbody tr th:only-of-type {\n",
       "        vertical-align: middle;\n",
       "    }\n",
       "\n",
       "    .dataframe tbody tr th {\n",
       "        vertical-align: top;\n",
       "    }\n",
       "\n",
       "    .dataframe thead th {\n",
       "        text-align: right;\n",
       "    }\n",
       "</style>\n",
       "<table border=\"1\" class=\"dataframe\">\n",
       "  <thead>\n",
       "    <tr style=\"text-align: right;\">\n",
       "      <th></th>\n",
       "      <th>train_test</th>\n",
       "      <th>preds</th>\n",
       "      <th>prob_preds</th>\n",
       "      <th>log_loss_score</th>\n",
       "      <th>accuracy</th>\n",
       "      <th>precision</th>\n",
       "      <th>recall</th>\n",
       "      <th>f1</th>\n",
       "      <th>fpr</th>\n",
       "      <th>tpr</th>\n",
       "      <th>auc</th>\n",
       "      <th>roc_auc</th>\n",
       "    </tr>\n",
       "  </thead>\n",
       "  <tbody>\n",
       "    <tr>\n",
       "      <th>0</th>\n",
       "      <td>validate</td>\n",
       "      <td>[1, 0, 0, 1, 0, 0, 0, 1, 1, 0, 1, 1, 0, 0, 0, ...</td>\n",
       "      <td>[[0.10269263594560363, 0.8973073640543964], [0...</td>\n",
       "      <td>6.279093</td>\n",
       "      <td>0.818204</td>\n",
       "      <td>0.820577</td>\n",
       "      <td>0.814502</td>\n",
       "      <td>0.817528</td>\n",
       "      <td>[0.0, 0.0, 0.0, 1.8518518518518519e-06, 1.8518...</td>\n",
       "      <td>[0.0, 1.8518518518518519e-06, 2.96296296296296...</td>\n",
       "      <td>0.897989</td>\n",
       "      <td>0.818204</td>\n",
       "    </tr>\n",
       "    <tr>\n",
       "      <th>1</th>\n",
       "      <td>validate</td>\n",
       "      <td>[1, 0, 0, 1, 0, 0, 0, 1, 1, 0, 1, 1, 0, 0, 0, ...</td>\n",
       "      <td>[[0.11333726717753934, 0.8866627328224607], [0...</td>\n",
       "      <td>6.341967</td>\n",
       "      <td>0.816383</td>\n",
       "      <td>0.819056</td>\n",
       "      <td>0.812194</td>\n",
       "      <td>0.815611</td>\n",
       "      <td>[0.0, 0.0, 0.0, 1.8518518518518519e-06, 1.8518...</td>\n",
       "      <td>[0.0, 1.8518518518518519e-06, 3.14814814814814...</td>\n",
       "      <td>0.896314</td>\n",
       "      <td>0.816383</td>\n",
       "    </tr>\n",
       "    <tr>\n",
       "      <th>2</th>\n",
       "      <td>validate</td>\n",
       "      <td>[1, 0, 0, 1, 0, 0, 0, 1, 1, 0, 1, 1, 0, 0, 0, ...</td>\n",
       "      <td>[[0.09999002092036968, 0.9000099790796303], [0...</td>\n",
       "      <td>6.276790</td>\n",
       "      <td>0.818270</td>\n",
       "      <td>0.820637</td>\n",
       "      <td>0.814580</td>\n",
       "      <td>0.817597</td>\n",
       "      <td>[0.0, 0.0, 0.0, 1.8518518518518519e-06, 1.8518...</td>\n",
       "      <td>[0.0, 1.8518518518518519e-06, 2.77777777777777...</td>\n",
       "      <td>0.898036</td>\n",
       "      <td>0.818270</td>\n",
       "    </tr>\n",
       "    <tr>\n",
       "      <th>3</th>\n",
       "      <td>validate</td>\n",
       "      <td>[1, 0, 0, 1, 0, 0, 0, 1, 1, 0, 1, 1, 0, 0, 0, ...</td>\n",
       "      <td>[[0.11008529675875522, 0.8899147032412448], [0...</td>\n",
       "      <td>6.338897</td>\n",
       "      <td>0.816472</td>\n",
       "      <td>0.819134</td>\n",
       "      <td>0.812302</td>\n",
       "      <td>0.815704</td>\n",
       "      <td>[0.0, 0.0, 0.0, 1.8518518518518519e-06, 1.8518...</td>\n",
       "      <td>[0.0, 1.8518518518518519e-06, 3.14814814814814...</td>\n",
       "      <td>0.896358</td>\n",
       "      <td>0.816472</td>\n",
       "    </tr>\n",
       "    <tr>\n",
       "      <th>4</th>\n",
       "      <td>validate</td>\n",
       "      <td>[1, 0, 0, 1, 0, 0, 0, 1, 1, 0, 1, 1, 0, 0, 0, ...</td>\n",
       "      <td>[[0.09411404120268296, 0.905885958797317], [0....</td>\n",
       "      <td>6.251685</td>\n",
       "      <td>0.818997</td>\n",
       "      <td>0.821230</td>\n",
       "      <td>0.815522</td>\n",
       "      <td>0.818366</td>\n",
       "      <td>[0.0, 0.0, 0.0, 1.8518518518518519e-06, 1.8518...</td>\n",
       "      <td>[0.0, 1.8518518518518519e-06, 2.03703703703703...</td>\n",
       "      <td>0.898650</td>\n",
       "      <td>0.818997</td>\n",
       "    </tr>\n",
       "  </tbody>\n",
       "</table>\n",
       "</div>"
      ],
      "text/plain": [
       "  train_test                                              preds  \\\n",
       "0   validate  [1, 0, 0, 1, 0, 0, 0, 1, 1, 0, 1, 1, 0, 0, 0, ...   \n",
       "1   validate  [1, 0, 0, 1, 0, 0, 0, 1, 1, 0, 1, 1, 0, 0, 0, ...   \n",
       "2   validate  [1, 0, 0, 1, 0, 0, 0, 1, 1, 0, 1, 1, 0, 0, 0, ...   \n",
       "3   validate  [1, 0, 0, 1, 0, 0, 0, 1, 1, 0, 1, 1, 0, 0, 0, ...   \n",
       "4   validate  [1, 0, 0, 1, 0, 0, 0, 1, 1, 0, 1, 1, 0, 0, 0, ...   \n",
       "\n",
       "                                          prob_preds  log_loss_score  \\\n",
       "0  [[0.10269263594560363, 0.8973073640543964], [0...        6.279093   \n",
       "1  [[0.11333726717753934, 0.8866627328224607], [0...        6.341967   \n",
       "2  [[0.09999002092036968, 0.9000099790796303], [0...        6.276790   \n",
       "3  [[0.11008529675875522, 0.8899147032412448], [0...        6.338897   \n",
       "4  [[0.09411404120268296, 0.905885958797317], [0....        6.251685   \n",
       "\n",
       "   accuracy  precision    recall        f1  \\\n",
       "0  0.818204   0.820577  0.814502  0.817528   \n",
       "1  0.816383   0.819056  0.812194  0.815611   \n",
       "2  0.818270   0.820637  0.814580  0.817597   \n",
       "3  0.816472   0.819134  0.812302  0.815704   \n",
       "4  0.818997   0.821230  0.815522  0.818366   \n",
       "\n",
       "                                                 fpr  \\\n",
       "0  [0.0, 0.0, 0.0, 1.8518518518518519e-06, 1.8518...   \n",
       "1  [0.0, 0.0, 0.0, 1.8518518518518519e-06, 1.8518...   \n",
       "2  [0.0, 0.0, 0.0, 1.8518518518518519e-06, 1.8518...   \n",
       "3  [0.0, 0.0, 0.0, 1.8518518518518519e-06, 1.8518...   \n",
       "4  [0.0, 0.0, 0.0, 1.8518518518518519e-06, 1.8518...   \n",
       "\n",
       "                                                 tpr       auc   roc_auc  \n",
       "0  [0.0, 1.8518518518518519e-06, 2.96296296296296...  0.897989  0.818204  \n",
       "1  [0.0, 1.8518518518518519e-06, 3.14814814814814...  0.896314  0.816383  \n",
       "2  [0.0, 1.8518518518518519e-06, 2.77777777777777...  0.898036  0.818270  \n",
       "3  [0.0, 1.8518518518518519e-06, 3.14814814814814...  0.896358  0.816472  \n",
       "4  [0.0, 1.8518518518518519e-06, 2.03703703703703...  0.898650  0.818997  "
      ]
     },
     "execution_count": 65,
     "metadata": {},
     "output_type": "execute_result"
    }
   ],
   "source": [
    "# Predict test and training datasets \n",
    "# Also get the metrics of fit\n",
    "# Check if the models have not been predicted yet \n",
    "if not isinstance(logreg_gs.predictions, pd.DataFrame):\n",
    "    prep = Preprocess(transformer='embed')\n",
    "    logreg_gs.predict(prep.transform(X_valid), y_valid, train_test='validate')\n",
    "    logreg_gs.predict(X_train_vec[-1], y_train, train_test='train')\n",
    "logreg_gs.predictions.head()"
   ]
  },
  {
   "cell_type": "markdown",
   "metadata": {},
   "source": [
    "Plotting metrics over the test dataset. "
   ]
  },
  {
   "cell_type": "code",
   "execution_count": 45,
   "metadata": {},
   "outputs": [
    {
     "data": {
      "image/png": "[encoded data removed]",
      "text/plain": [
       "<Figure size 1080x432 with 2 Axes>"
      ]
     },
     "metadata": {
      "needs_background": "light"
     },
     "output_type": "display_data"
    },
    {
     "data": {
      "image/png": "[encoded data removed]",
      "text/plain": [
       "<Figure size 1080x432 with 1 Axes>"
      ]
     },
     "metadata": {
      "needs_background": "light"
     },
     "output_type": "display_data"
    }
   ],
   "source": [
    "# Plot metrics for predicted values\n",
    "plot_predictions(logreg_gs, valid_test='validate')"
   ]
  },
  {
   "cell_type": "markdown",
   "metadata": {},
   "source": [
    "Accuracy, recall and AUC are used to determine the best model.  "
   ]
  },
  {
   "cell_type": "code",
   "execution_count": 67,
   "metadata": {},
   "outputs": [
    {
     "data": {
      "text/plain": [
       "<bound method BaseEstimator.get_params of LogisticRegression(max_iter=1000.0, penalty='l1', solver='liblinear')>"
      ]
     },
     "execution_count": 67,
     "metadata": {},
     "output_type": "execute_result"
    }
   ],
   "source": [
    "# Find the best model and model metrics based on given metrics \n",
    "best_logreg_model, best_logreg_model_metrics = logreg_gs.best_model(metrics=metrics, \n",
    "                                                                    valid_test='validate')\n",
    "\n",
    "# Store best model \n",
    "# best_models.append(best_logreg_model)\n",
    "\n",
    "# Store best model metrics \n",
    "# best_models_metrics = pd.DataFrame(best_logreg_model_metrics).transpose()\n",
    "\n",
    "# Display best model parameters \n",
    "best_logreg_model.get_params"
   ]
  },
  {
   "cell_type": "markdown",
   "metadata": {},
   "source": [
    "Displaying the metrics for the best performing model and plotting the confusion matrix. "
   ]
  },
  {
   "cell_type": "code",
   "execution_count": 54,
   "metadata": {},
   "outputs": [
    {
     "data": {
      "text/plain": [
       "index                                                             6\n",
       "train_test                                                 validate\n",
       "preds             [1, 0, 0, 1, 0, 0, 0, 1, 1, 0, 1, 1, 0, 0, 0, ...\n",
       "prob_preds        [[0.09158854373804315, 0.9084114562619569], [0...\n",
       "log_loss_score                                              6.24957\n",
       "accuracy                                                   0.819058\n",
       "precision                                                  0.821295\n",
       "recall                                                     0.815578\n",
       "f1                                                         0.818426\n",
       "fpr               [0.0, 0.0, 0.0, 1.8518518518518519e-06, 1.8518...\n",
       "tpr               [0.0, 1.8518518518518519e-06, 2.22222222222222...\n",
       "auc                                                          0.8987\n",
       "roc_auc                                                    0.819058\n",
       "Name: 0, dtype: object"
      ]
     },
     "execution_count": 54,
     "metadata": {},
     "output_type": "execute_result"
    }
   ],
   "source": [
    "# Best logreg model metrics\n",
    "best_logreg_model_metrics"
   ]
  },
  {
   "cell_type": "code",
   "execution_count": 64,
   "metadata": {},
   "outputs": [
    {
     "data": {
      "image/png": "[encoded data removed]",
      "text/plain": [
       "<Figure size 432x288 with 2 Axes>"
      ]
     },
     "metadata": {
      "needs_background": "light"
     },
     "output_type": "display_data"
    }
   ],
   "source": [
    "# Confusion matrix \n",
    "prep = Preprocess(transformer='embed')\n",
    "plot_confusion_matrix(best_logreg_model, prep.transform(X_valid), y_valid, \n",
    "                      normalize='true');"
   ]
  },
  {
   "cell_type": "code",
   "execution_count": 68,
   "metadata": {},
   "outputs": [],
   "source": [
    "if not exists('logreg_gs.pickle'):\n",
    "    with open('logreg_gs.pickle', 'wb') as f:    \n",
    "        pickle.dump(logreg_gs, f)"
   ]
  },
  {
   "cell_type": "markdown",
   "metadata": {},
   "source": [
    "Surprisingly, the model did well for the true positive prediction at the cost of lower accuracy. This is acceptable given the class imbalance. "
   ]
  },
  {
   "cell_type": "markdown",
   "metadata": {},
   "source": [
    "### Random Forest "
   ]
  },
  {
   "cell_type": "markdown",
   "metadata": {},
   "source": [
    "Now, let us apply the same method using random forest instead. Fewer parameters are used in lieu of memory requirements is larger parameter space were to be used.    "
   ]
  },
  {
   "cell_type": "code",
   "execution_count": 72,
   "metadata": {},
   "outputs": [],
   "source": [
    "# Check if the variable exists\n",
    "if not exists('rf_gs.pickle'):\n",
    "    # Define n_estimators range\n",
    "    n_estimators = np.arange(10, 100, 20)\n",
    "\n",
    "    # Define min_sample_split range \n",
    "    min_samples_split = np.linspace(0.1, 1, 2, endpoint=True)\n",
    "\n",
    "    # Define parameters ranges \n",
    "    params = {'max_depth':['None']+[str(s) for s in np.arange(1, 51, 20)],\n",
    "              'min_samples_split':['2']+[str(s) for s in min_samples_split],\n",
    "              'n_estimators':[str(n) for n in n_estimators],\n",
    "              'n_jobs':['n_cpu'],\n",
    "              'random_state':['SEED']}\n",
    "\n",
    "    # Create a Custom_GridSearchCV instance\n",
    "    rf_gs = Custom_GridSearchCV('RandomForestClassifier', param_grid=params)\n",
    "else:\n",
    "    with open('rf_gs.pickle', 'rb') as f:\n",
    "        rf_gs = pickle.load(f)"
   ]
  },
  {
   "cell_type": "code",
   "execution_count": 73,
   "metadata": {},
   "outputs": [],
   "source": [
    "# Run cross-validation with recall as the primary scoring\n",
    "rprt, rp_df,_ = rf_gs.cross_validate(X_train_vec, y_train,\n",
    "                                                 vectorization=vec_labels)"
   ]
  },
  {
   "cell_type": "code",
   "execution_count": 74,
   "metadata": {},
   "outputs": [
    {
     "data": {
      "text/html": [
       "<div>\n",
       "<style scoped>\n",
       "    .dataframe tbody tr th:only-of-type {\n",
       "        vertical-align: middle;\n",
       "    }\n",
       "\n",
       "    .dataframe tbody tr th {\n",
       "        vertical-align: top;\n",
       "    }\n",
       "\n",
       "    .dataframe thead th {\n",
       "        text-align: right;\n",
       "    }\n",
       "</style>\n",
       "<table border=\"1\" class=\"dataframe\">\n",
       "  <thead>\n",
       "    <tr style=\"text-align: right;\">\n",
       "      <th></th>\n",
       "      <th>precision</th>\n",
       "      <th>accuracy</th>\n",
       "      <th>recall</th>\n",
       "      <th>f1</th>\n",
       "      <th>auc</th>\n",
       "      <th>roc_auc</th>\n",
       "    </tr>\n",
       "  </thead>\n",
       "  <tbody>\n",
       "    <tr>\n",
       "      <th>Embedding_train</th>\n",
       "      <td>0.999996</td>\n",
       "      <td>0.999997</td>\n",
       "      <td>0.999999</td>\n",
       "      <td>0.999997</td>\n",
       "      <td>1</td>\n",
       "      <td>0.999997</td>\n",
       "    </tr>\n",
       "    <tr>\n",
       "      <th>Count_train</th>\n",
       "      <td>0.998746</td>\n",
       "      <td>0.998918</td>\n",
       "      <td>0.999091</td>\n",
       "      <td>0.998919</td>\n",
       "      <td>0.999956</td>\n",
       "      <td>0.998918</td>\n",
       "    </tr>\n",
       "    <tr>\n",
       "      <th>TfIdf_train</th>\n",
       "      <td>0.998749</td>\n",
       "      <td>0.998873</td>\n",
       "      <td>0.998997</td>\n",
       "      <td>0.998873</td>\n",
       "      <td>0.999951</td>\n",
       "      <td>0.998873</td>\n",
       "    </tr>\n",
       "    <tr>\n",
       "      <th>TfIdf_cross_validate</th>\n",
       "      <td>0.821454</td>\n",
       "      <td>0.818134</td>\n",
       "      <td>0.812971</td>\n",
       "      <td>0.81719</td>\n",
       "      <td>0.900204</td>\n",
       "      <td>0.818134</td>\n",
       "    </tr>\n",
       "    <tr>\n",
       "      <th>Count_cross_validate</th>\n",
       "      <td>0.820892</td>\n",
       "      <td>0.817881</td>\n",
       "      <td>0.81319</td>\n",
       "      <td>0.817023</td>\n",
       "      <td>0.898092</td>\n",
       "      <td>0.817881</td>\n",
       "    </tr>\n",
       "    <tr>\n",
       "      <th>Embedding_cross_validate</th>\n",
       "      <td>0.802145</td>\n",
       "      <td>0.794627</td>\n",
       "      <td>0.782185</td>\n",
       "      <td>0.792039</td>\n",
       "      <td>0.875704</td>\n",
       "      <td>0.794627</td>\n",
       "    </tr>\n",
       "  </tbody>\n",
       "</table>\n",
       "</div>"
      ],
      "text/plain": [
       "                         precision  accuracy    recall        f1       auc  \\\n",
       "Embedding_train           0.999996  0.999997  0.999999  0.999997         1   \n",
       "Count_train               0.998746  0.998918  0.999091  0.998919  0.999956   \n",
       "TfIdf_train               0.998749  0.998873  0.998997  0.998873  0.999951   \n",
       "TfIdf_cross_validate      0.821454  0.818134  0.812971   0.81719  0.900204   \n",
       "Count_cross_validate      0.820892  0.817881   0.81319  0.817023  0.898092   \n",
       "Embedding_cross_validate  0.802145  0.794627  0.782185  0.792039  0.875704   \n",
       "\n",
       "                           roc_auc  \n",
       "Embedding_train           0.999997  \n",
       "Count_train               0.998918  \n",
       "TfIdf_train               0.998873  \n",
       "TfIdf_cross_validate      0.818134  \n",
       "Count_cross_validate      0.817881  \n",
       "Embedding_cross_validate  0.794627  "
      ]
     },
     "execution_count": 74,
     "metadata": {},
     "output_type": "execute_result"
    }
   ],
   "source": [
    "# Find training and validation metrics\n",
    "rf_gs_metrics_train,_,_ = prepare_metrics(rf_gs, train_val='train')\n",
    "rf_gs_metrics_valid,_,_ = prepare_metrics(rf_gs, train_val='cross_validate')\n",
    "\n",
    "# Combine metrics \n",
    "rf_gs_metrics = pd.concat([rf_gs_metrics_train,rf_gs_metrics_valid])\n",
    "\n",
    "# Rename dataset as 'dataset_train/validate'\n",
    "rf_gs_metrics.dataset = rf_gs_metrics.dataset+'_'+rf_gs_metrics.train_val\n",
    "\n",
    "# Create a placeholder dataframe to store the average values\n",
    "rf_gs_metrics_mean = pd.DataFrame(columns=rf_gs_metrics.metric.unique(),\n",
    "                                  index=rf_gs_metrics.dataset.unique())\n",
    "\n",
    "# Iterate through each row and column, aggregate values and take the mean\n",
    "for col in rf_gs_metrics_mean.columns:\n",
    "    for idx in rf_gs_metrics_mean.index:\n",
    "        avg = rf_gs_metrics.loc[(rf_gs_metrics.metric==col) & (rf_gs_metrics.dataset==idx),'value']\n",
    "        rf_gs_metrics_mean.loc[idx,col] = avg.mean()\n",
    "\n",
    "# Sort average metrics by recall, AUC and accuracy\n",
    "rf_gs_metrics_mean.sort_values(by=metrics,ascending=False)"
   ]
  },
  {
   "cell_type": "code",
   "execution_count": 116,
   "metadata": {},
   "outputs": [
    {
     "data": {
      "image/png": "[encoded data removed]",
      "text/plain": [
       "<Figure size 1080x432 with 2 Axes>"
      ]
     },
     "metadata": {
      "needs_background": "light"
     },
     "output_type": "display_data"
    },
    {
     "data": {
      "image/png": "[encoded data removed]",
      "text/plain": [
       "<Figure size 1080x864 with 2 Axes>"
      ]
     },
     "metadata": {
      "needs_background": "light"
     },
     "output_type": "display_data"
    }
   ],
   "source": [
    "# Plot the metrics for training and validation datasets\n",
    "plot_metrics(rf_gs)"
   ]
  },
  {
   "cell_type": "code",
   "execution_count": 110,
   "metadata": {},
   "outputs": [
    {
     "ename": "MemoryError",
     "evalue": "could not allocate 117440512 bytes",
     "output_type": "error",
     "traceback": [
      "\u001b[1;31m---------------------------------------------------------------------------\u001b[0m",
      "\u001b[1;31mMemoryError\u001b[0m                               Traceback (most recent call last)",
      "\u001b[1;32m<ipython-input-110-49f1f06afc1e>\u001b[0m in \u001b[0;36m<module>\u001b[1;34m\u001b[0m\n\u001b[0;32m      1\u001b[0m \u001b[1;31m# Fit grid search models with the best training dataset\u001b[0m\u001b[1;33m\u001b[0m\u001b[1;33m\u001b[0m\u001b[1;33m\u001b[0m\u001b[0m\n\u001b[0;32m      2\u001b[0m \u001b[1;31m# Specifying count to have better accuracy values\u001b[0m\u001b[1;33m\u001b[0m\u001b[1;33m\u001b[0m\u001b[1;33m\u001b[0m\u001b[0m\n\u001b[1;32m----> 3\u001b[1;33m \u001b[0mrf_gs\u001b[0m\u001b[1;33m.\u001b[0m\u001b[0mfit\u001b[0m\u001b[1;33m(\u001b[0m\u001b[0mX_train_vec\u001b[0m\u001b[1;33m[\u001b[0m\u001b[1;36m1\u001b[0m\u001b[1;33m]\u001b[0m\u001b[1;33m,\u001b[0m \u001b[0my_train\u001b[0m\u001b[1;33m)\u001b[0m\u001b[1;33m\u001b[0m\u001b[1;33m\u001b[0m\u001b[0m\n\u001b[0m",
      "\u001b[1;32m<ipython-input-51-b165c5a6a1ed>\u001b[0m in \u001b[0;36mfit\u001b[1;34m(self, X, y)\u001b[0m\n\u001b[0;32m    101\u001b[0m             \u001b[1;32mfor\u001b[0m \u001b[0mmodel\u001b[0m \u001b[1;32min\u001b[0m \u001b[0mself\u001b[0m\u001b[1;33m.\u001b[0m\u001b[0mmodels\u001b[0m\u001b[1;33m:\u001b[0m\u001b[1;33m\u001b[0m\u001b[1;33m\u001b[0m\u001b[0m\n\u001b[0;32m    102\u001b[0m                 \u001b[1;31m# Iterate through each model and fit training data\u001b[0m\u001b[1;33m\u001b[0m\u001b[1;33m\u001b[0m\u001b[1;33m\u001b[0m\u001b[0m\n\u001b[1;32m--> 103\u001b[1;33m                 \u001b[0mmodel\u001b[0m\u001b[1;33m.\u001b[0m\u001b[0mfit\u001b[0m\u001b[1;33m(\u001b[0m\u001b[0mX\u001b[0m\u001b[1;33m,\u001b[0m \u001b[0my\u001b[0m\u001b[1;33m)\u001b[0m\u001b[1;33m\u001b[0m\u001b[1;33m\u001b[0m\u001b[0m\n\u001b[0m\u001b[0;32m    104\u001b[0m             \u001b[1;31m# Set 'fitted' to True\u001b[0m\u001b[1;33m\u001b[0m\u001b[1;33m\u001b[0m\u001b[1;33m\u001b[0m\u001b[0m\n\u001b[0;32m    105\u001b[0m             \u001b[0mself\u001b[0m\u001b[1;33m.\u001b[0m\u001b[0mfitted\u001b[0m \u001b[1;33m=\u001b[0m \u001b[1;32mTrue\u001b[0m\u001b[1;33m\u001b[0m\u001b[1;33m\u001b[0m\u001b[0m\n",
      "\u001b[1;32m~\\Anaconda3\\envs\\learn-env\\lib\\site-packages\\sklearn\\ensemble\\_forest.py\u001b[0m in \u001b[0;36mfit\u001b[1;34m(self, X, y, sample_weight)\u001b[0m\n\u001b[0;32m    384\u001b[0m             \u001b[1;31m# parallel_backend contexts set at a higher level,\u001b[0m\u001b[1;33m\u001b[0m\u001b[1;33m\u001b[0m\u001b[1;33m\u001b[0m\u001b[0m\n\u001b[0;32m    385\u001b[0m             \u001b[1;31m# since correctness does not rely on using threads.\u001b[0m\u001b[1;33m\u001b[0m\u001b[1;33m\u001b[0m\u001b[1;33m\u001b[0m\u001b[0m\n\u001b[1;32m--> 386\u001b[1;33m             trees = Parallel(n_jobs=self.n_jobs, verbose=self.verbose,\n\u001b[0m\u001b[0;32m    387\u001b[0m                              \u001b[1;33m**\u001b[0m\u001b[0m_joblib_parallel_args\u001b[0m\u001b[1;33m(\u001b[0m\u001b[0mprefer\u001b[0m\u001b[1;33m=\u001b[0m\u001b[1;34m'threads'\u001b[0m\u001b[1;33m)\u001b[0m\u001b[1;33m)\u001b[0m\u001b[1;33m(\u001b[0m\u001b[1;33m\u001b[0m\u001b[1;33m\u001b[0m\u001b[0m\n\u001b[0;32m    388\u001b[0m                 delayed(_parallel_build_trees)(\n",
      "\u001b[1;32m~\\Anaconda3\\envs\\learn-env\\lib\\site-packages\\joblib\\parallel.py\u001b[0m in \u001b[0;36m__call__\u001b[1;34m(self, iterable)\u001b[0m\n\u001b[0;32m   1059\u001b[0m \u001b[1;33m\u001b[0m\u001b[0m\n\u001b[0;32m   1060\u001b[0m             \u001b[1;32mwith\u001b[0m \u001b[0mself\u001b[0m\u001b[1;33m.\u001b[0m\u001b[0m_backend\u001b[0m\u001b[1;33m.\u001b[0m\u001b[0mretrieval_context\u001b[0m\u001b[1;33m(\u001b[0m\u001b[1;33m)\u001b[0m\u001b[1;33m:\u001b[0m\u001b[1;33m\u001b[0m\u001b[1;33m\u001b[0m\u001b[0m\n\u001b[1;32m-> 1061\u001b[1;33m                 \u001b[0mself\u001b[0m\u001b[1;33m.\u001b[0m\u001b[0mretrieve\u001b[0m\u001b[1;33m(\u001b[0m\u001b[1;33m)\u001b[0m\u001b[1;33m\u001b[0m\u001b[1;33m\u001b[0m\u001b[0m\n\u001b[0m\u001b[0;32m   1062\u001b[0m             \u001b[1;31m# Make sure that we get a last message telling us we are done\u001b[0m\u001b[1;33m\u001b[0m\u001b[1;33m\u001b[0m\u001b[1;33m\u001b[0m\u001b[0m\n\u001b[0;32m   1063\u001b[0m             \u001b[0melapsed_time\u001b[0m \u001b[1;33m=\u001b[0m \u001b[0mtime\u001b[0m\u001b[1;33m.\u001b[0m\u001b[0mtime\u001b[0m\u001b[1;33m(\u001b[0m\u001b[1;33m)\u001b[0m \u001b[1;33m-\u001b[0m \u001b[0mself\u001b[0m\u001b[1;33m.\u001b[0m\u001b[0m_start_time\u001b[0m\u001b[1;33m\u001b[0m\u001b[1;33m\u001b[0m\u001b[0m\n",
      "\u001b[1;32m~\\Anaconda3\\envs\\learn-env\\lib\\site-packages\\joblib\\parallel.py\u001b[0m in \u001b[0;36mretrieve\u001b[1;34m(self)\u001b[0m\n\u001b[0;32m    938\u001b[0m             \u001b[1;32mtry\u001b[0m\u001b[1;33m:\u001b[0m\u001b[1;33m\u001b[0m\u001b[1;33m\u001b[0m\u001b[0m\n\u001b[0;32m    939\u001b[0m                 \u001b[1;32mif\u001b[0m \u001b[0mgetattr\u001b[0m\u001b[1;33m(\u001b[0m\u001b[0mself\u001b[0m\u001b[1;33m.\u001b[0m\u001b[0m_backend\u001b[0m\u001b[1;33m,\u001b[0m \u001b[1;34m'supports_timeout'\u001b[0m\u001b[1;33m,\u001b[0m \u001b[1;32mFalse\u001b[0m\u001b[1;33m)\u001b[0m\u001b[1;33m:\u001b[0m\u001b[1;33m\u001b[0m\u001b[1;33m\u001b[0m\u001b[0m\n\u001b[1;32m--> 940\u001b[1;33m                     \u001b[0mself\u001b[0m\u001b[1;33m.\u001b[0m\u001b[0m_output\u001b[0m\u001b[1;33m.\u001b[0m\u001b[0mextend\u001b[0m\u001b[1;33m(\u001b[0m\u001b[0mjob\u001b[0m\u001b[1;33m.\u001b[0m\u001b[0mget\u001b[0m\u001b[1;33m(\u001b[0m\u001b[0mtimeout\u001b[0m\u001b[1;33m=\u001b[0m\u001b[0mself\u001b[0m\u001b[1;33m.\u001b[0m\u001b[0mtimeout\u001b[0m\u001b[1;33m)\u001b[0m\u001b[1;33m)\u001b[0m\u001b[1;33m\u001b[0m\u001b[1;33m\u001b[0m\u001b[0m\n\u001b[0m\u001b[0;32m    941\u001b[0m                 \u001b[1;32melse\u001b[0m\u001b[1;33m:\u001b[0m\u001b[1;33m\u001b[0m\u001b[1;33m\u001b[0m\u001b[0m\n\u001b[0;32m    942\u001b[0m                     \u001b[0mself\u001b[0m\u001b[1;33m.\u001b[0m\u001b[0m_output\u001b[0m\u001b[1;33m.\u001b[0m\u001b[0mextend\u001b[0m\u001b[1;33m(\u001b[0m\u001b[0mjob\u001b[0m\u001b[1;33m.\u001b[0m\u001b[0mget\u001b[0m\u001b[1;33m(\u001b[0m\u001b[1;33m)\u001b[0m\u001b[1;33m)\u001b[0m\u001b[1;33m\u001b[0m\u001b[1;33m\u001b[0m\u001b[0m\n",
      "\u001b[1;32m~\\Anaconda3\\envs\\learn-env\\lib\\multiprocessing\\pool.py\u001b[0m in \u001b[0;36mget\u001b[1;34m(self, timeout)\u001b[0m\n\u001b[0;32m    769\u001b[0m             \u001b[1;32mreturn\u001b[0m \u001b[0mself\u001b[0m\u001b[1;33m.\u001b[0m\u001b[0m_value\u001b[0m\u001b[1;33m\u001b[0m\u001b[1;33m\u001b[0m\u001b[0m\n\u001b[0;32m    770\u001b[0m         \u001b[1;32melse\u001b[0m\u001b[1;33m:\u001b[0m\u001b[1;33m\u001b[0m\u001b[1;33m\u001b[0m\u001b[0m\n\u001b[1;32m--> 771\u001b[1;33m             \u001b[1;32mraise\u001b[0m \u001b[0mself\u001b[0m\u001b[1;33m.\u001b[0m\u001b[0m_value\u001b[0m\u001b[1;33m\u001b[0m\u001b[1;33m\u001b[0m\u001b[0m\n\u001b[0m\u001b[0;32m    772\u001b[0m \u001b[1;33m\u001b[0m\u001b[0m\n\u001b[0;32m    773\u001b[0m     \u001b[1;32mdef\u001b[0m \u001b[0m_set\u001b[0m\u001b[1;33m(\u001b[0m\u001b[0mself\u001b[0m\u001b[1;33m,\u001b[0m \u001b[0mi\u001b[0m\u001b[1;33m,\u001b[0m \u001b[0mobj\u001b[0m\u001b[1;33m)\u001b[0m\u001b[1;33m:\u001b[0m\u001b[1;33m\u001b[0m\u001b[1;33m\u001b[0m\u001b[0m\n",
      "\u001b[1;32m~\\Anaconda3\\envs\\learn-env\\lib\\multiprocessing\\pool.py\u001b[0m in \u001b[0;36mworker\u001b[1;34m(inqueue, outqueue, initializer, initargs, maxtasks, wrap_exception)\u001b[0m\n\u001b[0;32m    123\u001b[0m         \u001b[0mjob\u001b[0m\u001b[1;33m,\u001b[0m \u001b[0mi\u001b[0m\u001b[1;33m,\u001b[0m \u001b[0mfunc\u001b[0m\u001b[1;33m,\u001b[0m \u001b[0margs\u001b[0m\u001b[1;33m,\u001b[0m \u001b[0mkwds\u001b[0m \u001b[1;33m=\u001b[0m \u001b[0mtask\u001b[0m\u001b[1;33m\u001b[0m\u001b[1;33m\u001b[0m\u001b[0m\n\u001b[0;32m    124\u001b[0m         \u001b[1;32mtry\u001b[0m\u001b[1;33m:\u001b[0m\u001b[1;33m\u001b[0m\u001b[1;33m\u001b[0m\u001b[0m\n\u001b[1;32m--> 125\u001b[1;33m             \u001b[0mresult\u001b[0m \u001b[1;33m=\u001b[0m \u001b[1;33m(\u001b[0m\u001b[1;32mTrue\u001b[0m\u001b[1;33m,\u001b[0m \u001b[0mfunc\u001b[0m\u001b[1;33m(\u001b[0m\u001b[1;33m*\u001b[0m\u001b[0margs\u001b[0m\u001b[1;33m,\u001b[0m \u001b[1;33m**\u001b[0m\u001b[0mkwds\u001b[0m\u001b[1;33m)\u001b[0m\u001b[1;33m)\u001b[0m\u001b[1;33m\u001b[0m\u001b[1;33m\u001b[0m\u001b[0m\n\u001b[0m\u001b[0;32m    126\u001b[0m         \u001b[1;32mexcept\u001b[0m \u001b[0mException\u001b[0m \u001b[1;32mas\u001b[0m \u001b[0me\u001b[0m\u001b[1;33m:\u001b[0m\u001b[1;33m\u001b[0m\u001b[1;33m\u001b[0m\u001b[0m\n\u001b[0;32m    127\u001b[0m             \u001b[1;32mif\u001b[0m \u001b[0mwrap_exception\u001b[0m \u001b[1;32mand\u001b[0m \u001b[0mfunc\u001b[0m \u001b[1;32mis\u001b[0m \u001b[1;32mnot\u001b[0m \u001b[0m_helper_reraises_exception\u001b[0m\u001b[1;33m:\u001b[0m\u001b[1;33m\u001b[0m\u001b[1;33m\u001b[0m\u001b[0m\n",
      "\u001b[1;32m~\\Anaconda3\\envs\\learn-env\\lib\\site-packages\\joblib\\_parallel_backends.py\u001b[0m in \u001b[0;36m__call__\u001b[1;34m(self, *args, **kwargs)\u001b[0m\n\u001b[0;32m    593\u001b[0m     \u001b[1;32mdef\u001b[0m \u001b[0m__call__\u001b[0m\u001b[1;33m(\u001b[0m\u001b[0mself\u001b[0m\u001b[1;33m,\u001b[0m \u001b[1;33m*\u001b[0m\u001b[0margs\u001b[0m\u001b[1;33m,\u001b[0m \u001b[1;33m**\u001b[0m\u001b[0mkwargs\u001b[0m\u001b[1;33m)\u001b[0m\u001b[1;33m:\u001b[0m\u001b[1;33m\u001b[0m\u001b[1;33m\u001b[0m\u001b[0m\n\u001b[0;32m    594\u001b[0m         \u001b[1;32mtry\u001b[0m\u001b[1;33m:\u001b[0m\u001b[1;33m\u001b[0m\u001b[1;33m\u001b[0m\u001b[0m\n\u001b[1;32m--> 595\u001b[1;33m             \u001b[1;32mreturn\u001b[0m \u001b[0mself\u001b[0m\u001b[1;33m.\u001b[0m\u001b[0mfunc\u001b[0m\u001b[1;33m(\u001b[0m\u001b[1;33m*\u001b[0m\u001b[0margs\u001b[0m\u001b[1;33m,\u001b[0m \u001b[1;33m**\u001b[0m\u001b[0mkwargs\u001b[0m\u001b[1;33m)\u001b[0m\u001b[1;33m\u001b[0m\u001b[1;33m\u001b[0m\u001b[0m\n\u001b[0m\u001b[0;32m    596\u001b[0m         \u001b[1;32mexcept\u001b[0m \u001b[0mKeyboardInterrupt\u001b[0m \u001b[1;32mas\u001b[0m \u001b[0me\u001b[0m\u001b[1;33m:\u001b[0m\u001b[1;33m\u001b[0m\u001b[1;33m\u001b[0m\u001b[0m\n\u001b[0;32m    597\u001b[0m             \u001b[1;31m# We capture the KeyboardInterrupt and reraise it as\u001b[0m\u001b[1;33m\u001b[0m\u001b[1;33m\u001b[0m\u001b[1;33m\u001b[0m\u001b[0m\n",
      "\u001b[1;32m~\\Anaconda3\\envs\\learn-env\\lib\\site-packages\\joblib\\parallel.py\u001b[0m in \u001b[0;36m__call__\u001b[1;34m(self)\u001b[0m\n\u001b[0;32m    260\u001b[0m         \u001b[1;31m# change the default number of processes to -1\u001b[0m\u001b[1;33m\u001b[0m\u001b[1;33m\u001b[0m\u001b[1;33m\u001b[0m\u001b[0m\n\u001b[0;32m    261\u001b[0m         \u001b[1;32mwith\u001b[0m \u001b[0mparallel_backend\u001b[0m\u001b[1;33m(\u001b[0m\u001b[0mself\u001b[0m\u001b[1;33m.\u001b[0m\u001b[0m_backend\u001b[0m\u001b[1;33m,\u001b[0m \u001b[0mn_jobs\u001b[0m\u001b[1;33m=\u001b[0m\u001b[0mself\u001b[0m\u001b[1;33m.\u001b[0m\u001b[0m_n_jobs\u001b[0m\u001b[1;33m)\u001b[0m\u001b[1;33m:\u001b[0m\u001b[1;33m\u001b[0m\u001b[1;33m\u001b[0m\u001b[0m\n\u001b[1;32m--> 262\u001b[1;33m             return [func(*args, **kwargs)\n\u001b[0m\u001b[0;32m    263\u001b[0m                     for func, args, kwargs in self.items]\n\u001b[0;32m    264\u001b[0m \u001b[1;33m\u001b[0m\u001b[0m\n",
      "\u001b[1;32m~\\Anaconda3\\envs\\learn-env\\lib\\site-packages\\joblib\\parallel.py\u001b[0m in \u001b[0;36m<listcomp>\u001b[1;34m(.0)\u001b[0m\n\u001b[0;32m    260\u001b[0m         \u001b[1;31m# change the default number of processes to -1\u001b[0m\u001b[1;33m\u001b[0m\u001b[1;33m\u001b[0m\u001b[1;33m\u001b[0m\u001b[0m\n\u001b[0;32m    261\u001b[0m         \u001b[1;32mwith\u001b[0m \u001b[0mparallel_backend\u001b[0m\u001b[1;33m(\u001b[0m\u001b[0mself\u001b[0m\u001b[1;33m.\u001b[0m\u001b[0m_backend\u001b[0m\u001b[1;33m,\u001b[0m \u001b[0mn_jobs\u001b[0m\u001b[1;33m=\u001b[0m\u001b[0mself\u001b[0m\u001b[1;33m.\u001b[0m\u001b[0m_n_jobs\u001b[0m\u001b[1;33m)\u001b[0m\u001b[1;33m:\u001b[0m\u001b[1;33m\u001b[0m\u001b[1;33m\u001b[0m\u001b[0m\n\u001b[1;32m--> 262\u001b[1;33m             return [func(*args, **kwargs)\n\u001b[0m\u001b[0;32m    263\u001b[0m                     for func, args, kwargs in self.items]\n\u001b[0;32m    264\u001b[0m \u001b[1;33m\u001b[0m\u001b[0m\n",
      "\u001b[1;32m~\\Anaconda3\\envs\\learn-env\\lib\\site-packages\\sklearn\\ensemble\\_forest.py\u001b[0m in \u001b[0;36m_parallel_build_trees\u001b[1;34m(tree, forest, X, y, sample_weight, tree_idx, n_trees, verbose, class_weight, n_samples_bootstrap)\u001b[0m\n\u001b[0;32m    166\u001b[0m                                                         indices=indices)\n\u001b[0;32m    167\u001b[0m \u001b[1;33m\u001b[0m\u001b[0m\n\u001b[1;32m--> 168\u001b[1;33m         \u001b[0mtree\u001b[0m\u001b[1;33m.\u001b[0m\u001b[0mfit\u001b[0m\u001b[1;33m(\u001b[0m\u001b[0mX\u001b[0m\u001b[1;33m,\u001b[0m \u001b[0my\u001b[0m\u001b[1;33m,\u001b[0m \u001b[0msample_weight\u001b[0m\u001b[1;33m=\u001b[0m\u001b[0mcurr_sample_weight\u001b[0m\u001b[1;33m,\u001b[0m \u001b[0mcheck_input\u001b[0m\u001b[1;33m=\u001b[0m\u001b[1;32mFalse\u001b[0m\u001b[1;33m)\u001b[0m\u001b[1;33m\u001b[0m\u001b[1;33m\u001b[0m\u001b[0m\n\u001b[0m\u001b[0;32m    169\u001b[0m     \u001b[1;32melse\u001b[0m\u001b[1;33m:\u001b[0m\u001b[1;33m\u001b[0m\u001b[1;33m\u001b[0m\u001b[0m\n\u001b[0;32m    170\u001b[0m         \u001b[0mtree\u001b[0m\u001b[1;33m.\u001b[0m\u001b[0mfit\u001b[0m\u001b[1;33m(\u001b[0m\u001b[0mX\u001b[0m\u001b[1;33m,\u001b[0m \u001b[0my\u001b[0m\u001b[1;33m,\u001b[0m \u001b[0msample_weight\u001b[0m\u001b[1;33m=\u001b[0m\u001b[0msample_weight\u001b[0m\u001b[1;33m,\u001b[0m \u001b[0mcheck_input\u001b[0m\u001b[1;33m=\u001b[0m\u001b[1;32mFalse\u001b[0m\u001b[1;33m)\u001b[0m\u001b[1;33m\u001b[0m\u001b[1;33m\u001b[0m\u001b[0m\n",
      "\u001b[1;32m~\\Anaconda3\\envs\\learn-env\\lib\\site-packages\\sklearn\\tree\\_classes.py\u001b[0m in \u001b[0;36mfit\u001b[1;34m(self, X, y, sample_weight, check_input, X_idx_sorted)\u001b[0m\n\u001b[0;32m    888\u001b[0m         \"\"\"\n\u001b[0;32m    889\u001b[0m \u001b[1;33m\u001b[0m\u001b[0m\n\u001b[1;32m--> 890\u001b[1;33m         super().fit(\n\u001b[0m\u001b[0;32m    891\u001b[0m             \u001b[0mX\u001b[0m\u001b[1;33m,\u001b[0m \u001b[0my\u001b[0m\u001b[1;33m,\u001b[0m\u001b[1;33m\u001b[0m\u001b[1;33m\u001b[0m\u001b[0m\n\u001b[0;32m    892\u001b[0m             \u001b[0msample_weight\u001b[0m\u001b[1;33m=\u001b[0m\u001b[0msample_weight\u001b[0m\u001b[1;33m,\u001b[0m\u001b[1;33m\u001b[0m\u001b[1;33m\u001b[0m\u001b[0m\n",
      "\u001b[1;32m~\\Anaconda3\\envs\\learn-env\\lib\\site-packages\\sklearn\\tree\\_classes.py\u001b[0m in \u001b[0;36mfit\u001b[1;34m(self, X, y, sample_weight, check_input, X_idx_sorted)\u001b[0m\n\u001b[0;32m    373\u001b[0m                                            min_impurity_split)\n\u001b[0;32m    374\u001b[0m \u001b[1;33m\u001b[0m\u001b[0m\n\u001b[1;32m--> 375\u001b[1;33m         \u001b[0mbuilder\u001b[0m\u001b[1;33m.\u001b[0m\u001b[0mbuild\u001b[0m\u001b[1;33m(\u001b[0m\u001b[0mself\u001b[0m\u001b[1;33m.\u001b[0m\u001b[0mtree_\u001b[0m\u001b[1;33m,\u001b[0m \u001b[0mX\u001b[0m\u001b[1;33m,\u001b[0m \u001b[0my\u001b[0m\u001b[1;33m,\u001b[0m \u001b[0msample_weight\u001b[0m\u001b[1;33m,\u001b[0m \u001b[0mX_idx_sorted\u001b[0m\u001b[1;33m)\u001b[0m\u001b[1;33m\u001b[0m\u001b[1;33m\u001b[0m\u001b[0m\n\u001b[0m\u001b[0;32m    376\u001b[0m \u001b[1;33m\u001b[0m\u001b[0m\n\u001b[0;32m    377\u001b[0m         \u001b[1;32mif\u001b[0m \u001b[0mself\u001b[0m\u001b[1;33m.\u001b[0m\u001b[0mn_outputs_\u001b[0m \u001b[1;33m==\u001b[0m \u001b[1;36m1\u001b[0m \u001b[1;32mand\u001b[0m \u001b[0mis_classifier\u001b[0m\u001b[1;33m(\u001b[0m\u001b[0mself\u001b[0m\u001b[1;33m)\u001b[0m\u001b[1;33m:\u001b[0m\u001b[1;33m\u001b[0m\u001b[1;33m\u001b[0m\u001b[0m\n",
      "\u001b[1;32msklearn\\tree\\_tree.pyx\u001b[0m in \u001b[0;36msklearn.tree._tree.DepthFirstTreeBuilder.build\u001b[1;34m()\u001b[0m\n",
      "\u001b[1;32msklearn\\tree\\_tree.pyx\u001b[0m in \u001b[0;36msklearn.tree._tree.DepthFirstTreeBuilder.build\u001b[1;34m()\u001b[0m\n",
      "\u001b[1;32msklearn\\tree\\_tree.pyx\u001b[0m in \u001b[0;36msklearn.tree._tree.Tree._add_node\u001b[1;34m()\u001b[0m\n",
      "\u001b[1;32msklearn\\tree\\_tree.pyx\u001b[0m in \u001b[0;36msklearn.tree._tree.Tree._resize_c\u001b[1;34m()\u001b[0m\n",
      "\u001b[1;32msklearn\\tree\\_utils.pyx\u001b[0m in \u001b[0;36msklearn.tree._utils.safe_realloc\u001b[1;34m()\u001b[0m\n",
      "\u001b[1;31mMemoryError\u001b[0m: could not allocate 117440512 bytes"
     ]
    }
   ],
   "source": [
    "# Fit grid search models with the best training dataset\n",
    "# Specifying count to have better accuracy values\n",
    "rf_gs.fit(X_train_vec[1], y_train)"
   ]
  },
  {
   "cell_type": "code",
   "execution_count": null,
   "metadata": {},
   "outputs": [],
   "source": [
    "# Predict test and training datasets \n",
    "# Also get the metrics of fit\n",
    "# Check if the models have not been predicted yet \n",
    "rf_gs.predictions = None\n",
    "if not isinstance(rf_gs.predictions, pd.DataFrame):\n",
    "    prep = Preprocess(transformer='count',max_df=0.979,min_df=0.0201)\n",
    "    rf_gs.predict(prep.transform(X_valid), y_valid, train_test='validate')\n",
    "    rf_gs.predict(X_train_vec[1], y_train, train_test='train')\n",
    "rf_gs.predictions.head()"
   ]
  },
  {
   "cell_type": "code",
   "execution_count": null,
   "metadata": {},
   "outputs": [],
   "source": [
    "# Remove models with recall=1 \n",
    "rf_gs.predictions = rf_gs.predictions.loc[rf_gs.predictions.recall>0]\n",
    "rf_gs.predictions.sort_values(by=['accuracy'], ascending=False).head()"
   ]
  },
  {
   "cell_type": "code",
   "execution_count": null,
   "metadata": {},
   "outputs": [],
   "source": [
    "# Plot metrics for predicted values\n",
    "plot_predictions(rf_gs, valid_test='validate')"
   ]
  },
  {
   "cell_type": "code",
   "execution_count": null,
   "metadata": {},
   "outputs": [],
   "source": [
    "# Find the best model and model metrics based on given metrics \n",
    "best_rf_model, best_rf_model_metrics = rf_gs.best_model(metrics=metrics, \n",
    "                                                        valid_test='validate')\n",
    "\n",
    "# Store best model \n",
    "# best_models.append(best_rf_model)\n",
    "\n",
    "# Store best model metrics \n",
    "# best_models_metrics = pd.DataFrame(best_rf_model_metrics).transpose()\n",
    "\n",
    "# Display best model parameters \n",
    "best_rf_model.get_params"
   ]
  },
  {
   "cell_type": "code",
   "execution_count": null,
   "metadata": {},
   "outputs": [],
   "source": [
    "# Best rf model metrics\n",
    "best_rf_model_metrics"
   ]
  },
  {
   "cell_type": "code",
   "execution_count": null,
   "metadata": {},
   "outputs": [],
   "source": [
    "# Confusion matrix \n",
    "prep = Preprocess(transformer='count',max_df=0.979,min_df=0.0201)\n",
    "plot_confusion_matrix(best_rf_model, prep.transform(X_valid), y_valid, \n",
    "                      normalize='true');"
   ]
  },
  {
   "cell_type": "code",
   "execution_count": 115,
   "metadata": {},
   "outputs": [],
   "source": [
    "if not exists('rf_gs.pickle'):\n",
    "    with open('rf_gs.pickle', 'wb') as f:    \n",
    "        pickle.dump(rf_gs, f)"
   ]
  },
  {
   "cell_type": "markdown",
   "metadata": {},
   "source": [
    "## Gradient Boosting"
   ]
  },
  {
   "cell_type": "markdown",
   "metadata": {},
   "source": [
    "### XGBoost"
   ]
  },
  {
   "cell_type": "markdown",
   "metadata": {},
   "source": [
    "### CatBoost"
   ]
  },
  {
   "cell_type": "markdown",
   "metadata": {},
   "source": [
    "## Sequence Models "
   ]
  },
  {
   "cell_type": "markdown",
   "metadata": {},
   "source": [
    "### Gated Recurrent Unit "
   ]
  },
  {
   "cell_type": "markdown",
   "metadata": {},
   "source": [
    "### Long Short Term Memory "
   ]
  },
  {
   "cell_type": "markdown",
   "metadata": {},
   "source": [
    "## Transformer Models"
   ]
  },
  {
   "cell_type": "markdown",
   "metadata": {},
   "source": [
    "### Bidirectional Encoder Representations from Transformers"
   ]
  },
  {
   "cell_type": "markdown",
   "metadata": {},
   "source": [
    "### Hugging Face"
   ]
  },
  {
   "cell_type": "markdown",
   "metadata": {},
   "source": [
    "# Evaluation "
   ]
  },
  {
   "cell_type": "markdown",
   "metadata": {},
   "source": [
    "## Models' Performances"
   ]
  },
  {
   "cell_type": "markdown",
   "metadata": {},
   "source": [
    "## Final Model"
   ]
  },
  {
   "cell_type": "markdown",
   "metadata": {},
   "source": [
    "## Model Interpretation "
   ]
  },
  {
   "cell_type": "markdown",
   "metadata": {},
   "source": [
    "## API Development "
   ]
  },
  {
   "cell_type": "markdown",
   "metadata": {},
   "source": [
    "## Web Deployment "
   ]
  },
  {
   "cell_type": "markdown",
   "metadata": {},
   "source": [
    "# Conclusion "
   ]
  },
  {
   "cell_type": "markdown",
   "metadata": {},
   "source": []
  },
  {
   "cell_type": "markdown",
   "metadata": {},
   "source": [
    "# Next Steps"
   ]
  },
  {
   "cell_type": "markdown",
   "metadata": {},
   "source": []
  }
 ],
 "metadata": {
  "kernelspec": {
   "display_name": "Python (learn-env)",
   "language": "python",
   "name": "learn-env"
  },
  "language_info": {
   "codemirror_mode": {
    "name": "ipython",
    "version": 3
   },
   "file_extension": ".py",
   "mimetype": "text/x-python",
   "name": "python",
   "nbconvert_exporter": "python",
   "pygments_lexer": "ipython3",
   "version": "3.8.5"
  },
  "toc": {
   "base_numbering": 1,
   "nav_menu": {},
   "number_sections": true,
   "sideBar": true,
   "skip_h1_title": false,
   "title_cell": "Table of Contents",
   "title_sidebar": "Contents",
   "toc_cell": true,
   "toc_position": {
    "height": "calc(100% - 180px)",
    "left": "10px",
    "top": "150px",
    "width": "307.2px"
   },
   "toc_section_display": true,
   "toc_window_display": true
  }
 },
 "nbformat": 4,
 "nbformat_minor": 4
}
